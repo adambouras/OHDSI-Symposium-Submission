{
  "cells": [
    {
      "cell_type": "markdown",
      "metadata": {
        "colab_type": "text",
        "id": "view-in-github"
      },
      "source": [
        "<a href=\"https://colab.research.google.com/github/adambouras/OHDSI-Symposium-Submission/blob/main/OHDSI_Submission_BERT_Similarity_Ranking.ipynb\" target=\"_parent\"><img src=\"https://colab.research.google.com/assets/colab-badge.svg\" alt=\"Open In Colab\"/></a>"
      ]
    },
    {
      "cell_type": "markdown",
      "metadata": {},
      "source": [
        "The aim of this project is to assess the similarities and differences that exits between assessment tools and questions for food insecurity that were identified by the Gravity Project (GP). These questions are divided into two groups; one group that has been used as <a href=\"https://www.hl7.org/fhir/\" target=\"_blank\">FHIR resources</a> and mapped to OMOP CDM **(Group A)**. The other group of questions are identified by the GP but **NOT** mapped to OMOP CDM nor identified as FHIR resources **(Group B)**. This project will help identify the level of difference and substitutability that may exit between Group A and Group B."
      ]
    },
    {
      "cell_type": "code",
      "execution_count": null,
      "metadata": {
        "id": "iRlxNN8F_2g3"
      },
      "outputs": [
        {
          "name": "stdout",
          "output_type": "stream",
          "text": [
            "huggingface/tokenizers: The current process just got forked, after parallelism has already been used. Disabling parallelism to avoid deadlocks...\n",
            "To disable this warning, you can either:\n",
            "\t- Avoid using `tokenizers` before the fork if possible\n",
            "\t- Explicitly set the environment variable TOKENIZERS_PARALLELISM=(true | false)\n"
          ]
        }
      ],
      "source": [
        "%%capture\n",
        "%pip install -r requirement.txt"
      ]
    },
    {
      "cell_type": "code",
      "execution_count": 87,
      "metadata": {
        "id": "s-idEmPqTTM_"
      },
      "outputs": [],
      "source": [
        "%%capture\n",
        "\n",
        "import pandas as pd\n",
        "import os\n",
        "import types\n",
        "import numpy as np\n",
        "import re\n",
        "from bertopic import *\n",
        "from pyxlsb import open_workbook\n",
        "import seaborn as sns\n",
        "from sentence_transformers import SentenceTransformer, util\n",
        "import plotly.express as px\n",
        "import plotly.graph_objects as go\n",
        "import pip\n",
        "from pyxlsb import open_workbook\n",
        "import pandas as pd\n",
        "import os\n",
        "import types\n",
        "import numpy as np\n",
        "import re\n",
        "from bertopic import BERTopic\n"
      ]
    },
    {
      "cell_type": "code",
      "execution_count": 5,
      "metadata": {},
      "outputs": [],
      "source": [
        "%%capture\n",
        "import session_info\n",
        "session_info.show()"
      ]
    },
    {
      "cell_type": "code",
      "execution_count": 14,
      "metadata": {},
      "outputs": [],
      "source": [
        "# Dataframe styling\n",
        "cell_hover = {  # for row hover use <tr> instead of <td>\n",
        "    'selector': 'td:hover',\n",
        "    'props': 'background-color: #ffffb3'\n",
        "    }\n",
        "index_names = {\n",
        "    'selector': '.index_name',\n",
        "    'props': 'font-style: italic; color: darkgrey; font-weight:normal;'\n",
        "}\n",
        "headers = {\n",
        "    'selector': 'th:not(.index_name)',\n",
        "    'props': 'background-color: #b30000; color: white; text-align: center'\n",
        "}\n",
        "cell_align = {\n",
        "        'selector': 'td',\n",
        "        'props': 'text-align: left'\n",
        "              }"
      ]
    },
    {
      "cell_type": "markdown",
      "metadata": {
        "id": "Kg4Yf_HzFSOd"
      },
      "source": [
        "For this project, I used the [Hugging Face](https://huggingface.co/sentence-transformers/all-MiniLM-L6-v2) open source BERT Model to construct and build the algorithm. The model provides sentence similarity by mapping sentences and paragraphs to a 384 dimensional dense vector space and that can be used for tasks like clustering or sementic search. The training data set contains a total number of sentence pairs above 1 billion sentences. \n",
        "![Algorithm used to identify the questions similarities](./img/OHDSI-BERT%20Ranking.jpg)"
      ]
    },
    {
      "cell_type": "markdown",
      "metadata": {},
      "source": [
        "We started our project by reading the excel file from the github repo. the orginal [excel file](https://confluence.hl7.org/download/attachments/91994432/05142021%20Food%20Insecurity%20MASTER.xlsx?api=v2) was dwonloaded from [GP website](https://confluence.hl7.org/display/GRAV/Food+Insecurity). We conduct manual mapping of the assessment tool questions to [OMOP CDM using Athena](https://athena.ohdsi.org/search-terms/start). We created additional columns to report whether the questions [LOINC Codes](https://loinc.org/get-started/what-loinc-is/) was mapped or not. The final [excel file](08.31.2023%20Food%20Insecurity%20Screening%20SDOH%20Gravity%20Project.xlsx) is included in the github repostory of this project."
      ]
    },
    {
      "cell_type": "code",
      "execution_count": 22,
      "metadata": {
        "id": "FRZB4qRyZ7Rl"
      },
      "outputs": [
        {
          "ename": "FileNotFoundError",
          "evalue": "[Errno 2] No such file or directory: '$HOME/OHDSI-Symposium-Submission/raw/main/08.31.2023%20Food%20Insecurity%20Screening%20SDOH%20Gravity%20Project.xlsx'",
          "output_type": "error",
          "traceback": [
            "\u001b[0;31m---------------------------------------------------------------------------\u001b[0m",
            "\u001b[0;31mFileNotFoundError\u001b[0m                         Traceback (most recent call last)",
            "\u001b[1;32m/Users/adambouras/OHDSI/ohdsi-3115-sym/OHDSI-Symposium-Submission/OHDSI_Submission_BERT_Similarity_Ranking.ipynb Cell 9\u001b[0m line \u001b[0;36m1\n\u001b[0;32m----> <a href='vscode-notebook-cell:/Users/adambouras/OHDSI/ohdsi-3115-sym/OHDSI-Symposium-Submission/OHDSI_Submission_BERT_Similarity_Ranking.ipynb#X10sZmlsZQ%3D%3D?line=0'>1</a>\u001b[0m xls \u001b[39m=\u001b[39m pd\u001b[39m.\u001b[39;49mExcelFile(\u001b[39m\"\u001b[39;49m\u001b[39m$HOME/OHDSI-Symposium-Submission/raw/main/08.31.2023\u001b[39;49m\u001b[39m%20F\u001b[39;49;00m\u001b[39mood\u001b[39;49m\u001b[39m%\u001b[39;49m\u001b[39m20Insecurity\u001b[39;49m\u001b[39m%\u001b[39;49m\u001b[39m20Screening\u001b[39;49m\u001b[39m%\u001b[39;49m\u001b[39m20SDOH\u001b[39;49m\u001b[39m%20G\u001b[39;49;00m\u001b[39mravity\u001b[39;49m\u001b[39m%\u001b[39;49m\u001b[39m20Project.xlsx\u001b[39;49m\u001b[39m\"\u001b[39;49m)\n",
            "File \u001b[0;32m~/.pyenv/versions/3.11.5/envs/ohdsi-3115-sym/lib/python3.11/site-packages/pandas/io/excel/_base.py:1496\u001b[0m, in \u001b[0;36mExcelFile.__init__\u001b[0;34m(self, path_or_buffer, engine, storage_options)\u001b[0m\n\u001b[1;32m   1494\u001b[0m     ext \u001b[39m=\u001b[39m \u001b[39m\"\u001b[39m\u001b[39mxls\u001b[39m\u001b[39m\"\u001b[39m\n\u001b[1;32m   1495\u001b[0m \u001b[39melse\u001b[39;00m:\n\u001b[0;32m-> 1496\u001b[0m     ext \u001b[39m=\u001b[39m inspect_excel_format(\n\u001b[1;32m   1497\u001b[0m         content_or_path\u001b[39m=\u001b[39;49mpath_or_buffer, storage_options\u001b[39m=\u001b[39;49mstorage_options\n\u001b[1;32m   1498\u001b[0m     )\n\u001b[1;32m   1499\u001b[0m     \u001b[39mif\u001b[39;00m ext \u001b[39mis\u001b[39;00m \u001b[39mNone\u001b[39;00m:\n\u001b[1;32m   1500\u001b[0m         \u001b[39mraise\u001b[39;00m \u001b[39mValueError\u001b[39;00m(\n\u001b[1;32m   1501\u001b[0m             \u001b[39m\"\u001b[39m\u001b[39mExcel file format cannot be determined, you must specify \u001b[39m\u001b[39m\"\u001b[39m\n\u001b[1;32m   1502\u001b[0m             \u001b[39m\"\u001b[39m\u001b[39man engine manually.\u001b[39m\u001b[39m\"\u001b[39m\n\u001b[1;32m   1503\u001b[0m         )\n",
            "File \u001b[0;32m~/.pyenv/versions/3.11.5/envs/ohdsi-3115-sym/lib/python3.11/site-packages/pandas/io/excel/_base.py:1371\u001b[0m, in \u001b[0;36minspect_excel_format\u001b[0;34m(content_or_path, storage_options)\u001b[0m\n\u001b[1;32m   1368\u001b[0m \u001b[39mif\u001b[39;00m \u001b[39misinstance\u001b[39m(content_or_path, \u001b[39mbytes\u001b[39m):\n\u001b[1;32m   1369\u001b[0m     content_or_path \u001b[39m=\u001b[39m BytesIO(content_or_path)\n\u001b[0;32m-> 1371\u001b[0m \u001b[39mwith\u001b[39;00m get_handle(\n\u001b[1;32m   1372\u001b[0m     content_or_path, \u001b[39m\"\u001b[39;49m\u001b[39mrb\u001b[39;49m\u001b[39m\"\u001b[39;49m, storage_options\u001b[39m=\u001b[39;49mstorage_options, is_text\u001b[39m=\u001b[39;49m\u001b[39mFalse\u001b[39;49;00m\n\u001b[1;32m   1373\u001b[0m ) \u001b[39mas\u001b[39;00m handle:\n\u001b[1;32m   1374\u001b[0m     stream \u001b[39m=\u001b[39m handle\u001b[39m.\u001b[39mhandle\n\u001b[1;32m   1375\u001b[0m     stream\u001b[39m.\u001b[39mseek(\u001b[39m0\u001b[39m)\n",
            "File \u001b[0;32m~/.pyenv/versions/3.11.5/envs/ohdsi-3115-sym/lib/python3.11/site-packages/pandas/io/common.py:868\u001b[0m, in \u001b[0;36mget_handle\u001b[0;34m(path_or_buf, mode, encoding, compression, memory_map, is_text, errors, storage_options)\u001b[0m\n\u001b[1;32m    859\u001b[0m         handle \u001b[39m=\u001b[39m \u001b[39mopen\u001b[39m(\n\u001b[1;32m    860\u001b[0m             handle,\n\u001b[1;32m    861\u001b[0m             ioargs\u001b[39m.\u001b[39mmode,\n\u001b[0;32m   (...)\u001b[0m\n\u001b[1;32m    864\u001b[0m             newline\u001b[39m=\u001b[39m\u001b[39m\"\u001b[39m\u001b[39m\"\u001b[39m,\n\u001b[1;32m    865\u001b[0m         )\n\u001b[1;32m    866\u001b[0m     \u001b[39melse\u001b[39;00m:\n\u001b[1;32m    867\u001b[0m         \u001b[39m# Binary mode\u001b[39;00m\n\u001b[0;32m--> 868\u001b[0m         handle \u001b[39m=\u001b[39m \u001b[39mopen\u001b[39;49m(handle, ioargs\u001b[39m.\u001b[39;49mmode)\n\u001b[1;32m    869\u001b[0m     handles\u001b[39m.\u001b[39mappend(handle)\n\u001b[1;32m    871\u001b[0m \u001b[39m# Convert BytesIO or file objects passed with an encoding\u001b[39;00m\n",
            "\u001b[0;31mFileNotFoundError\u001b[0m: [Errno 2] No such file or directory: '$HOME/OHDSI-Symposium-Submission/raw/main/08.31.2023%20Food%20Insecurity%20Screening%20SDOH%20Gravity%20Project.xlsx'"
          ]
        }
      ],
      "source": [
        "xls = pd.ExcelFile(\"https://github.com/adambouras/OHDSI-Symposium-Submission/raw/main/08.31.2023%20Food%20Insecurity%20Screening%20SDOH%20Gravity%20Project.xlsx\")"
      ]
    },
    {
      "cell_type": "code",
      "execution_count": 16,
      "metadata": {
        "colab": {
          "base_uri": "https://localhost:8080/"
        },
        "id": "UCVG1b3pgP34",
        "outputId": "c43fba53-d029-456e-d626-a3260b44f040"
      },
      "outputs": [
        {
          "data": {
            "text/plain": [
              "['Program Definitions',\n",
              " 'Programs',\n",
              " 'Screening Questions-Answers',\n",
              " 'Diagnoses-Assessed Needs',\n",
              " 'Interventions Planned-Completed',\n",
              " 'Interventions CPT HCPCS',\n",
              " 'Message and Task Related Codes',\n",
              " 'Answer Codes',\n",
              " 'Goals']"
            ]
          },
          "execution_count": 16,
          "metadata": {},
          "output_type": "execute_result"
        }
      ],
      "source": [
        "xls.sheet_names"
      ]
    },
    {
      "cell_type": "code",
      "execution_count": 17,
      "metadata": {
        "id": "MsHhUaqIaOII"
      },
      "outputs": [],
      "source": [
        "#create dictionary for later retrieval\n",
        "d_s = {'sheet':[], 'df': []}\n",
        "for i , c in enumerate(xls.sheet_names, 1):\n",
        "    globals()['df'+ str(i)] = pd.read_excel(xls, c)\n",
        "    d_s['sheet'].append(c+str(i))\n",
        "    d_s['df'].append('df'+str(i))"
      ]
    },
    {
      "cell_type": "code",
      "execution_count": 18,
      "metadata": {},
      "outputs": [
        {
          "data": {
            "text/plain": [
              "{'sheet': ['Program Definitions1',\n",
              "  'Programs2',\n",
              "  'Screening Questions-Answers3',\n",
              "  'Diagnoses-Assessed Needs4',\n",
              "  'Interventions Planned-Completed5',\n",
              "  'Interventions CPT HCPCS6',\n",
              "  'Message and Task Related Codes7',\n",
              "  'Answer Codes8',\n",
              "  'Goals9'],\n",
              " 'df': ['df1', 'df2', 'df3', 'df4', 'df5', 'df6', 'df7', 'df8', 'df9']}"
            ]
          },
          "execution_count": 18,
          "metadata": {},
          "output_type": "execute_result"
        }
      ],
      "source": [
        "d_s"
      ]
    },
    {
      "cell_type": "markdown",
      "metadata": {},
      "source": [
        "<h2>Create analysis of topics embedding</h2>\n",
        "<p>Before we start creating topics embeddings, we will first conduct some text analysis by standardizing the text and remove redundant text as showing in the cell below.</p>\n",
        "<h3>Description of Ffood Program</h3>\n",
        "<p>GP identified 23 programs and they are displayed in below.</p>"
      ]
    },
    {
      "cell_type": "code",
      "execution_count": 12,
      "metadata": {},
      "outputs": [
        {
          "data": {
            "text/html": [
              "<style type=\"text/css\">\n",
              "#T_42d6b td {\n",
              "  text-align: left;\n",
              "}\n",
              "#T_42d6b td:hover {\n",
              "  background-color: #ffffb3;\n",
              "}\n",
              "#T_42d6b .index_name {\n",
              "  font-style: italic;\n",
              "  color: darkgrey;\n",
              "  font-weight: normal;\n",
              "}\n",
              "#T_42d6b th:not(.index_name) {\n",
              "  background-color: #b30000;\n",
              "  color: white;\n",
              "  text-align: center;\n",
              "}\n",
              "</style>\n",
              "<table id=\"T_42d6b\">\n",
              "  <thead>\n",
              "    <tr>\n",
              "      <th class=\"blank level0\" >&nbsp;</th>\n",
              "      <th id=\"T_42d6b_level0_col0\" class=\"col_heading level0 col0\" >Program</th>\n",
              "      <th id=\"T_42d6b_level0_col1\" class=\"col_heading level0 col1\" >Definition</th>\n",
              "      <th id=\"T_42d6b_level0_col2\" class=\"col_heading level0 col2\" >Includes, but is not limited to </th>\n",
              "    </tr>\n",
              "  </thead>\n",
              "  <tbody>\n",
              "    <tr>\n",
              "      <th id=\"T_42d6b_level0_row0\" class=\"row_heading level0 row0\" >0</th>\n",
              "      <td id=\"T_42d6b_row0_col0\" class=\"data row0 col0\" >Benefit Enrollement Assistance Program</td>\n",
              "      <td id=\"T_42d6b_row0_col1\" class=\"data row0 col1\" >A program that coordinates cross sector benefit eligibility, assessment and application</td>\n",
              "      <td id=\"T_42d6b_row0_col2\" class=\"data row0 col2\" >nan</td>\n",
              "    </tr>\n",
              "    <tr>\n",
              "      <th id=\"T_42d6b_level0_row1\" class=\"row_heading level0 row1\" >1</th>\n",
              "      <td id=\"T_42d6b_row1_col0\" class=\"data row1 col0\" >Child and adult care food program (CFCAP)</td>\n",
              "      <td id=\"T_42d6b_row1_col1\" class=\"data row1 col1\" >A government program that provides CACFP reimbursements for nutritious meals and snacks to eligible children and adults who are enrolled for care at participating child care centers, day care homes, and adult day care centers. The program also provides reimbursements for meals served to children and youth participating in afterschool care programs, children residing in emergency shelters, and older adults or living with a disability and enrolled in day care facilities. https://www.fns.usda.gov/cacfp/child-and-adult-care-food-program</td>\n",
              "      <td id=\"T_42d6b_row1_col2\" class=\"data row1 col2\" >nan</td>\n",
              "    </tr>\n",
              "    <tr>\n",
              "      <th id=\"T_42d6b_level0_row2\" class=\"row_heading level0 row2\" >2</th>\n",
              "      <td id=\"T_42d6b_row2_col0\" class=\"data row2 col0\" >Community Action Agency</td>\n",
              "      <td id=\"T_42d6b_row2_col1\" class=\"data row2 col1\" >Non-profit private and public organizations established under the Economic Opportunity Act of 1964 with the aim of helping people achieve self-sufficiency. https://www.hud.gov/states/california/homeless/commaction</td>\n",
              "      <td id=\"T_42d6b_row2_col2\" class=\"data row2 col2\" >nan</td>\n",
              "    </tr>\n",
              "    <tr>\n",
              "      <th id=\"T_42d6b_level0_row3\" class=\"row_heading level0 row3\" >3</th>\n",
              "      <td id=\"T_42d6b_row3_col0\" class=\"data row3 col0\" >Community meal program</td>\n",
              "      <td id=\"T_42d6b_row3_col1\" class=\"data row3 col1\" >Meals for a target group.</td>\n",
              "      <td id=\"T_42d6b_row3_col2\" class=\"data row3 col2\" >Congregate meals</td>\n",
              "    </tr>\n",
              "    <tr>\n",
              "      <th id=\"T_42d6b_level0_row4\" class=\"row_heading level0 row4\" >4</th>\n",
              "      <td id=\"T_42d6b_row4_col0\" class=\"data row4 col0\" >Community Resource Assistance</td>\n",
              "      <td id=\"T_42d6b_row4_col1\" class=\"data row4 col1\" >Help connecting individuals with available community resources to address identified social needs</td>\n",
              "      <td id=\"T_42d6b_row4_col2\" class=\"data row4 col2\" >nan</td>\n",
              "    </tr>\n",
              "    <tr>\n",
              "      <th id=\"T_42d6b_level0_row5\" class=\"row_heading level0 row5\" >5</th>\n",
              "      <td id=\"T_42d6b_row5_col0\" class=\"data row5 col0\" >Food and nutrition incentive program</td>\n",
              "      <td id=\"T_42d6b_row5_col1\" class=\"data row5 col1\" >Financial incentives or matching programs to promote consumption of healthful foods including produce via community supported agriculture and other initiatives.</td>\n",
              "      <td id=\"T_42d6b_row5_col2\" class=\"data row5 col2\" >Gus Schumacher Nutrition Incentive program\n",
              "Senior farmers market</td>\n",
              "    </tr>\n",
              "    <tr>\n",
              "      <th id=\"T_42d6b_level0_row6\" class=\"row_heading level0 row6\" >6</th>\n",
              "      <td id=\"T_42d6b_row6_col0\" class=\"data row6 col0\" >Food Distribution Program on Indian Reservation (FDPIR)</td>\n",
              "      <td id=\"T_42d6b_row6_col1\" class=\"data row6 col1\" >Provides USDA Foods to income-eligible households living on Indian reservations and to Native American households residing in designated areas near reservations or in Oklahoma. USDA distributes both food and administrative funds to participating Indian Tribal Organizations and state agencies to operate FDPIR.</td>\n",
              "      <td id=\"T_42d6b_row6_col2\" class=\"data row6 col2\" >nan</td>\n",
              "    </tr>\n",
              "    <tr>\n",
              "      <th id=\"T_42d6b_level0_row7\" class=\"row_heading level0 row7\" >7</th>\n",
              "      <td id=\"T_42d6b_row7_col0\" class=\"data row7 col0\" >Food pantry program</td>\n",
              "      <td id=\"T_42d6b_row7_col1\" class=\"data row7 col1\" >A community based supportive food and nutrition program offering food to individuals for consumption. https://www.feedingamerica.org/our-work/food-bank-network, https://www.fns.usda.gov/fdpir/food-distribution-program-indian-reservations</td>\n",
              "      <td id=\"T_42d6b_row7_col2\" class=\"data row7 col2\" >FDIPR (Food Distribution Program on Indian Reservation)\n",
              "School based pantry</td>\n",
              "    </tr>\n",
              "    <tr>\n",
              "      <th id=\"T_42d6b_level0_row8\" class=\"row_heading level0 row8\" >8</th>\n",
              "      <td id=\"T_42d6b_row8_col0\" class=\"data row8 col0\" >Food prescription program</td>\n",
              "      <td id=\"T_42d6b_row8_col1\" class=\"data row8 col1\" >Prescription from a health care provider to access foods recommended, which also includes vegetables, fruits, and prescriptions for other foods.</td>\n",
              "      <td id=\"T_42d6b_row8_col2\" class=\"data row8 col2\" >Food Prescription\n",
              "Produce Prescription\n",
              "Veggie Prescription</td>\n",
              "    </tr>\n",
              "    <tr>\n",
              "      <th id=\"T_42d6b_level0_row9\" class=\"row_heading level0 row9\" >9</th>\n",
              "      <td id=\"T_42d6b_row9_col0\" class=\"data row9 col0\" >Food provision program</td>\n",
              "      <td id=\"T_42d6b_row9_col1\" class=\"data row9 col1\" >Food offered when a support need is identified. Examples include groceries as part of an education opportunity (e.g., cooking class), commodity food program, food rescue or gleaning program (e.g., produce brought to a clinic), or weekend food backpack program.</td>\n",
              "      <td id=\"T_42d6b_row9_col2\" class=\"data row9 col2\" >nan</td>\n",
              "    </tr>\n",
              "    <tr>\n",
              "      <th id=\"T_42d6b_level0_row10\" class=\"row_heading level0 row10\" >10</th>\n",
              "      <td id=\"T_42d6b_row10_col0\" class=\"data row10 col0\" >Garden programs</td>\n",
              "      <td id=\"T_42d6b_row10_col1\" class=\"data row10 col1\" >Actions to plant gardens to produce foods for consumption.</td>\n",
              "      <td id=\"T_42d6b_row10_col2\" class=\"data row10 col2\" >nan</td>\n",
              "    </tr>\n",
              "    <tr>\n",
              "      <th id=\"T_42d6b_level0_row11\" class=\"row_heading level0 row11\" >11</th>\n",
              "      <td id=\"T_42d6b_row11_col0\" class=\"data row11 col0\" >Home delivered meal program</td>\n",
              "      <td id=\"T_42d6b_row11_col1\" class=\"data row11 col1\" >Meals delivered to a client's place of residence supported or subsidized by a charitable, social, or government agency.</td>\n",
              "      <td id=\"T_42d6b_row11_col2\" class=\"data row11 col2\" >Meals on wheels</td>\n",
              "    </tr>\n",
              "    <tr>\n",
              "      <th id=\"T_42d6b_level0_row12\" class=\"row_heading level0 row12\" >12</th>\n",
              "      <td id=\"T_42d6b_row12_col0\" class=\"data row12 col0\" >Meals on wheels program</td>\n",
              "      <td id=\"T_42d6b_row12_col1\" class=\"data row12 col1\" >A specific home delivered meal program for eligible older adults and household members with demonstrated social and/or economic need.</td>\n",
              "      <td id=\"T_42d6b_row12_col2\" class=\"data row12 col2\" >nan</td>\n",
              "    </tr>\n",
              "    <tr>\n",
              "      <th id=\"T_42d6b_level0_row13\" class=\"row_heading level0 row13\" >13</th>\n",
              "      <td id=\"T_42d6b_row13_col0\" class=\"data row13 col0\" >Medically tailored meal program</td>\n",
              "      <td id=\"T_42d6b_row13_col1\" class=\"data row13 col1\" >Meals delivered to individuals, living with assessed illness, tailored to the medical needs of the recipient by a Registered Dietitian Nutritionist (RDN) http://www.fimcoalition.org/our-model</td>\n",
              "      <td id=\"T_42d6b_row13_col2\" class=\"data row13 col2\" >nan</td>\n",
              "    </tr>\n",
              "    <tr>\n",
              "      <th id=\"T_42d6b_level0_row14\" class=\"row_heading level0 row14\" >14</th>\n",
              "      <td id=\"T_42d6b_row14_col0\" class=\"data row14 col0\" >Nutrition and food support programs</td>\n",
              "      <td id=\"T_42d6b_row14_col1\" class=\"data row14 col1\" >Support programs that provide food and/or nutrition resources.</td>\n",
              "      <td id=\"T_42d6b_row14_col2\" class=\"data row14 col2\" >nan</td>\n",
              "    </tr>\n",
              "    <tr>\n",
              "      <th id=\"T_42d6b_level0_row15\" class=\"row_heading level0 row15\" >15</th>\n",
              "      <td id=\"T_42d6b_row15_col0\" class=\"data row15 col0\" >School meal and snack program</td>\n",
              "      <td id=\"T_42d6b_row15_col1\" class=\"data row15 col1\" >Meals and snacks that meet specific nutrition standards and are available to school-aged children throughout the year. (https://www.fns.usda.gov/school-meals/faqs)</td>\n",
              "      <td id=\"T_42d6b_row15_col2\" class=\"data row15 col2\" >nan</td>\n",
              "    </tr>\n",
              "    <tr>\n",
              "      <th id=\"T_42d6b_level0_row16\" class=\"row_heading level0 row16\" >16</th>\n",
              "      <td id=\"T_42d6b_row16_col0\" class=\"data row16 col0\" >Senior congregate meal program</td>\n",
              "      <td id=\"T_42d6b_row16_col1\" class=\"data row16 col1\" >Meals offered in community settings for eligible older adults, and along with eligible supportive individuals.</td>\n",
              "      <td id=\"T_42d6b_row16_col2\" class=\"data row16 col2\" >nan</td>\n",
              "    </tr>\n",
              "    <tr>\n",
              "      <th id=\"T_42d6b_level0_row17\" class=\"row_heading level0 row17\" >17</th>\n",
              "      <td id=\"T_42d6b_row17_col0\" class=\"data row17 col0\" >Senior farmers market program</td>\n",
              "      <td id=\"T_42d6b_row17_col1\" class=\"data row17 col1\" >Financial incentives or matching programs to promote consumption of produce by older adults. https://www.fns.usda.gov/sfmnp/senior-farmers-market-nutrition-program</td>\n",
              "      <td id=\"T_42d6b_row17_col2\" class=\"data row17 col2\" >nan</td>\n",
              "    </tr>\n",
              "    <tr>\n",
              "      <th id=\"T_42d6b_level0_row18\" class=\"row_heading level0 row18\" >18</th>\n",
              "      <td id=\"T_42d6b_row18_col0\" class=\"data row18 col0\" >SNAP education</td>\n",
              "      <td id=\"T_42d6b_row18_col1\" class=\"data row18 col1\" >Nutrition curricula, a facet of the SNAP program.</td>\n",
              "      <td id=\"T_42d6b_row18_col2\" class=\"data row18 col2\" >nan</td>\n",
              "    </tr>\n",
              "    <tr>\n",
              "      <th id=\"T_42d6b_level0_row19\" class=\"row_heading level0 row19\" >19</th>\n",
              "      <td id=\"T_42d6b_row19_col0\" class=\"data row19 col0\" >Special supplemental nutrition program for women, infants, and children (WIC) program</td>\n",
              "      <td id=\"T_42d6b_row19_col1\" class=\"data row19 col1\" >Supplemental foods, health care referrals, and nutrition education for low-income pregnant, breastfeeding, and non-breastfeeding postpartum women, and to infants and children up to age five who are found to be at nutritional risk. (https://www.fns.usda.gov/wic)</td>\n",
              "      <td id=\"T_42d6b_row19_col2\" class=\"data row19 col2\" >WIC farmers market program</td>\n",
              "    </tr>\n",
              "    <tr>\n",
              "      <th id=\"T_42d6b_level0_row20\" class=\"row_heading level0 row20\" >20</th>\n",
              "      <td id=\"T_42d6b_row20_col0\" class=\"data row20 col0\" >Summer meal and snack program</td>\n",
              "      <td id=\"T_42d6b_row20_col1\" class=\"data row20 col1\" >A program that reimburses program operators who serve free healthy meals and snacks to children and teens in low-income areas. (https://www.fns.usda.gov/sfsp/summer-food-service-program)</td>\n",
              "      <td id=\"T_42d6b_row20_col2\" class=\"data row20 col2\" >nan</td>\n",
              "    </tr>\n",
              "    <tr>\n",
              "      <th id=\"T_42d6b_level0_row21\" class=\"row_heading level0 row21\" >21</th>\n",
              "      <td id=\"T_42d6b_row21_col0\" class=\"data row21 col0\" >Supplemental nutrition assistance program (SNAP)</td>\n",
              "      <td id=\"T_42d6b_row21_col1\" class=\"data row21 col1\" >A government based nutrition benefit program to supplement the food budget of qualified families for purchasing food. The US program is currently call the Supplemental Nutrition Assistance Program (SNAP).(https://www.fns.usda.gov/snap/supplemental-nutrition-assistance-program)</td>\n",
              "      <td id=\"T_42d6b_row21_col2\" class=\"data row21 col2\" >nan</td>\n",
              "    </tr>\n",
              "    <tr>\n",
              "      <th id=\"T_42d6b_level0_row22\" class=\"row_heading level0 row22\" >22</th>\n",
              "      <td id=\"T_42d6b_row22_col0\" class=\"data row22 col0\" >WIC farmer's market program</td>\n",
              "      <td id=\"T_42d6b_row22_col1\" class=\"data row22 col1\" >Coupons for participants of the WIC program to purchase food at farmers markets. https://www.fns.usda.gov/fmnp/wic-farmers-market-nutrition-program</td>\n",
              "      <td id=\"T_42d6b_row22_col2\" class=\"data row22 col2\" >nan</td>\n",
              "    </tr>\n",
              "  </tbody>\n",
              "</table>\n"
            ],
            "text/plain": [
              "<pandas.io.formats.style.Styler at 0x2a4637850>"
            ]
          },
          "execution_count": 12,
          "metadata": {},
          "output_type": "execute_result"
        }
      ],
      "source": [
        "\n",
        "df1.style.set_table_styles([ cell_align, cell_hover, index_names, headers])\n"
      ]
    },
    {
      "cell_type": "markdown",
      "metadata": {
        "id": "5JhPSHgkmwxF"
      },
      "source": [
        "<h3>Distribution of number of question by screen tools</h3>\n",
        "<p>The GP identified 24 screen tools and some of the tools are nested tools from other tools for the simplicity of this analysis, we will not consolidate these nested tools into a single tool. By doing so, we will help the community to identify the best approaches to make this tools standarized and consolidated for easy retrieval and use.</p>"
      ]
    },
    {
      "cell_type": "code",
      "execution_count": 71,
      "metadata": {},
      "outputs": [],
      "source": [
        "# screen_tool_summary = df3.groupby('Relevant_Screening_Tool')['LOINC_Panel_Code'].nunique()\n",
        "df_scr_tool_sum = df3.groupby(by=['Relevant_Screening_Tool', 'Mapped_to_Athena'], dropna=False, as_index=False).agg({'LOINC_Panel_Code': pd.Series.nunique}).sort_values('LOINC_Panel_Code')"
      ]
    },
    {
      "cell_type": "code",
      "execution_count": 74,
      "metadata": {},
      "outputs": [
        {
          "data": {
            "text/html": [
              "<div>\n",
              "<style scoped>\n",
              "    .dataframe tbody tr th:only-of-type {\n",
              "        vertical-align: middle;\n",
              "    }\n",
              "\n",
              "    .dataframe tbody tr th {\n",
              "        vertical-align: top;\n",
              "    }\n",
              "\n",
              "    .dataframe thead th {\n",
              "        text-align: right;\n",
              "    }\n",
              "</style>\n",
              "<table border=\"1\" class=\"dataframe\">\n",
              "  <thead>\n",
              "    <tr style=\"text-align: right;\">\n",
              "      <th></th>\n",
              "      <th>Relevant_Screening_Tool</th>\n",
              "      <th>Mapped_to_Athena</th>\n",
              "      <th>LOINC_Panel_Code</th>\n",
              "    </tr>\n",
              "  </thead>\n",
              "  <tbody>\n",
              "    <tr>\n",
              "      <th>18</th>\n",
              "      <td>Total Health Quick Check (CHC Sno)</td>\n",
              "      <td>No</td>\n",
              "      <td>1</td>\n",
              "    </tr>\n",
              "    <tr>\n",
              "      <th>17</th>\n",
              "      <td>SWYC</td>\n",
              "      <td>No</td>\n",
              "      <td>1</td>\n",
              "    </tr>\n",
              "    <tr>\n",
              "      <th>3</th>\n",
              "      <td>CommunityConnect Social Needs Screening Tool</td>\n",
              "      <td>No</td>\n",
              "      <td>1</td>\n",
              "    </tr>\n",
              "    <tr>\n",
              "      <th>15</th>\n",
              "      <td>PRAPARE</td>\n",
              "      <td>Yes</td>\n",
              "      <td>1</td>\n",
              "    </tr>\n",
              "    <tr>\n",
              "      <th>6</th>\n",
              "      <td>Health Information National Trends Survey</td>\n",
              "      <td>No</td>\n",
              "      <td>1</td>\n",
              "    </tr>\n",
              "    <tr>\n",
              "      <th>7</th>\n",
              "      <td>Health Leads</td>\n",
              "      <td>No</td>\n",
              "      <td>1</td>\n",
              "    </tr>\n",
              "    <tr>\n",
              "      <th>9</th>\n",
              "      <td>Hunger Vital Sign</td>\n",
              "      <td>Yes</td>\n",
              "      <td>1</td>\n",
              "    </tr>\n",
              "    <tr>\n",
              "      <th>12</th>\n",
              "      <td>Kleinman</td>\n",
              "      <td>No</td>\n",
              "      <td>1</td>\n",
              "    </tr>\n",
              "    <tr>\n",
              "      <th>0</th>\n",
              "      <td>AAFP Social Needs Screening Tool</td>\n",
              "      <td>No</td>\n",
              "      <td>2</td>\n",
              "    </tr>\n",
              "    <tr>\n",
              "      <th>16</th>\n",
              "      <td>SEEK</td>\n",
              "      <td>No</td>\n",
              "      <td>2</td>\n",
              "    </tr>\n",
              "    <tr>\n",
              "      <th>14</th>\n",
              "      <td>NC SDOH</td>\n",
              "      <td>No</td>\n",
              "      <td>2</td>\n",
              "    </tr>\n",
              "    <tr>\n",
              "      <th>13</th>\n",
              "      <td>Medicare THA</td>\n",
              "      <td>No</td>\n",
              "      <td>2</td>\n",
              "    </tr>\n",
              "    <tr>\n",
              "      <th>11</th>\n",
              "      <td>Kaiser YCLS</td>\n",
              "      <td>No</td>\n",
              "      <td>2</td>\n",
              "    </tr>\n",
              "    <tr>\n",
              "      <th>2</th>\n",
              "      <td>CHCW Internally developed SDoH Tool</td>\n",
              "      <td>No</td>\n",
              "      <td>2</td>\n",
              "    </tr>\n",
              "    <tr>\n",
              "      <th>1</th>\n",
              "      <td>AHC</td>\n",
              "      <td>Yes</td>\n",
              "      <td>2</td>\n",
              "    </tr>\n",
              "    <tr>\n",
              "      <th>10</th>\n",
              "      <td>IHELP</td>\n",
              "      <td>No</td>\n",
              "      <td>3</td>\n",
              "    </tr>\n",
              "    <tr>\n",
              "      <th>20</th>\n",
              "      <td>US household food security six item\\nUS househ...</td>\n",
              "      <td>No</td>\n",
              "      <td>4</td>\n",
              "    </tr>\n",
              "    <tr>\n",
              "      <th>23</th>\n",
              "      <td>We Care</td>\n",
              "      <td>No</td>\n",
              "      <td>4</td>\n",
              "    </tr>\n",
              "    <tr>\n",
              "      <th>21</th>\n",
              "      <td>US household food security ten item\\nUS househ...</td>\n",
              "      <td>No</td>\n",
              "      <td>5</td>\n",
              "    </tr>\n",
              "    <tr>\n",
              "      <th>4</th>\n",
              "      <td>FIES-SM</td>\n",
              "      <td>No</td>\n",
              "      <td>8</td>\n",
              "    </tr>\n",
              "    <tr>\n",
              "      <th>19</th>\n",
              "      <td>US household food security 18 item</td>\n",
              "      <td>No</td>\n",
              "      <td>8</td>\n",
              "    </tr>\n",
              "    <tr>\n",
              "      <th>22</th>\n",
              "      <td>USDA Youth</td>\n",
              "      <td>No</td>\n",
              "      <td>9</td>\n",
              "    </tr>\n",
              "    <tr>\n",
              "      <th>8</th>\n",
              "      <td>Household Food Security Survey Module (HFSSM) ...</td>\n",
              "      <td>No</td>\n",
              "      <td>19</td>\n",
              "    </tr>\n",
              "    <tr>\n",
              "      <th>5</th>\n",
              "      <td>HFIAS</td>\n",
              "      <td>No</td>\n",
              "      <td>19</td>\n",
              "    </tr>\n",
              "  </tbody>\n",
              "</table>\n",
              "</div>"
            ],
            "text/plain": [
              "                              Relevant_Screening_Tool Mapped_to_Athena  \\\n",
              "18                 Total Health Quick Check (CHC Sno)               No   \n",
              "17                                               SWYC               No   \n",
              "3        CommunityConnect Social Needs Screening Tool               No   \n",
              "15                                            PRAPARE              Yes   \n",
              "6           Health Information National Trends Survey               No   \n",
              "7                                        Health Leads               No   \n",
              "9                                  Hunger Vital Sign               Yes   \n",
              "12                                           Kleinman               No   \n",
              "0                    AAFP Social Needs Screening Tool               No   \n",
              "16                                               SEEK               No   \n",
              "14                                            NC SDOH               No   \n",
              "13                                       Medicare THA               No   \n",
              "11                                        Kaiser YCLS               No   \n",
              "2                 CHCW Internally developed SDoH Tool               No   \n",
              "1                                                 AHC              Yes   \n",
              "10                                              IHELP               No   \n",
              "20  US household food security six item\\nUS househ...               No   \n",
              "23                                            We Care               No   \n",
              "21  US household food security ten item\\nUS househ...               No   \n",
              "4                                             FIES-SM               No   \n",
              "19                 US household food security 18 item               No   \n",
              "22                                         USDA Youth               No   \n",
              "8   Household Food Security Survey Module (HFSSM) ...               No   \n",
              "5                                               HFIAS               No   \n",
              "\n",
              "    LOINC_Panel_Code  \n",
              "18                 1  \n",
              "17                 1  \n",
              "3                  1  \n",
              "15                 1  \n",
              "6                  1  \n",
              "7                  1  \n",
              "9                  1  \n",
              "12                 1  \n",
              "0                  2  \n",
              "16                 2  \n",
              "14                 2  \n",
              "13                 2  \n",
              "11                 2  \n",
              "2                  2  \n",
              "1                  2  \n",
              "10                 3  \n",
              "20                 4  \n",
              "23                 4  \n",
              "21                 5  \n",
              "4                  8  \n",
              "19                 8  \n",
              "22                 9  \n",
              "8                 19  \n",
              "5                 19  "
            ]
          },
          "execution_count": 74,
          "metadata": {},
          "output_type": "execute_result"
        }
      ],
      "source": [
        "df_scr_tool_sum['Mapped_to_Athena'] = df_scr_tool_sum['Mapped_to_Athena'].fillna('No')\n",
        "df_scr_tool_sum"
      ]
    },
    {
      "cell_type": "markdown",
      "metadata": {},
      "source": [
        "<p>The graph below provides the number of questions by screen tool grouped into those questions that we were able to map to **Athena**.</p>"
      ]
    },
    {
      "cell_type": "code",
      "execution_count": 79,
      "metadata": {},
      "outputs": [
        {
          "data": {
            "image/png": "[encoded data removed]",
            "text/plain": [
              "<Figure size 640x480 with 1 Axes>"
            ]
          },
          "metadata": {},
          "output_type": "display_data"
        }
      ],
      "source": [
        "import matplotlib.pyplot as plt\n",
        "\n",
        "sns.barplot(df_scr_tool_sum, x= 'LOINC_Panel_Code', y= 'Relevant_Screening_Tool', orient=\"y\", hue='Mapped_to_Athena')\n",
        "#modify individual font size of elements\n",
        "plt.legend(title='Question mapped to Athena ', fontsize=8)\n",
        "plt.xlabel('Count', fontsize=16);\n",
        "plt.ylabel('Screen tool name', fontsize=4);\n",
        "plt.title('Count of number of questions by screen tool of food insecurity', fontsize=20)\n",
        "plt.tick_params(axis='both', which='major', labelsize=8)"
      ]
    },
    {
      "cell_type": "code",
      "execution_count": 80,
      "metadata": {
        "id": "1ANFaAWcWt-T"
      },
      "outputs": [],
      "source": [
        "import re\n",
        "sentences_yes = df3['Question_Concept'].loc[df3['Mapped_to_Athena'] == 'Yes'].unique().tolist()\n",
        "sentences_yes = [x for x in sentences_yes if str(x) != 'nan']\n",
        "#remove redundant words\n",
        "pattern_yes = r\"\\s+\\[U\\.S\\. FSS\\]\"\n",
        "sentences_yes = [re.sub(pattern_yes, '', str(x)) for x in sentences_yes]\n",
        "#select unique assessment questions:\n",
        "duplicate_question = 'Within the past 12 months we worried whether our food would run out before we got money to buy more'\n",
        "sentences_yes.remove(duplicate_question)\n",
        "#select questions that were not mapped to any vocabularly using Athena:\n",
        "sentences_no = df3['Question_Concept'].loc[df3['Mapped_to_Athena'] != 'Yes'].unique().tolist()\n",
        "#clean string from unecessary strings Q1 Q14b. etc....\n",
        "pattern = r\"Q\\d{1,2}\\.\\s+|Q\\d{1,2}b\\.\\s+|\\?|\\.\"\n",
        "sentences_no = [re.sub(pattern, '', str(x)) for x in sentences_no]\n",
        "#Delete question mapped to Athena but not reported by the gravity team\n",
        "duplicated_question  = 'Within the past 12 months, you worried that your food would run out before you got money to buy more'\n",
        "sentences_no.remove(duplicated_question)\n",
        "sentences = [sentences_yes, sentences_no]"
      ]
    },
    {
      "cell_type": "code",
      "execution_count": 81,
      "metadata": {
        "id": "6wLOQE1JGpO4"
      },
      "outputs": [],
      "source": [
        "%%capture\n",
        "from sentence_transformers import SentenceTransformer, util\n",
        "model = SentenceTransformer('all-MiniLM-L6-v2')"
      ]
    },
    {
      "cell_type": "code",
      "execution_count": 82,
      "metadata": {
        "id": "18MqjNriD7qL"
      },
      "outputs": [],
      "source": [
        "%%capture\n",
        "model = SentenceTransformer('all-MiniLM-L6-v2')\n",
        "\n",
        "#Compute bi-ranked embedding for food insecurity\n",
        "\n",
        "ranked_domain ={'standard': [] ,'index_no':[],'label_no':[] ,'index_yes':[], 'label_yes': [], 'ranked_value':[]}\n",
        "for h,s in enumerate(sentences):\n",
        "  if h ==0: #select questions that have been mapped to Athena  for embedding\n",
        "    embedding_1= model.encode(s, convert_to_tensor=True)\n",
        "    for i, sentence in enumerate(sentences_no):\n",
        "      embedding_2 = model.encode(sentence, convert_to_tensor=True)\n",
        "      #Compute cosine-similarities\n",
        "      cosine_scores = util.cos_sim(embedding_1, embedding_2)\n",
        "      #Output the pairs with their score\n",
        "      for j, sentence_yes in enumerate(sentences_yes):\n",
        "        ranked_domain['standard'].append(h)\n",
        "        ranked_domain['index_no'].append(i)\n",
        "        ranked_domain['label_no'].append(sentence)\n",
        "        ranked_domain['index_yes'].append(j)\n",
        "        ranked_domain['label_yes'].append(sentence_yes)\n",
        "        na = cosine_scores.numpy()\n",
        "        ranked_domain['ranked_value'].append(round(na[j][0],2))"
      ]
    },
    {
      "cell_type": "code",
      "execution_count": 83,
      "metadata": {
        "id": "sdk2jKNtsy7N"
      },
      "outputs": [],
      "source": [
        "df =pd.DataFrame.from_dict(ranked_domain)\n"
      ]
    },
    {
      "cell_type": "code",
      "execution_count": 94,
      "metadata": {},
      "outputs": [],
      "source": [
        "%reload_ext autoreload\n",
        "%autoreload 2\n",
        "\n",
        "from ipywidgets import interact\n",
        "\n",
        "def f(x):\n",
        "  return x\n",
        "\n",
        "interact(f, x=10)"
      ]
    },
    {
      "cell_type": "code",
      "execution_count": 63,
      "metadata": {},
      "outputs": [],
      "source": [
        "#convert dataframe into pivote table:\n",
        "df_map= df.pivot(index= 'index_no', columns='index_yes',  values='ranked_value')"
      ]
    },
    {
      "cell_type": "code",
      "execution_count": 89,
      "metadata": {},
      "outputs": [
        {
          "data": {
            "text/html": [
              "<div>\n",
              "<style scoped>\n",
              "    .dataframe tbody tr th:only-of-type {\n",
              "        vertical-align: middle;\n",
              "    }\n",
              "\n",
              "    .dataframe tbody tr th {\n",
              "        vertical-align: top;\n",
              "    }\n",
              "\n",
              "    .dataframe thead th {\n",
              "        text-align: right;\n",
              "    }\n",
              "</style>\n",
              "<table border=\"1\" class=\"dataframe\">\n",
              "  <thead>\n",
              "    <tr style=\"text-align: right;\">\n",
              "      <th></th>\n",
              "      <th>standard</th>\n",
              "      <th>index_no</th>\n",
              "      <th>label_no</th>\n",
              "      <th>index_yes</th>\n",
              "      <th>label_yes</th>\n",
              "      <th>ranked_value</th>\n",
              "    </tr>\n",
              "  </thead>\n",
              "  <tbody>\n",
              "    <tr>\n",
              "      <th>0</th>\n",
              "      <td>0</td>\n",
              "      <td>0</td>\n",
              "      <td>Do you eat fewer than 2 meals a day</td>\n",
              "      <td>0</td>\n",
              "      <td>Within the past 12 months the food we bought j...</td>\n",
              "      <td>0.38</td>\n",
              "    </tr>\n",
              "    <tr>\n",
              "      <th>1</th>\n",
              "      <td>0</td>\n",
              "      <td>0</td>\n",
              "      <td>Do you eat fewer than 2 meals a day</td>\n",
              "      <td>1</td>\n",
              "      <td>Within the past 12 months, you worried that yo...</td>\n",
              "      <td>0.43</td>\n",
              "    </tr>\n",
              "    <tr>\n",
              "      <th>2</th>\n",
              "      <td>0</td>\n",
              "      <td>0</td>\n",
              "      <td>Do you eat fewer than 2 meals a day</td>\n",
              "      <td>2</td>\n",
              "      <td>Within the past 12 months, the food you bought...</td>\n",
              "      <td>0.35</td>\n",
              "    </tr>\n",
              "    <tr>\n",
              "      <th>3</th>\n",
              "      <td>0</td>\n",
              "      <td>0</td>\n",
              "      <td>Do you eat fewer than 2 meals a day</td>\n",
              "      <td>3</td>\n",
              "      <td>In the past year, have you or any family membe...</td>\n",
              "      <td>0.04</td>\n",
              "    </tr>\n",
              "    <tr>\n",
              "      <th>4</th>\n",
              "      <td>0</td>\n",
              "      <td>1</td>\n",
              "      <td>Do you always have enough money to buy the foo...</td>\n",
              "      <td>0</td>\n",
              "      <td>Within the past 12 months the food we bought j...</td>\n",
              "      <td>0.64</td>\n",
              "    </tr>\n",
              "    <tr>\n",
              "      <th>...</th>\n",
              "      <td>...</td>\n",
              "      <td>...</td>\n",
              "      <td>...</td>\n",
              "      <td>...</td>\n",
              "      <td>...</td>\n",
              "      <td>...</td>\n",
              "    </tr>\n",
              "    <tr>\n",
              "      <th>363</th>\n",
              "      <td>0</td>\n",
              "      <td>90</td>\n",
              "      <td>Are you worried that you or others in your hou...</td>\n",
              "      <td>3</td>\n",
              "      <td>In the past year, have you or any family membe...</td>\n",
              "      <td>0.25</td>\n",
              "    </tr>\n",
              "    <tr>\n",
              "      <th>364</th>\n",
              "      <td>0</td>\n",
              "      <td>91</td>\n",
              "      <td>Within the past 12 months, the food you bought...</td>\n",
              "      <td>0</td>\n",
              "      <td>Within the past 12 months the food we bought j...</td>\n",
              "      <td>0.91</td>\n",
              "    </tr>\n",
              "    <tr>\n",
              "      <th>365</th>\n",
              "      <td>0</td>\n",
              "      <td>91</td>\n",
              "      <td>Within the past 12 months, the food you bought...</td>\n",
              "      <td>1</td>\n",
              "      <td>Within the past 12 months, you worried that yo...</td>\n",
              "      <td>0.86</td>\n",
              "    </tr>\n",
              "    <tr>\n",
              "      <th>366</th>\n",
              "      <td>0</td>\n",
              "      <td>91</td>\n",
              "      <td>Within the past 12 months, the food you bought...</td>\n",
              "      <td>2</td>\n",
              "      <td>Within the past 12 months, the food you bought...</td>\n",
              "      <td>0.99</td>\n",
              "    </tr>\n",
              "    <tr>\n",
              "      <th>367</th>\n",
              "      <td>0</td>\n",
              "      <td>91</td>\n",
              "      <td>Within the past 12 months, the food you bought...</td>\n",
              "      <td>3</td>\n",
              "      <td>In the past year, have you or any family membe...</td>\n",
              "      <td>0.33</td>\n",
              "    </tr>\n",
              "  </tbody>\n",
              "</table>\n",
              "<p>368 rows × 6 columns</p>\n",
              "</div>"
            ],
            "text/plain": [
              "     standard  index_no                                           label_no  \\\n",
              "0           0         0                Do you eat fewer than 2 meals a day   \n",
              "1           0         0                Do you eat fewer than 2 meals a day   \n",
              "2           0         0                Do you eat fewer than 2 meals a day   \n",
              "3           0         0                Do you eat fewer than 2 meals a day   \n",
              "4           0         1  Do you always have enough money to buy the foo...   \n",
              "..        ...       ...                                                ...   \n",
              "363         0        90  Are you worried that you or others in your hou...   \n",
              "364         0        91  Within the past 12 months, the food you bought...   \n",
              "365         0        91  Within the past 12 months, the food you bought...   \n",
              "366         0        91  Within the past 12 months, the food you bought...   \n",
              "367         0        91  Within the past 12 months, the food you bought...   \n",
              "\n",
              "     index_yes                                          label_yes  \\\n",
              "0            0  Within the past 12 months the food we bought j...   \n",
              "1            1  Within the past 12 months, you worried that yo...   \n",
              "2            2  Within the past 12 months, the food you bought...   \n",
              "3            3  In the past year, have you or any family membe...   \n",
              "4            0  Within the past 12 months the food we bought j...   \n",
              "..         ...                                                ...   \n",
              "363          3  In the past year, have you or any family membe...   \n",
              "364          0  Within the past 12 months the food we bought j...   \n",
              "365          1  Within the past 12 months, you worried that yo...   \n",
              "366          2  Within the past 12 months, the food you bought...   \n",
              "367          3  In the past year, have you or any family membe...   \n",
              "\n",
              "     ranked_value  \n",
              "0            0.38  \n",
              "1            0.43  \n",
              "2            0.35  \n",
              "3            0.04  \n",
              "4            0.64  \n",
              "..            ...  \n",
              "363          0.25  \n",
              "364          0.91  \n",
              "365          0.86  \n",
              "366          0.99  \n",
              "367          0.33  \n",
              "\n",
              "[368 rows x 6 columns]"
            ]
          },
          "execution_count": 89,
          "metadata": {},
          "output_type": "execute_result"
        }
      ],
      "source": [
        "df"
      ]
    },
    {
      "cell_type": "code",
      "execution_count": 64,
      "metadata": {
        "colab": {
          "base_uri": "https://localhost:8080/",
          "height": 917
        },
        "id": "9dRqufoYghV3",
        "outputId": "2731ca1a-1f2f-44e2-a7da-9ffe3c9b23c9"
      },
      "outputs": [
        {
          "data": {
            "application/vnd.plotly.v1+json": {
              "config": {
                "plotlyServerURL": "https://plot.ly"
              },
              "data": [
                {
                  "coloraxis": "coloraxis",
                  "colorscale": [
                    [
                      0,
                      "#440154"
                    ],
                    [
                      0.1111111111111111,
                      "#482878"
                    ],
                    [
                      0.2222222222222222,
                      "#3e4989"
                    ],
                    [
                      0.3333333333333333,
                      "#31688e"
                    ],
                    [
                      0.4444444444444444,
                      "#26828e"
                    ],
                    [
                      0.5555555555555556,
                      "#1f9e89"
                    ],
                    [
                      0.6666666666666666,
                      "#35b779"
                    ],
                    [
                      0.7777777777777778,
                      "#6ece58"
                    ],
                    [
                      0.8888888888888888,
                      "#b5de2b"
                    ],
                    [
                      1,
                      "#fde725"
                    ]
                  ],
                  "type": "heatmap",
                  "xaxis": "x",
                  "yaxis": "y",
                  "z": [
                    [
                      0.3799999952316284,
                      0.4300000071525574,
                      0.3499999940395355,
                      0.03999999910593033
                    ],
                    [
                      0.6399999856948853,
                      0.6700000166893005,
                      0.6200000047683716,
                      0.2800000011920929
                    ],
                    [
                      0.5199999809265137,
                      0.6100000143051147,
                      0.4699999988079071,
                      0.1899999976158142
                    ],
                    [
                      0.6800000071525574,
                      0.8799999952316284,
                      0.6899999976158142,
                      0.14000000059604645
                    ],
                    [
                      0.9100000262260437,
                      0.8199999928474426,
                      0.9300000071525574,
                      0.3499999940395355
                    ],
                    [
                      0.75,
                      0.6299999952316284,
                      0.75,
                      0.25
                    ],
                    [
                      0.4300000071525574,
                      0.4000000059604645,
                      0.4000000059604645,
                      0.17000000178813934
                    ],
                    [
                      0.6000000238418579,
                      0.6499999761581421,
                      0.6499999761581421,
                      0.33000001311302185
                    ],
                    [
                      0.17000000178813934,
                      0.15000000596046448,
                      0.12999999523162842,
                      0.20999999344348907
                    ],
                    [
                      0.6899999976158142,
                      0.75,
                      0.7599999904632568,
                      0.3499999940395355
                    ],
                    [
                      0.6399999856948853,
                      0.6800000071525574,
                      0.7400000095367432,
                      0.3700000047683716
                    ],
                    [
                      0.5,
                      0.5799999833106995,
                      0.5400000214576721,
                      0.20999999344348907
                    ],
                    [
                      0.550000011920929,
                      0.6800000071525574,
                      0.5299999713897705,
                      0.12999999523162842
                    ],
                    [
                      0.6800000071525574,
                      0.7200000286102295,
                      0.7699999809265137,
                      0.3199999928474426
                    ],
                    [
                      0.6499999761581421,
                      0.6600000262260437,
                      0.699999988079071,
                      0.3400000035762787
                    ],
                    [
                      0.5400000214576721,
                      0.5,
                      0.5299999713897705,
                      0.3199999928474426
                    ],
                    [
                      0.3499999940395355,
                      0.28999999165534973,
                      0.3199999928474426,
                      0.2199999988079071
                    ],
                    [
                      0.4000000059604645,
                      0.36000001430511475,
                      0.38999998569488525,
                      0.2800000011920929
                    ],
                    [
                      0.6000000238418579,
                      0.6000000238418579,
                      0.6200000047683716,
                      0.3100000023841858
                    ],
                    [
                      0.5699999928474426,
                      0.5699999928474426,
                      0.6100000143051147,
                      0.3199999928474426
                    ],
                    [
                      0.6299999952316284,
                      0.6600000262260437,
                      0.6700000166893005,
                      0.33000001311302185
                    ],
                    [
                      0.6399999856948853,
                      0.6399999856948853,
                      0.6700000166893005,
                      0.30000001192092896
                    ],
                    [
                      0.5799999833106995,
                      0.7099999785423279,
                      0.6700000166893005,
                      0.4099999964237213
                    ],
                    [
                      0.5799999833106995,
                      0.6299999952316284,
                      0.6600000262260437,
                      0.3700000047683716
                    ],
                    [
                      0.5899999737739563,
                      0.6499999761581421,
                      0.6800000071525574,
                      0.4000000059604645
                    ],
                    [
                      0.5400000214576721,
                      0.5600000023841858,
                      0.6000000238418579,
                      0.30000001192092896
                    ],
                    [
                      0.47999998927116394,
                      0.5,
                      0.5400000214576721,
                      0.30000001192092896
                    ],
                    [
                      0.6299999952316284,
                      0.7200000286102295,
                      0.699999988079071,
                      0.33000001311302185
                    ],
                    [
                      0.5400000214576721,
                      0.5699999928474426,
                      0.5600000023841858,
                      0.38999998569488525
                    ],
                    [
                      0.46000000834465027,
                      0.4699999988079071,
                      0.5199999809265137,
                      0.25999999046325684
                    ],
                    [
                      0.5600000023841858,
                      0.6299999952316284,
                      0.6399999856948853,
                      0.3799999952316284
                    ],
                    [
                      0.8299999833106995,
                      0.9300000071525574,
                      0.7900000214576721,
                      0.23999999463558197
                    ],
                    [
                      0.4699999988079071,
                      0.47999998927116394,
                      0.4000000059604645,
                      0.3199999928474426
                    ],
                    [
                      -0.009999999776482582,
                      0.029999999329447746,
                      -0.019999999552965164,
                      0.14000000059604645
                    ],
                    [
                      0.25999999046325684,
                      0.2800000011920929,
                      0.23999999463558197,
                      0.10000000149011612
                    ],
                    [
                      0.5799999833106995,
                      0.6499999761581421,
                      0.5899999737739563,
                      0.36000001430511475
                    ],
                    [
                      0.550000011920929,
                      0.6200000047683716,
                      0.5699999928474426,
                      0.38999998569488525
                    ],
                    [
                      0.5799999833106995,
                      0.5699999928474426,
                      0.6299999952316284,
                      0.36000001430511475
                    ],
                    [
                      0.5299999713897705,
                      0.5299999713897705,
                      0.5799999833106995,
                      0.3700000047683716
                    ],
                    [
                      0.6100000143051147,
                      0.6100000143051147,
                      0.6299999952316284,
                      0.3700000047683716
                    ],
                    [
                      0.5400000214576721,
                      0.550000011920929,
                      0.5799999833106995,
                      0.3700000047683716
                    ],
                    [
                      0.6200000047683716,
                      0.5799999833106995,
                      0.6800000071525574,
                      0.3799999952316284
                    ],
                    [
                      0.5899999737739563,
                      0.5600000023841858,
                      0.6499999761581421,
                      0.38999998569488525
                    ],
                    [
                      0.5600000023841858,
                      0.5600000023841858,
                      0.5899999737739563,
                      0.25999999046325684
                    ],
                    [
                      0.5400000214576721,
                      0.550000011920929,
                      0.5799999833106995,
                      0.3100000023841858
                    ],
                    [
                      0.6000000238418579,
                      0.5899999737739563,
                      0.6100000143051147,
                      0.28999999165534973
                    ],
                    [
                      0.5400000214576721,
                      0.550000011920929,
                      0.5600000023841858,
                      0.3100000023841858
                    ],
                    [
                      0.6000000238418579,
                      0.5299999713897705,
                      0.6000000238418579,
                      0.38999998569488525
                    ],
                    [
                      0.5699999928474426,
                      0.5400000214576721,
                      0.6000000238418579,
                      0.38999998569488525
                    ],
                    [
                      0.5,
                      0.5,
                      0.5299999713897705,
                      0.2199999988079071
                    ],
                    [
                      0.4699999988079071,
                      0.49000000953674316,
                      0.5,
                      0.25
                    ],
                    [
                      0.5,
                      0.4699999988079071,
                      0.5199999809265137,
                      0.27000001072883606
                    ],
                    [
                      0.47999998927116394,
                      0.4699999988079071,
                      0.5099999904632568,
                      0.28999999165534973
                    ],
                    [
                      0.3799999952316284,
                      0.36000001430511475,
                      0.4699999988079071,
                      0.41999998688697815
                    ],
                    [
                      0.7799999713897705,
                      0.8999999761581421,
                      0.7699999809265137,
                      0.25
                    ],
                    [
                      0.49000000953674316,
                      0.5400000214576721,
                      0.5400000214576721,
                      0.20000000298023224
                    ],
                    [
                      0.6000000238418579,
                      0.800000011920929,
                      0.6600000262260437,
                      0.2800000011920929
                    ],
                    [
                      0.7799999713897705,
                      0.75,
                      0.8299999833106995,
                      0.3799999952316284
                    ],
                    [
                      0.5699999928474426,
                      0.6299999952316284,
                      0.6000000238418579,
                      0.30000001192092896
                    ],
                    [
                      0.6000000238418579,
                      0.6399999856948853,
                      0.6399999856948853,
                      0.3400000035762787
                    ],
                    [
                      0.46000000834465027,
                      0.49000000953674316,
                      0.49000000953674316,
                      0.2800000011920929
                    ],
                    [
                      0.5299999713897705,
                      0.5299999713897705,
                      0.550000011920929,
                      0.3199999928474426
                    ],
                    [
                      0.6200000047683716,
                      0.6600000262260437,
                      0.6600000262260437,
                      0.3199999928474426
                    ],
                    [
                      0.25,
                      0.20000000298023224,
                      0.2199999988079071,
                      0.20999999344348907
                    ],
                    [
                      0.6899999976158142,
                      0.75,
                      0.7599999904632568,
                      0.3100000023841858
                    ],
                    [
                      0.5799999833106995,
                      0.6299999952316284,
                      0.6700000166893005,
                      0.3499999940395355
                    ],
                    [
                      0.6100000143051147,
                      0.6499999761581421,
                      0.7099999785423279,
                      0.3100000023841858
                    ],
                    [
                      0.6399999856948853,
                      0.6600000262260437,
                      0.6899999976158142,
                      0.3700000047683716
                    ],
                    [
                      0.25,
                      0.20000000298023224,
                      0.2199999988079071,
                      0.20999999344348907
                    ],
                    [
                      0.5600000023841858,
                      0.5600000023841858,
                      0.5699999928474426,
                      0.2800000011920929
                    ],
                    [
                      0.550000011920929,
                      0.5699999928474426,
                      0.5799999833106995,
                      0.30000001192092896
                    ],
                    [
                      0.25,
                      0.20000000298023224,
                      0.2199999988079071,
                      0.20999999344348907
                    ],
                    [
                      0.5899999737739563,
                      0.6100000143051147,
                      0.6299999952316284,
                      0.3100000023841858
                    ],
                    [
                      0.5699999928474426,
                      0.5699999928474426,
                      0.5899999737739563,
                      0.28999999165534973
                    ],
                    [
                      0.5400000214576721,
                      0.7099999785423279,
                      0.5699999928474426,
                      0.30000001192092896
                    ],
                    [
                      0.7099999785423279,
                      0.6800000071525574,
                      0.7699999809265137,
                      0.38999998569488525
                    ],
                    [
                      0.6200000047683716,
                      0.6100000143051147,
                      0.6700000166893005,
                      0.4000000059604645
                    ],
                    [
                      0.5199999809265137,
                      0.5400000214576721,
                      0.5600000023841858,
                      0.4000000059604645
                    ],
                    [
                      0.550000011920929,
                      0.5600000023841858,
                      0.6100000143051147,
                      0.4300000071525574
                    ],
                    [
                      0.5600000023841858,
                      0.5899999737739563,
                      0.5699999928474426,
                      0.3199999928474426
                    ],
                    [
                      0.4699999988079071,
                      0.49000000953674316,
                      0.5299999713897705,
                      0.4099999964237213
                    ],
                    [
                      0.47999998927116394,
                      0.4399999976158142,
                      0.5299999713897705,
                      0.3499999940395355
                    ],
                    [
                      0.5,
                      0.5,
                      0.5600000023841858,
                      0.4000000059604645
                    ],
                    [
                      0.6000000238418579,
                      0.75,
                      0.6399999856948853,
                      0.2800000011920929
                    ],
                    [
                      0.7900000214576721,
                      0.9599999785423279,
                      0.8399999737739563,
                      0.23999999463558197
                    ],
                    [
                      0.9100000262260437,
                      0.8299999833106995,
                      0.9599999785423279,
                      0.33000001311302185
                    ],
                    [
                      0.5600000023841858,
                      0.5899999737739563,
                      0.6299999952316284,
                      0.38999998569488525
                    ],
                    [
                      0.4099999964237213,
                      0.4300000071525574,
                      0.36000001430511475,
                      0.2800000011920929
                    ],
                    [
                      0.550000011920929,
                      0.7599999904632568,
                      0.5899999737739563,
                      0.17000000178813934
                    ],
                    [
                      0.5099999904632568,
                      0.5299999713897705,
                      0.49000000953674316,
                      0.30000001192092896
                    ],
                    [
                      0.47999998927116394,
                      0.6000000238418579,
                      0.44999998807907104,
                      0.25
                    ],
                    [
                      0.9100000262260437,
                      0.8600000143051147,
                      0.9900000095367432,
                      0.33000001311302185
                    ]
                  ]
                }
              ],
              "layout": {
                "annotations": [
                  {
                    "align": "left",
                    "showarrow": false,
                    "text": "colorscale",
                    "x": 0,
                    "xref": "paper",
                    "y": 1.06,
                    "yref": "paper"
                  },
                  {
                    "showarrow": false,
                    "text": "Reverse<br>Colorscale",
                    "x": 0.25,
                    "xref": "paper",
                    "y": 1.07,
                    "yref": "paper"
                  },
                  {
                    "showarrow": false,
                    "text": "Lines",
                    "x": 0.54,
                    "xref": "paper",
                    "y": 1.06,
                    "yref": "paper"
                  }
                ],
                "autosize": false,
                "height": 900,
                "margin": {
                  "b": 0,
                  "l": 0,
                  "r": 0,
                  "t": 100
                },
                "scene": {
                  "aspectmode": "manual",
                  "aspectratio": {
                    "x": 1,
                    "y": 1,
                    "z": 0.7
                  }
                },
                "showlegend": false,
                "sliders": [
                  {
                    "active": 10,
                    "currentvalue": {
                      "prefix": "Frequency: "
                    },
                    "pad": {
                      "t": 50
                    }
                  }
                ],
                "template": {
                  "data": {
                    "bar": [
                      {
                        "error_x": {
                          "color": "#2a3f5f"
                        },
                        "error_y": {
                          "color": "#2a3f5f"
                        },
                        "marker": {
                          "line": {
                            "color": "#E5ECF6",
                            "width": 0.5
                          },
                          "pattern": {
                            "fillmode": "overlay",
                            "size": 10,
                            "solidity": 0.2
                          }
                        },
                        "type": "bar"
                      }
                    ],
                    "barpolar": [
                      {
                        "marker": {
                          "line": {
                            "color": "#E5ECF6",
                            "width": 0.5
                          },
                          "pattern": {
                            "fillmode": "overlay",
                            "size": 10,
                            "solidity": 0.2
                          }
                        },
                        "type": "barpolar"
                      }
                    ],
                    "carpet": [
                      {
                        "aaxis": {
                          "endlinecolor": "#2a3f5f",
                          "gridcolor": "white",
                          "linecolor": "white",
                          "minorgridcolor": "white",
                          "startlinecolor": "#2a3f5f"
                        },
                        "baxis": {
                          "endlinecolor": "#2a3f5f",
                          "gridcolor": "white",
                          "linecolor": "white",
                          "minorgridcolor": "white",
                          "startlinecolor": "#2a3f5f"
                        },
                        "type": "carpet"
                      }
                    ],
                    "choropleth": [
                      {
                        "colorbar": {
                          "outlinewidth": 0,
                          "ticks": ""
                        },
                        "type": "choropleth"
                      }
                    ],
                    "contour": [
                      {
                        "colorbar": {
                          "outlinewidth": 0,
                          "ticks": ""
                        },
                        "colorscale": [
                          [
                            0,
                            "#0d0887"
                          ],
                          [
                            0.1111111111111111,
                            "#46039f"
                          ],
                          [
                            0.2222222222222222,
                            "#7201a8"
                          ],
                          [
                            0.3333333333333333,
                            "#9c179e"
                          ],
                          [
                            0.4444444444444444,
                            "#bd3786"
                          ],
                          [
                            0.5555555555555556,
                            "#d8576b"
                          ],
                          [
                            0.6666666666666666,
                            "#ed7953"
                          ],
                          [
                            0.7777777777777778,
                            "#fb9f3a"
                          ],
                          [
                            0.8888888888888888,
                            "#fdca26"
                          ],
                          [
                            1,
                            "#f0f921"
                          ]
                        ],
                        "type": "contour"
                      }
                    ],
                    "contourcarpet": [
                      {
                        "colorbar": {
                          "outlinewidth": 0,
                          "ticks": ""
                        },
                        "type": "contourcarpet"
                      }
                    ],
                    "heatmap": [
                      {
                        "colorbar": {
                          "outlinewidth": 0,
                          "ticks": ""
                        },
                        "colorscale": [
                          [
                            0,
                            "#0d0887"
                          ],
                          [
                            0.1111111111111111,
                            "#46039f"
                          ],
                          [
                            0.2222222222222222,
                            "#7201a8"
                          ],
                          [
                            0.3333333333333333,
                            "#9c179e"
                          ],
                          [
                            0.4444444444444444,
                            "#bd3786"
                          ],
                          [
                            0.5555555555555556,
                            "#d8576b"
                          ],
                          [
                            0.6666666666666666,
                            "#ed7953"
                          ],
                          [
                            0.7777777777777778,
                            "#fb9f3a"
                          ],
                          [
                            0.8888888888888888,
                            "#fdca26"
                          ],
                          [
                            1,
                            "#f0f921"
                          ]
                        ],
                        "type": "heatmap"
                      }
                    ],
                    "heatmapgl": [
                      {
                        "colorbar": {
                          "outlinewidth": 0,
                          "ticks": ""
                        },
                        "colorscale": [
                          [
                            0,
                            "#0d0887"
                          ],
                          [
                            0.1111111111111111,
                            "#46039f"
                          ],
                          [
                            0.2222222222222222,
                            "#7201a8"
                          ],
                          [
                            0.3333333333333333,
                            "#9c179e"
                          ],
                          [
                            0.4444444444444444,
                            "#bd3786"
                          ],
                          [
                            0.5555555555555556,
                            "#d8576b"
                          ],
                          [
                            0.6666666666666666,
                            "#ed7953"
                          ],
                          [
                            0.7777777777777778,
                            "#fb9f3a"
                          ],
                          [
                            0.8888888888888888,
                            "#fdca26"
                          ],
                          [
                            1,
                            "#f0f921"
                          ]
                        ],
                        "type": "heatmapgl"
                      }
                    ],
                    "histogram": [
                      {
                        "marker": {
                          "pattern": {
                            "fillmode": "overlay",
                            "size": 10,
                            "solidity": 0.2
                          }
                        },
                        "type": "histogram"
                      }
                    ],
                    "histogram2d": [
                      {
                        "colorbar": {
                          "outlinewidth": 0,
                          "ticks": ""
                        },
                        "colorscale": [
                          [
                            0,
                            "#0d0887"
                          ],
                          [
                            0.1111111111111111,
                            "#46039f"
                          ],
                          [
                            0.2222222222222222,
                            "#7201a8"
                          ],
                          [
                            0.3333333333333333,
                            "#9c179e"
                          ],
                          [
                            0.4444444444444444,
                            "#bd3786"
                          ],
                          [
                            0.5555555555555556,
                            "#d8576b"
                          ],
                          [
                            0.6666666666666666,
                            "#ed7953"
                          ],
                          [
                            0.7777777777777778,
                            "#fb9f3a"
                          ],
                          [
                            0.8888888888888888,
                            "#fdca26"
                          ],
                          [
                            1,
                            "#f0f921"
                          ]
                        ],
                        "type": "histogram2d"
                      }
                    ],
                    "histogram2dcontour": [
                      {
                        "colorbar": {
                          "outlinewidth": 0,
                          "ticks": ""
                        },
                        "colorscale": [
                          [
                            0,
                            "#0d0887"
                          ],
                          [
                            0.1111111111111111,
                            "#46039f"
                          ],
                          [
                            0.2222222222222222,
                            "#7201a8"
                          ],
                          [
                            0.3333333333333333,
                            "#9c179e"
                          ],
                          [
                            0.4444444444444444,
                            "#bd3786"
                          ],
                          [
                            0.5555555555555556,
                            "#d8576b"
                          ],
                          [
                            0.6666666666666666,
                            "#ed7953"
                          ],
                          [
                            0.7777777777777778,
                            "#fb9f3a"
                          ],
                          [
                            0.8888888888888888,
                            "#fdca26"
                          ],
                          [
                            1,
                            "#f0f921"
                          ]
                        ],
                        "type": "histogram2dcontour"
                      }
                    ],
                    "mesh3d": [
                      {
                        "colorbar": {
                          "outlinewidth": 0,
                          "ticks": ""
                        },
                        "type": "mesh3d"
                      }
                    ],
                    "parcoords": [
                      {
                        "line": {
                          "colorbar": {
                            "outlinewidth": 0,
                            "ticks": ""
                          }
                        },
                        "type": "parcoords"
                      }
                    ],
                    "pie": [
                      {
                        "automargin": true,
                        "type": "pie"
                      }
                    ],
                    "scatter": [
                      {
                        "fillpattern": {
                          "fillmode": "overlay",
                          "size": 10,
                          "solidity": 0.2
                        },
                        "type": "scatter"
                      }
                    ],
                    "scatter3d": [
                      {
                        "line": {
                          "colorbar": {
                            "outlinewidth": 0,
                            "ticks": ""
                          }
                        },
                        "marker": {
                          "colorbar": {
                            "outlinewidth": 0,
                            "ticks": ""
                          }
                        },
                        "type": "scatter3d"
                      }
                    ],
                    "scattercarpet": [
                      {
                        "marker": {
                          "colorbar": {
                            "outlinewidth": 0,
                            "ticks": ""
                          }
                        },
                        "type": "scattercarpet"
                      }
                    ],
                    "scattergeo": [
                      {
                        "marker": {
                          "colorbar": {
                            "outlinewidth": 0,
                            "ticks": ""
                          }
                        },
                        "type": "scattergeo"
                      }
                    ],
                    "scattergl": [
                      {
                        "marker": {
                          "colorbar": {
                            "outlinewidth": 0,
                            "ticks": ""
                          }
                        },
                        "type": "scattergl"
                      }
                    ],
                    "scattermapbox": [
                      {
                        "marker": {
                          "colorbar": {
                            "outlinewidth": 0,
                            "ticks": ""
                          }
                        },
                        "type": "scattermapbox"
                      }
                    ],
                    "scatterpolar": [
                      {
                        "marker": {
                          "colorbar": {
                            "outlinewidth": 0,
                            "ticks": ""
                          }
                        },
                        "type": "scatterpolar"
                      }
                    ],
                    "scatterpolargl": [
                      {
                        "marker": {
                          "colorbar": {
                            "outlinewidth": 0,
                            "ticks": ""
                          }
                        },
                        "type": "scatterpolargl"
                      }
                    ],
                    "scatterternary": [
                      {
                        "marker": {
                          "colorbar": {
                            "outlinewidth": 0,
                            "ticks": ""
                          }
                        },
                        "type": "scatterternary"
                      }
                    ],
                    "surface": [
                      {
                        "colorbar": {
                          "outlinewidth": 0,
                          "ticks": ""
                        },
                        "colorscale": [
                          [
                            0,
                            "#0d0887"
                          ],
                          [
                            0.1111111111111111,
                            "#46039f"
                          ],
                          [
                            0.2222222222222222,
                            "#7201a8"
                          ],
                          [
                            0.3333333333333333,
                            "#9c179e"
                          ],
                          [
                            0.4444444444444444,
                            "#bd3786"
                          ],
                          [
                            0.5555555555555556,
                            "#d8576b"
                          ],
                          [
                            0.6666666666666666,
                            "#ed7953"
                          ],
                          [
                            0.7777777777777778,
                            "#fb9f3a"
                          ],
                          [
                            0.8888888888888888,
                            "#fdca26"
                          ],
                          [
                            1,
                            "#f0f921"
                          ]
                        ],
                        "type": "surface"
                      }
                    ],
                    "table": [
                      {
                        "cells": {
                          "fill": {
                            "color": "#EBF0F8"
                          },
                          "line": {
                            "color": "white"
                          }
                        },
                        "header": {
                          "fill": {
                            "color": "#C8D4E3"
                          },
                          "line": {
                            "color": "white"
                          }
                        },
                        "type": "table"
                      }
                    ]
                  },
                  "layout": {
                    "annotationdefaults": {
                      "arrowcolor": "#2a3f5f",
                      "arrowhead": 0,
                      "arrowwidth": 1
                    },
                    "autotypenumbers": "strict",
                    "coloraxis": {
                      "colorbar": {
                        "outlinewidth": 0,
                        "ticks": ""
                      }
                    },
                    "colorscale": {
                      "diverging": [
                        [
                          0,
                          "#8e0152"
                        ],
                        [
                          0.1,
                          "#c51b7d"
                        ],
                        [
                          0.2,
                          "#de77ae"
                        ],
                        [
                          0.3,
                          "#f1b6da"
                        ],
                        [
                          0.4,
                          "#fde0ef"
                        ],
                        [
                          0.5,
                          "#f7f7f7"
                        ],
                        [
                          0.6,
                          "#e6f5d0"
                        ],
                        [
                          0.7,
                          "#b8e186"
                        ],
                        [
                          0.8,
                          "#7fbc41"
                        ],
                        [
                          0.9,
                          "#4d9221"
                        ],
                        [
                          1,
                          "#276419"
                        ]
                      ],
                      "sequential": [
                        [
                          0,
                          "#0d0887"
                        ],
                        [
                          0.1111111111111111,
                          "#46039f"
                        ],
                        [
                          0.2222222222222222,
                          "#7201a8"
                        ],
                        [
                          0.3333333333333333,
                          "#9c179e"
                        ],
                        [
                          0.4444444444444444,
                          "#bd3786"
                        ],
                        [
                          0.5555555555555556,
                          "#d8576b"
                        ],
                        [
                          0.6666666666666666,
                          "#ed7953"
                        ],
                        [
                          0.7777777777777778,
                          "#fb9f3a"
                        ],
                        [
                          0.8888888888888888,
                          "#fdca26"
                        ],
                        [
                          1,
                          "#f0f921"
                        ]
                      ],
                      "sequentialminus": [
                        [
                          0,
                          "#0d0887"
                        ],
                        [
                          0.1111111111111111,
                          "#46039f"
                        ],
                        [
                          0.2222222222222222,
                          "#7201a8"
                        ],
                        [
                          0.3333333333333333,
                          "#9c179e"
                        ],
                        [
                          0.4444444444444444,
                          "#bd3786"
                        ],
                        [
                          0.5555555555555556,
                          "#d8576b"
                        ],
                        [
                          0.6666666666666666,
                          "#ed7953"
                        ],
                        [
                          0.7777777777777778,
                          "#fb9f3a"
                        ],
                        [
                          0.8888888888888888,
                          "#fdca26"
                        ],
                        [
                          1,
                          "#f0f921"
                        ]
                      ]
                    },
                    "colorway": [
                      "#636efa",
                      "#EF553B",
                      "#00cc96",
                      "#ab63fa",
                      "#FFA15A",
                      "#19d3f3",
                      "#FF6692",
                      "#B6E880",
                      "#FF97FF",
                      "#FECB52"
                    ],
                    "font": {
                      "color": "#2a3f5f"
                    },
                    "geo": {
                      "bgcolor": "white",
                      "lakecolor": "white",
                      "landcolor": "#E5ECF6",
                      "showlakes": true,
                      "showland": true,
                      "subunitcolor": "white"
                    },
                    "hoverlabel": {
                      "align": "left"
                    },
                    "hovermode": "closest",
                    "mapbox": {
                      "style": "light"
                    },
                    "paper_bgcolor": "white",
                    "plot_bgcolor": "#E5ECF6",
                    "polar": {
                      "angularaxis": {
                        "gridcolor": "white",
                        "linecolor": "white",
                        "ticks": ""
                      },
                      "bgcolor": "#E5ECF6",
                      "radialaxis": {
                        "gridcolor": "white",
                        "linecolor": "white",
                        "ticks": ""
                      }
                    },
                    "scene": {
                      "xaxis": {
                        "backgroundcolor": "#E5ECF6",
                        "gridcolor": "white",
                        "gridwidth": 2,
                        "linecolor": "white",
                        "showbackground": true,
                        "ticks": "",
                        "zerolinecolor": "white"
                      },
                      "yaxis": {
                        "backgroundcolor": "#E5ECF6",
                        "gridcolor": "white",
                        "gridwidth": 2,
                        "linecolor": "white",
                        "showbackground": true,
                        "ticks": "",
                        "zerolinecolor": "white"
                      },
                      "zaxis": {
                        "backgroundcolor": "#E5ECF6",
                        "gridcolor": "white",
                        "gridwidth": 2,
                        "linecolor": "white",
                        "showbackground": true,
                        "ticks": "",
                        "zerolinecolor": "white"
                      }
                    },
                    "shapedefaults": {
                      "line": {
                        "color": "#2a3f5f"
                      }
                    },
                    "ternary": {
                      "aaxis": {
                        "gridcolor": "white",
                        "linecolor": "white",
                        "ticks": ""
                      },
                      "baxis": {
                        "gridcolor": "white",
                        "linecolor": "white",
                        "ticks": ""
                      },
                      "bgcolor": "#E5ECF6",
                      "caxis": {
                        "gridcolor": "white",
                        "linecolor": "white",
                        "ticks": ""
                      }
                    },
                    "title": {
                      "x": 0.05
                    },
                    "xaxis": {
                      "automargin": true,
                      "gridcolor": "white",
                      "linecolor": "white",
                      "ticks": "",
                      "title": {
                        "standoff": 15
                      },
                      "zerolinecolor": "white",
                      "zerolinewidth": 2
                    },
                    "yaxis": {
                      "automargin": true,
                      "gridcolor": "white",
                      "linecolor": "white",
                      "ticks": "",
                      "title": {
                        "standoff": 15
                      },
                      "zerolinecolor": "white",
                      "zerolinewidth": 2
                    }
                  }
                },
                "updatemenus": [
                  {
                    "buttons": [
                      {
                        "args": [
                          "colorscale",
                          "Viridis"
                        ],
                        "label": "Viridis",
                        "method": "restyle"
                      },
                      {
                        "args": [
                          "colorscale",
                          "Cividis"
                        ],
                        "label": "Cividis",
                        "method": "restyle"
                      },
                      {
                        "args": [
                          "colorscale",
                          "Blues"
                        ],
                        "label": "Blues",
                        "method": "restyle"
                      },
                      {
                        "args": [
                          "colorscale",
                          "Greens"
                        ],
                        "label": "Greens",
                        "method": "restyle"
                      }
                    ],
                    "direction": "down",
                    "pad": {
                      "r": 10,
                      "t": 10
                    },
                    "showactive": true,
                    "x": 0.1,
                    "xanchor": "left",
                    "y": 1.08,
                    "yanchor": "top"
                  },
                  {
                    "buttons": [
                      {
                        "args": [
                          "reversescale",
                          false
                        ],
                        "label": "False",
                        "method": "restyle"
                      },
                      {
                        "args": [
                          "reversescale",
                          true
                        ],
                        "label": "True",
                        "method": "restyle"
                      }
                    ],
                    "direction": "down",
                    "pad": {
                      "r": 10,
                      "t": 10
                    },
                    "showactive": true,
                    "x": 0.37,
                    "xanchor": "left",
                    "y": 1.08,
                    "yanchor": "top"
                  },
                  {
                    "buttons": [
                      {
                        "args": [
                          {
                            "contours.showlines": false,
                            "type": "contour"
                          }
                        ],
                        "label": "Hide lines",
                        "method": "restyle"
                      },
                      {
                        "args": [
                          {
                            "contours.showlines": true,
                            "type": "contour"
                          }
                        ],
                        "label": "Show lines",
                        "method": "restyle"
                      }
                    ],
                    "direction": "down",
                    "pad": {
                      "r": 10,
                      "t": 10
                    },
                    "showactive": true,
                    "x": 0.58,
                    "xanchor": "left",
                    "y": 1.08,
                    "yanchor": "top"
                  }
                ],
                "width": 800,
                "xaxis": {
                  "anchor": "y",
                  "domain": [
                    0,
                    1
                  ]
                },
                "yaxis": {
                  "anchor": "x",
                  "domain": [
                    0,
                    1
                  ]
                }
              }
            }
          },
          "metadata": {},
          "output_type": "display_data"
        }
      ],
      "source": [
        "from plotly.subplots import make_subplots\n",
        "import plotly.graph_objects as go\n",
        "# load dataset\n",
        "\n",
        "# Create figure\n",
        "fig = go.Figure()\n",
        "\n",
        "# Add surface trace\n",
        "#fig.add_trace(go.Heatmap(z=df_p.values.tolist(), colorscale=\"Viridis\"))\n",
        "\n",
        "#create graph side by side\n",
        "fig = make_subplots(rows=1, cols=1, shared_yaxes=False)\n",
        "\n",
        "fig.add_trace(\n",
        "    go.Heatmap(z=df_map.values.tolist(), colorscale=\"Viridis\", coloraxis=\"coloraxis\"),\n",
        "    row=1, col=1\n",
        ")\n",
        "\n",
        "\n",
        "# Update plot sizing\n",
        "fig.update_layout(\n",
        "    width=800,\n",
        "    height=900,\n",
        "    autosize=False,\n",
        "    margin=dict(t=100, b=0, l=0, r=0),\n",
        ")\n",
        "\n",
        "# Update 3D scene options\n",
        "fig.update_scenes(\n",
        "    aspectratio=dict(x=1, y=1, z=0.7),\n",
        "    aspectmode=\"manual\"\n",
        ")\n",
        "\n",
        "# Add dropdowns\n",
        "button_layer_1_height = 1.08\n",
        "steps = []\n",
        "# add a slider\n",
        "sliders = [dict(\n",
        "    active=10,\n",
        "    currentvalue={\"prefix\": \"Frequency: \"},\n",
        "    pad={\"t\": 50},\n",
        "    steps=steps\n",
        ")]\n",
        "\n",
        "fig.update_layout(\n",
        "    updatemenus=[\n",
        "        dict(\n",
        "            buttons=list([\n",
        "                dict(\n",
        "                    args=[\"colorscale\", \"Viridis\"],\n",
        "                    label=\"Viridis\",\n",
        "                    method=\"restyle\"\n",
        "                ),\n",
        "                dict(\n",
        "                    args=[\"colorscale\", \"Cividis\"],\n",
        "                    label=\"Cividis\",\n",
        "                    method=\"restyle\"\n",
        "                ),\n",
        "                dict(\n",
        "                    args=[\"colorscale\", \"Blues\"],\n",
        "                    label=\"Blues\",\n",
        "                    method=\"restyle\"\n",
        "                ),\n",
        "                dict(\n",
        "                    args=[\"colorscale\", \"Greens\"],\n",
        "                    label=\"Greens\",\n",
        "                    method=\"restyle\"\n",
        "                ),\n",
        "            ]),\n",
        "            direction=\"down\",\n",
        "            pad={\"r\": 10, \"t\": 10},\n",
        "            showactive=True,\n",
        "            x=0.1,\n",
        "            xanchor=\"left\",\n",
        "            y=button_layer_1_height,\n",
        "            yanchor=\"top\"\n",
        "        ),\n",
        "        dict(\n",
        "            buttons=list([\n",
        "                dict(\n",
        "                    args=[\"reversescale\", False],\n",
        "                    label=\"False\",\n",
        "                    method=\"restyle\"\n",
        "                ),\n",
        "                dict(\n",
        "                    args=[\"reversescale\", True],\n",
        "                    label=\"True\",\n",
        "                    method=\"restyle\"\n",
        "                )\n",
        "            ]),\n",
        "            direction=\"down\",\n",
        "            pad={\"r\": 10, \"t\": 10},\n",
        "            showactive=True,\n",
        "            x=0.37,\n",
        "            xanchor=\"left\",\n",
        "            y=button_layer_1_height,\n",
        "            yanchor=\"top\"\n",
        "        ),\n",
        "        dict(\n",
        "            buttons=list([\n",
        "                dict(\n",
        "                    args=[{\"contours.showlines\": False, \"type\": \"contour\"}],\n",
        "                    label=\"Hide lines\",\n",
        "                    method=\"restyle\"\n",
        "                ),\n",
        "                dict(\n",
        "                    args=[{\"contours.showlines\": True, \"type\": \"contour\"}],\n",
        "                    label=\"Show lines\",\n",
        "                    method=\"restyle\"\n",
        "                ),\n",
        "            ]),\n",
        "            direction=\"down\",\n",
        "            pad={\"r\": 10, \"t\": 10},\n",
        "            showactive=True,\n",
        "            x=0.58,\n",
        "            xanchor=\"left\",\n",
        "            y=button_layer_1_height,\n",
        "            yanchor=\"top\"\n",
        "        ),\n",
        "    ]\n",
        ")\n",
        "\n",
        "fig.update_layout(\n",
        "    annotations=[\n",
        "        dict(text=\"colorscale\", x=0, xref=\"paper\", y=1.06, yref=\"paper\",\n",
        "                             align=\"left\", showarrow=False),\n",
        "        dict(text=\"Reverse<br>Colorscale\", x=0.25, xref=\"paper\", y=1.07,\n",
        "                             yref=\"paper\", showarrow=False),\n",
        "        dict(text=\"Lines\", x=0.54, xref=\"paper\", y=1.06, yref=\"paper\",\n",
        "                             showarrow=False)\n",
        "    ], showlegend=False)\n",
        "\n",
        "fig.update_layout(\n",
        "    sliders=sliders\n",
        ")\n",
        "\n",
        "fig.show()"
      ]
    }
  ],
  "metadata": {
    "colab": {
      "authorship_tag": "ABX9TyNRp93mtbdPkVKHxv/AmHKW",
      "include_colab_link": true,
      "provenance": []
    },
    "kernelspec": {
      "display_name": "Python 3",
      "name": "python3"
    },
    "language_info": {
      "codemirror_mode": {
        "name": "ipython",
        "version": 3
      },
      "file_extension": ".py",
      "mimetype": "text/x-python",
      "name": "python",
      "nbconvert_exporter": "python",
      "pygments_lexer": "ipython3",
      "version": "3.11.5"
    }
  },
  "nbformat": 4,
  "nbformat_minor": 0
}
