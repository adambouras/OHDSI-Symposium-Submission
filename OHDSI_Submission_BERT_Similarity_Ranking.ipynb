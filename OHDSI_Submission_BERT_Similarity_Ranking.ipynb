{
  "cells": [
    {
      "cell_type": "markdown",
      "metadata": {
        "colab_type": "text",
        "id": "view-in-github"
      },
      "source": [
        "<a href=\"https://colab.research.google.com/github/adambouras/OHDSI-Symposium-Submission/blob/main/OHDSI_Submission_BERT_Similarity_Ranking.ipynb\" target=\"_parent\"><img src=\"https://colab.research.google.com/assets/colab-badge.svg\" alt=\"Open In Colab\"/></a>"
      ]
    },
    {
      "cell_type": "markdown",
      "metadata": {},
      "source": [
        "The aim of this project is to assess the similarities and differences that exits between assessment tools and questions for food insecurity that were identified by the Gravity Project (GP). These questions are divided into two groups; one group has been used as <a href=\"https://www.hl7.org/fhir/\" target=\"_blank\">FHIR resources</a> and mapped to OMOP CDM **(Group A)**. The other group of questions are identified by the GP but they are not mapped to OMOP CDM nor identified as FHIR resources **(Group B)**. This project will help identify the level of difference and substitutability that may exit between Group A and Group B."
      ]
    },
    {
      "cell_type": "code",
      "execution_count": 14,
      "metadata": {
        "id": "iRlxNN8F_2g3"
      },
      "outputs": [],
      "source": [
        "%%capture\n",
        "%pip install -r requirement.txt"
      ]
    },
    {
      "cell_type": "code",
      "execution_count": 16,
      "metadata": {
        "id": "s-idEmPqTTM_"
      },
      "outputs": [],
      "source": [
        "%%capture\n",
        "\n",
        "import pandas as pd\n",
        "import os\n",
        "import types\n",
        "import numpy as np\n",
        "import re\n",
        "from bertopic import *\n",
        "from pyxlsb import open_workbook\n",
        "import seaborn as sns\n",
        "from sentence_transformers import SentenceTransformer, util\n",
        "import plotly.express as px\n",
        "import plotly.graph_objects as go\n",
        "import pip\n",
        "from pyxlsb import open_workbook\n",
        "import pandas as pd\n",
        "import os\n",
        "import types\n",
        "import numpy as np\n",
        "import re\n",
        "from bertopic import BERTopic\n"
      ]
    },
    {
      "cell_type": "code",
      "execution_count": 17,
      "metadata": {},
      "outputs": [
        {
          "data": {
            "text/html": [
              "<details>\n",
              "<summary>Click to view session information</summary>\n",
              "<pre>\n",
              "-----\n",
              "bertopic                    0.15.0\n",
              "numpy                       1.24.4\n",
              "pandas                      2.0.3\n",
              "pip                         23.2.1\n",
              "plotly                      5.16.1\n",
              "pyxlsb                      1.0.10\n",
              "seaborn                     0.12.2\n",
              "sentence_transformers       2.2.2\n",
              "session_info                1.0.0\n",
              "-----\n",
              "</pre>\n",
              "<details>\n",
              "<summary>Click to view modules imported as dependencies</summary>\n",
              "<pre>\n",
              "PIL                         10.0.0\n",
              "anyio                       NA\n",
              "arrow                       1.2.3\n",
              "asttokens                   NA\n",
              "attr                        23.1.0\n",
              "attrs                       23.1.0\n",
              "babel                       2.12.1\n",
              "backcall                    0.2.0\n",
              "certifi                     2023.07.22\n",
              "cffi                        1.15.1\n",
              "charset_normalizer          3.2.0\n",
              "colorama                    0.4.6\n",
              "comm                        0.1.4\n",
              "cycler                      0.10.0\n",
              "cython_runtime              NA\n",
              "dateutil                    2.8.2\n",
              "debugpy                     1.6.7.post1\n",
              "decorator                   5.1.1\n",
              "defusedxml                  0.7.1\n",
              "executing                   1.2.0\n",
              "fastjsonschema              NA\n",
              "filelock                    3.12.2\n",
              "fqdn                        NA\n",
              "hdbscan                     NA\n",
              "huggingface_hub             0.16.4\n",
              "idna                        3.4\n",
              "ipykernel                   6.25.1\n",
              "isoduration                 NA\n",
              "jedi                        0.19.0\n",
              "jinja2                      3.1.2\n",
              "joblib                      1.3.2\n",
              "json5                       NA\n",
              "jsonpointer                 2.4\n",
              "jsonschema                  4.19.0\n",
              "jsonschema_specifications   NA\n",
              "jupyter_events              0.7.0\n",
              "jupyter_server              2.7.2\n",
              "jupyterlab_server           2.24.0\n",
              "kiwisolver                  1.4.4\n",
              "llvmlite                    0.40.1\n",
              "markupsafe                  2.1.3\n",
              "matplotlib                  3.7.2\n",
              "mpl_toolkits                NA\n",
              "mpmath                      1.3.0\n",
              "nbformat                    5.9.2\n",
              "nltk                        3.8.1\n",
              "numba                       0.57.1\n",
              "nvfuser                     NA\n",
              "overrides                   NA\n",
              "packaging                   23.1\n",
              "parso                       0.8.3\n",
              "pexpect                     4.8.0\n",
              "pickleshare                 0.7.5\n",
              "pkg_resources               NA\n",
              "platformdirs                3.10.0\n",
              "prometheus_client           NA\n",
              "prompt_toolkit              3.0.39\n",
              "psutil                      5.9.5\n",
              "ptyprocess                  0.7.0\n",
              "pure_eval                   0.2.2\n",
              "pycparser                   2.21\n",
              "pydev_ipython               NA\n",
              "pydevconsole                NA\n",
              "pydevd                      2.9.5\n",
              "pydevd_file_utils           NA\n",
              "pydevd_plugins              NA\n",
              "pydevd_tracing              NA\n",
              "pygments                    2.16.1\n",
              "pynndescent                 0.5.10\n",
              "pyparsing                   3.0.9\n",
              "pythonjsonlogger            NA\n",
              "pytz                        2023.3\n",
              "referencing                 NA\n",
              "regex                       2.5.132\n",
              "requests                    2.31.0\n",
              "rfc3339_validator           0.1.4\n",
              "rfc3986_validator           0.1.1\n",
              "rpds                        NA\n",
              "safetensors                 0.3.3\n",
              "scipy                       1.11.2\n",
              "send2trash                  NA\n",
              "sentencepiece               0.1.99\n",
              "setuptools                  68.0.0\n",
              "six                         1.16.0\n",
              "sklearn                     1.3.0\n",
              "sniffio                     1.3.0\n",
              "stack_data                  0.6.2\n",
              "swig_runtime_data4          NA\n",
              "sympy                       1.12\n",
              "threadpoolctl               3.2.0\n",
              "tokenizers                  0.13.3\n",
              "torch                       2.0.1+cu117\n",
              "tornado                     6.3.3\n",
              "tqdm                        4.66.1\n",
              "traitlets                   5.9.0\n",
              "transformers                4.33.1\n",
              "typing_extensions           NA\n",
              "umap                        0.5.3\n",
              "uri_template                NA\n",
              "urllib3                     2.0.4\n",
              "wcwidth                     0.2.6\n",
              "webcolors                   1.13\n",
              "websocket                   1.6.1\n",
              "yaml                        6.0.1\n",
              "zmq                         25.1.1\n",
              "</pre>\n",
              "</details> <!-- seems like this ends pre, so might as well be explicit -->\n",
              "<pre>\n",
              "-----\n",
              "IPython             8.14.0\n",
              "jupyter_client      8.3.0\n",
              "jupyter_core        5.3.1\n",
              "jupyterlab          4.0.5\n",
              "-----\n",
              "Python 3.10.8 (main, Aug 19 2023, 00:31:12) [GCC 9.4.0]\n",
              "Linux-5.15.0-1041-azure-x86_64-with-glibc2.31\n",
              "-----\n",
              "Session information updated at 2023-09-07 18:26\n",
              "</pre>\n",
              "</details>"
            ],
            "text/plain": [
              "<IPython.core.display.HTML object>"
            ]
          },
          "execution_count": 17,
          "metadata": {},
          "output_type": "execute_result"
        }
      ],
      "source": [
        "import session_info\n",
        "session_info.show()"
      ]
    },
    {
      "cell_type": "markdown",
      "metadata": {
        "id": "Kg4Yf_HzFSOd"
      },
      "source": [
        "For this project, I used the [Hugging Face](https://huggingface.co/sentence-transformers/all-MiniLM-L6-v2) open source BERT Model to construct and build the algorithm. The model provides sentence similarity by mapping sentences and paragraphs to a 384 dimensional dense vector space and can be used for tasks like clustering or sementic search. The training data set contains a total number of sentence pairs above 1 billion sentences. \n",
        "![Algorithm used to identify the questions similarities](./img/OHDSI-BERT%20Ranking.jpg)"
      ]
    },
    {
      "cell_type": "markdown",
      "metadata": {},
      "source": [
        "Read the excel file from the github repo. the orginal [excel file](https://confluence.hl7.org/download/attachments/91994432/05142021%20Food%20Insecurity%20MASTER.xlsx?api=v2) was dwonloaded from [GP website](https://confluence.hl7.org/display/GRAV/Food+Insecurity). We conduct manual mapping of the assessment tool questions to [OMOP CDM using Athena](https://athena.ohdsi.org/search-terms/start). We created additional columns to report whether the questions [LOINC Codes](https://loinc.org/get-started/what-loinc-is/) was mapped or not. The final [excel file](08.31.2023%20Food%20Insecurity%20Screening%20SDOH%20Gravity%20Project.xlsx) is included in the github repostory of this project."
      ]
    },
    {
      "cell_type": "code",
      "execution_count": 18,
      "metadata": {
        "id": "FRZB4qRyZ7Rl"
      },
      "outputs": [],
      "source": [
        "xls = pd.ExcelFile(\"https://github.com/adambouras/OHDSI-Symposium-Submission/raw/main/08.31.2023%20Food%20Insecurity%20Screening%20SDOH%20Gravity%20Project.xlsx\")"
      ]
    },
    {
      "cell_type": "code",
      "execution_count": 19,
      "metadata": {
        "colab": {
          "base_uri": "https://localhost:8080/"
        },
        "id": "UCVG1b3pgP34",
        "outputId": "c43fba53-d029-456e-d626-a3260b44f040"
      },
      "outputs": [
        {
          "data": {
            "text/plain": [
              "['Program Definitions',\n",
              " 'Programs',\n",
              " 'Screening Questions-Answers',\n",
              " 'Diagnoses-Assessed Needs',\n",
              " 'Interventions Planned-Completed',\n",
              " 'Interventions CPT HCPCS',\n",
              " 'Message and Task Related Codes',\n",
              " 'Answer Codes',\n",
              " 'Goals']"
            ]
          },
          "execution_count": 19,
          "metadata": {},
          "output_type": "execute_result"
        }
      ],
      "source": [
        "xls.sheet_names"
      ]
    },
    {
      "cell_type": "code",
      "execution_count": 20,
      "metadata": {
        "id": "MsHhUaqIaOII"
      },
      "outputs": [],
      "source": [
        "#create dictionary for later retrieval\n",
        "d_s = {'sheet':[], 'df': []}\n",
        "for i , c in enumerate(xls.sheet_names, 1):\n",
        "    globals()['df'+ str(i)] = pd.read_excel(xls, c)\n",
        "    d_s['sheet'].append(c+str(i))\n",
        "    d_s['df'].append('df'+str(i))"
      ]
    },
    {
      "cell_type": "markdown",
      "metadata": {
        "id": "5JhPSHgkmwxF"
      },
      "source": [
        "#Create analysis of topics embedding"
      ]
    },
    {
      "cell_type": "code",
      "execution_count": 22,
      "metadata": {
        "id": "1ANFaAWcWt-T"
      },
      "outputs": [],
      "source": [
        "import re\n",
        "sentences_yes = df3['Question_Concept'].loc[df3['Mapped_to_Athena'] == 'Yes'].unique().tolist()\n",
        "sentences_yes = [x for x in sentences_yes if str(x) != 'nan']\n",
        "#remove redundant words\n",
        "pattern_yes = r\"\\s+\\[U\\.S\\. FSS\\]\"\n",
        "sentences_yes = [re.sub(pattern_yes, '', str(x)) for x in sentences_yes]\n",
        "#select unique assessment questions:\n",
        "duplicate_question = 'Within the past 12 months we worried whether our food would run out before we got money to buy more'\n",
        "sentences_yes.remove(duplicate_question)\n",
        "#select questions that were not mapped to any vocabularly using Athena:\n",
        "sentences_no = df3['Question_Concept'].loc[df3['Mapped_to_Athena'] != 'Yes'].unique().tolist()\n",
        "#clean string from unecessary strings Q1 Q14b. etc....\n",
        "pattern = r\"Q\\d{1,2}\\.\\s+|Q\\d{1,2}b\\.\\s+|\\?|\\.\"\n",
        "sentences_no = [re.sub(pattern, '', str(x)) for x in sentences_no]\n",
        "#Delete question mapped to Athena but not reported by the gravity team\n",
        "duplicated_question  = 'Within the past 12 months, you worried that your food would run out before you got money to buy more'\n",
        "sentences_no.remove(duplicated_question)\n",
        "sentences = [sentences_yes, sentences_no]"
      ]
    },
    {
      "cell_type": "code",
      "execution_count": 24,
      "metadata": {
        "id": "6wLOQE1JGpO4"
      },
      "outputs": [],
      "source": [
        "%%capture\n",
        "from sentence_transformers import SentenceTransformer, util\n",
        "model = SentenceTransformer('all-MiniLM-L6-v2')"
      ]
    },
    {
      "cell_type": "code",
      "execution_count": 25,
      "metadata": {
        "id": "18MqjNriD7qL"
      },
      "outputs": [],
      "source": [
        "%%capture\n",
        "model = SentenceTransformer('all-MiniLM-L6-v2')\n",
        "\n",
        "#Compute bi-ranked embedding for food insecurity\n",
        "\n",
        "ranked_domain ={'standard': [] ,'index_no':[],'label_no':[] ,'index_yes':[], 'label_yes': [], 'ranked_value':[]}\n",
        "for h,s in enumerate(sentences):\n",
        "  if h ==0: #select questions that have been mapped to Athena  for embedding\n",
        "    embedding_1= model.encode(s, convert_to_tensor=True)\n",
        "    for i, sentence in enumerate(sentences_no):\n",
        "      embedding_2 = model.encode(sentence, convert_to_tensor=True)\n",
        "      #Compute cosine-similarities\n",
        "      cosine_scores = util.cos_sim(embedding_1, embedding_2)\n",
        "      #Output the pairs with their score\n",
        "      for j, sentence_yes in enumerate(sentences_yes):\n",
        "        ranked_domain['standard'].append(h)\n",
        "        ranked_domain['index_no'].append(i)\n",
        "        ranked_domain['label_no'].append(sentence)\n",
        "        ranked_domain['index_yes'].append(j)\n",
        "        ranked_domain['label_yes'].append(sentence_yes)\n",
        "        na = cosine_scores.numpy()\n",
        "        ranked_domain['ranked_value'].append(round(na[j][0],2))\n",
        "    #print(f\"i: {i} and sentence {qt} \\t\\t, and j: {j} and standard: {dw} \\t\\t, and the cosine similarity is:{cosine_scores[j][0]}\")\n",
        "    #print(\"{} \\t\\t {} \\t\\t Score: {:.4f}\".format(qt, dw, cosine_scores[j][i]))"
      ]
    },
    {
      "cell_type": "code",
      "execution_count": 26,
      "metadata": {
        "id": "sdk2jKNtsy7N"
      },
      "outputs": [],
      "source": [
        "df =pd.DataFrame.from_dict(ranked_domain)\n"
      ]
    },
    {
      "cell_type": "code",
      "execution_count": 33,
      "metadata": {},
      "outputs": [],
      "source": [
        "#convert dataframe into pivote table:\n",
        "df_map= df.pivot(index= 'index_no', columns='index_yes',  values='ranked_value')"
      ]
    },
    {
      "cell_type": "code",
      "execution_count": 35,
      "metadata": {
        "colab": {
          "base_uri": "https://localhost:8080/",
          "height": 917
        },
        "id": "9dRqufoYghV3",
        "outputId": "2731ca1a-1f2f-44e2-a7da-9ffe3c9b23c9"
      },
      "outputs": [
        {
          "data": {
            "application/vnd.plotly.v1+json": {
              "config": {
                "plotlyServerURL": "https://plot.ly"
              },
              "data": [
                {
                  "coloraxis": "coloraxis",
                  "colorscale": [
                    [
                      0,
                      "#440154"
                    ],
                    [
                      0.1111111111111111,
                      "#482878"
                    ],
                    [
                      0.2222222222222222,
                      "#3e4989"
                    ],
                    [
                      0.3333333333333333,
                      "#31688e"
                    ],
                    [
                      0.4444444444444444,
                      "#26828e"
                    ],
                    [
                      0.5555555555555556,
                      "#1f9e89"
                    ],
                    [
                      0.6666666666666666,
                      "#35b779"
                    ],
                    [
                      0.7777777777777778,
                      "#6ece58"
                    ],
                    [
                      0.8888888888888888,
                      "#b5de2b"
                    ],
                    [
                      1,
                      "#fde725"
                    ]
                  ],
                  "type": "heatmap",
                  "xaxis": "x",
                  "yaxis": "y",
                  "z": [
                    [
                      0.3799999952316284,
                      0.4300000071525574,
                      0.3499999940395355,
                      0.03999999910593033
                    ],
                    [
                      0.6399999856948853,
                      0.6700000166893005,
                      0.6200000047683716,
                      0.2800000011920929
                    ],
                    [
                      0.5199999809265137,
                      0.6100000143051147,
                      0.4699999988079071,
                      0.1899999976158142
                    ],
                    [
                      0.6800000071525574,
                      0.8799999952316284,
                      0.6899999976158142,
                      0.14000000059604645
                    ],
                    [
                      0.9100000262260437,
                      0.8199999928474426,
                      0.9300000071525574,
                      0.3499999940395355
                    ],
                    [
                      0.75,
                      0.6299999952316284,
                      0.75,
                      0.25
                    ],
                    [
                      0.4300000071525574,
                      0.4000000059604645,
                      0.4000000059604645,
                      0.17000000178813934
                    ],
                    [
                      0.6000000238418579,
                      0.6499999761581421,
                      0.6499999761581421,
                      0.33000001311302185
                    ],
                    [
                      0.17000000178813934,
                      0.15000000596046448,
                      0.12999999523162842,
                      0.20999999344348907
                    ],
                    [
                      0.6899999976158142,
                      0.75,
                      0.7599999904632568,
                      0.3499999940395355
                    ],
                    [
                      0.6399999856948853,
                      0.6800000071525574,
                      0.7400000095367432,
                      0.3700000047683716
                    ],
                    [
                      0.5,
                      0.5799999833106995,
                      0.5400000214576721,
                      0.20999999344348907
                    ],
                    [
                      0.550000011920929,
                      0.6800000071525574,
                      0.5299999713897705,
                      0.12999999523162842
                    ],
                    [
                      0.6800000071525574,
                      0.7200000286102295,
                      0.7699999809265137,
                      0.3199999928474426
                    ],
                    [
                      0.6499999761581421,
                      0.6600000262260437,
                      0.699999988079071,
                      0.3400000035762787
                    ],
                    [
                      0.5400000214576721,
                      0.5,
                      0.5299999713897705,
                      0.3199999928474426
                    ],
                    [
                      0.3499999940395355,
                      0.28999999165534973,
                      0.3199999928474426,
                      0.2199999988079071
                    ],
                    [
                      0.4000000059604645,
                      0.36000001430511475,
                      0.38999998569488525,
                      0.2800000011920929
                    ],
                    [
                      0.6000000238418579,
                      0.6000000238418579,
                      0.6200000047683716,
                      0.3100000023841858
                    ],
                    [
                      0.5699999928474426,
                      0.5699999928474426,
                      0.6100000143051147,
                      0.3199999928474426
                    ],
                    [
                      0.6299999952316284,
                      0.6600000262260437,
                      0.6700000166893005,
                      0.33000001311302185
                    ],
                    [
                      0.6399999856948853,
                      0.6399999856948853,
                      0.6700000166893005,
                      0.30000001192092896
                    ],
                    [
                      0.5799999833106995,
                      0.7099999785423279,
                      0.6700000166893005,
                      0.4099999964237213
                    ],
                    [
                      0.5799999833106995,
                      0.6299999952316284,
                      0.6600000262260437,
                      0.3700000047683716
                    ],
                    [
                      0.5899999737739563,
                      0.6499999761581421,
                      0.6800000071525574,
                      0.4000000059604645
                    ],
                    [
                      0.5400000214576721,
                      0.5600000023841858,
                      0.6000000238418579,
                      0.30000001192092896
                    ],
                    [
                      0.47999998927116394,
                      0.5,
                      0.5400000214576721,
                      0.30000001192092896
                    ],
                    [
                      0.6299999952316284,
                      0.7200000286102295,
                      0.699999988079071,
                      0.33000001311302185
                    ],
                    [
                      0.5400000214576721,
                      0.5699999928474426,
                      0.5600000023841858,
                      0.38999998569488525
                    ],
                    [
                      0.46000000834465027,
                      0.4699999988079071,
                      0.5199999809265137,
                      0.25999999046325684
                    ],
                    [
                      0.5600000023841858,
                      0.6299999952316284,
                      0.6399999856948853,
                      0.3799999952316284
                    ],
                    [
                      0.8299999833106995,
                      0.9300000071525574,
                      0.7900000214576721,
                      0.23999999463558197
                    ],
                    [
                      0.4699999988079071,
                      0.47999998927116394,
                      0.4000000059604645,
                      0.3199999928474426
                    ],
                    [
                      -0.009999999776482582,
                      0.029999999329447746,
                      -0.019999999552965164,
                      0.14000000059604645
                    ],
                    [
                      0.25999999046325684,
                      0.2800000011920929,
                      0.23999999463558197,
                      0.10000000149011612
                    ],
                    [
                      0.5799999833106995,
                      0.6499999761581421,
                      0.5899999737739563,
                      0.36000001430511475
                    ],
                    [
                      0.550000011920929,
                      0.6200000047683716,
                      0.5699999928474426,
                      0.38999998569488525
                    ],
                    [
                      0.5799999833106995,
                      0.5699999928474426,
                      0.6299999952316284,
                      0.36000001430511475
                    ],
                    [
                      0.5299999713897705,
                      0.5299999713897705,
                      0.5799999833106995,
                      0.3700000047683716
                    ],
                    [
                      0.6100000143051147,
                      0.6100000143051147,
                      0.6299999952316284,
                      0.3700000047683716
                    ],
                    [
                      0.5400000214576721,
                      0.550000011920929,
                      0.5799999833106995,
                      0.3700000047683716
                    ],
                    [
                      0.6200000047683716,
                      0.5799999833106995,
                      0.6800000071525574,
                      0.3799999952316284
                    ],
                    [
                      0.5899999737739563,
                      0.5600000023841858,
                      0.6499999761581421,
                      0.38999998569488525
                    ],
                    [
                      0.5600000023841858,
                      0.5600000023841858,
                      0.5899999737739563,
                      0.25999999046325684
                    ],
                    [
                      0.5400000214576721,
                      0.550000011920929,
                      0.5799999833106995,
                      0.3100000023841858
                    ],
                    [
                      0.6000000238418579,
                      0.5899999737739563,
                      0.6100000143051147,
                      0.28999999165534973
                    ],
                    [
                      0.5400000214576721,
                      0.550000011920929,
                      0.5600000023841858,
                      0.3100000023841858
                    ],
                    [
                      0.6000000238418579,
                      0.5299999713897705,
                      0.6000000238418579,
                      0.38999998569488525
                    ],
                    [
                      0.5699999928474426,
                      0.5400000214576721,
                      0.6000000238418579,
                      0.38999998569488525
                    ],
                    [
                      0.5,
                      0.5,
                      0.5299999713897705,
                      0.2199999988079071
                    ],
                    [
                      0.4699999988079071,
                      0.49000000953674316,
                      0.5,
                      0.25
                    ],
                    [
                      0.5,
                      0.4699999988079071,
                      0.5199999809265137,
                      0.27000001072883606
                    ],
                    [
                      0.47999998927116394,
                      0.4699999988079071,
                      0.5099999904632568,
                      0.28999999165534973
                    ],
                    [
                      0.3799999952316284,
                      0.36000001430511475,
                      0.4699999988079071,
                      0.41999998688697815
                    ],
                    [
                      0.7799999713897705,
                      0.8999999761581421,
                      0.7699999809265137,
                      0.25
                    ],
                    [
                      0.49000000953674316,
                      0.5400000214576721,
                      0.5400000214576721,
                      0.20000000298023224
                    ],
                    [
                      0.6000000238418579,
                      0.800000011920929,
                      0.6600000262260437,
                      0.2800000011920929
                    ],
                    [
                      0.7799999713897705,
                      0.75,
                      0.8299999833106995,
                      0.3799999952316284
                    ],
                    [
                      0.5699999928474426,
                      0.6299999952316284,
                      0.6000000238418579,
                      0.30000001192092896
                    ],
                    [
                      0.6000000238418579,
                      0.6399999856948853,
                      0.6399999856948853,
                      0.3400000035762787
                    ],
                    [
                      0.46000000834465027,
                      0.49000000953674316,
                      0.49000000953674316,
                      0.2800000011920929
                    ],
                    [
                      0.5299999713897705,
                      0.5299999713897705,
                      0.550000011920929,
                      0.3199999928474426
                    ],
                    [
                      0.6200000047683716,
                      0.6600000262260437,
                      0.6600000262260437,
                      0.3199999928474426
                    ],
                    [
                      0.25,
                      0.20000000298023224,
                      0.2199999988079071,
                      0.20999999344348907
                    ],
                    [
                      0.6899999976158142,
                      0.75,
                      0.7599999904632568,
                      0.3100000023841858
                    ],
                    [
                      0.5799999833106995,
                      0.6299999952316284,
                      0.6700000166893005,
                      0.3499999940395355
                    ],
                    [
                      0.6100000143051147,
                      0.6499999761581421,
                      0.7099999785423279,
                      0.3100000023841858
                    ],
                    [
                      0.6399999856948853,
                      0.6600000262260437,
                      0.6899999976158142,
                      0.3700000047683716
                    ],
                    [
                      0.25,
                      0.20000000298023224,
                      0.2199999988079071,
                      0.20999999344348907
                    ],
                    [
                      0.5600000023841858,
                      0.5600000023841858,
                      0.5699999928474426,
                      0.2800000011920929
                    ],
                    [
                      0.550000011920929,
                      0.5699999928474426,
                      0.5799999833106995,
                      0.30000001192092896
                    ],
                    [
                      0.25,
                      0.20000000298023224,
                      0.2199999988079071,
                      0.20999999344348907
                    ],
                    [
                      0.5899999737739563,
                      0.6100000143051147,
                      0.6299999952316284,
                      0.3100000023841858
                    ],
                    [
                      0.5699999928474426,
                      0.5699999928474426,
                      0.5899999737739563,
                      0.28999999165534973
                    ],
                    [
                      0.5400000214576721,
                      0.7099999785423279,
                      0.5699999928474426,
                      0.30000001192092896
                    ],
                    [
                      0.7099999785423279,
                      0.6800000071525574,
                      0.7699999809265137,
                      0.38999998569488525
                    ],
                    [
                      0.6200000047683716,
                      0.6100000143051147,
                      0.6700000166893005,
                      0.4000000059604645
                    ],
                    [
                      0.5199999809265137,
                      0.5400000214576721,
                      0.5600000023841858,
                      0.4000000059604645
                    ],
                    [
                      0.550000011920929,
                      0.5600000023841858,
                      0.6100000143051147,
                      0.4300000071525574
                    ],
                    [
                      0.5600000023841858,
                      0.5899999737739563,
                      0.5699999928474426,
                      0.3199999928474426
                    ],
                    [
                      0.4699999988079071,
                      0.49000000953674316,
                      0.5299999713897705,
                      0.4099999964237213
                    ],
                    [
                      0.47999998927116394,
                      0.4399999976158142,
                      0.5299999713897705,
                      0.3499999940395355
                    ],
                    [
                      0.5,
                      0.5,
                      0.5600000023841858,
                      0.4000000059604645
                    ],
                    [
                      0.6000000238418579,
                      0.75,
                      0.6399999856948853,
                      0.2800000011920929
                    ],
                    [
                      0.7900000214576721,
                      0.9599999785423279,
                      0.8399999737739563,
                      0.23999999463558197
                    ],
                    [
                      0.9100000262260437,
                      0.8299999833106995,
                      0.9599999785423279,
                      0.33000001311302185
                    ],
                    [
                      0.5600000023841858,
                      0.5899999737739563,
                      0.6299999952316284,
                      0.38999998569488525
                    ],
                    [
                      0.4099999964237213,
                      0.4300000071525574,
                      0.36000001430511475,
                      0.2800000011920929
                    ],
                    [
                      0.550000011920929,
                      0.7599999904632568,
                      0.5899999737739563,
                      0.17000000178813934
                    ],
                    [
                      0.5099999904632568,
                      0.5299999713897705,
                      0.49000000953674316,
                      0.30000001192092896
                    ],
                    [
                      0.47999998927116394,
                      0.6000000238418579,
                      0.44999998807907104,
                      0.25
                    ],
                    [
                      0.9100000262260437,
                      0.8600000143051147,
                      0.9900000095367432,
                      0.33000001311302185
                    ]
                  ]
                }
              ],
              "layout": {
                "annotations": [
                  {
                    "align": "left",
                    "showarrow": false,
                    "text": "colorscale",
                    "x": 0,
                    "xref": "paper",
                    "y": 1.06,
                    "yref": "paper"
                  },
                  {
                    "showarrow": false,
                    "text": "Reverse<br>Colorscale",
                    "x": 0.25,
                    "xref": "paper",
                    "y": 1.07,
                    "yref": "paper"
                  },
                  {
                    "showarrow": false,
                    "text": "Lines",
                    "x": 0.54,
                    "xref": "paper",
                    "y": 1.06,
                    "yref": "paper"
                  }
                ],
                "autosize": false,
                "height": 900,
                "margin": {
                  "b": 0,
                  "l": 0,
                  "r": 0,
                  "t": 100
                },
                "scene": {
                  "aspectmode": "manual",
                  "aspectratio": {
                    "x": 1,
                    "y": 1,
                    "z": 0.7
                  }
                },
                "showlegend": false,
                "sliders": [
                  {
                    "active": 10,
                    "currentvalue": {
                      "prefix": "Frequency: "
                    },
                    "pad": {
                      "t": 50
                    }
                  }
                ],
                "template": {
                  "data": {
                    "bar": [
                      {
                        "error_x": {
                          "color": "#2a3f5f"
                        },
                        "error_y": {
                          "color": "#2a3f5f"
                        },
                        "marker": {
                          "line": {
                            "color": "#E5ECF6",
                            "width": 0.5
                          },
                          "pattern": {
                            "fillmode": "overlay",
                            "size": 10,
                            "solidity": 0.2
                          }
                        },
                        "type": "bar"
                      }
                    ],
                    "barpolar": [
                      {
                        "marker": {
                          "line": {
                            "color": "#E5ECF6",
                            "width": 0.5
                          },
                          "pattern": {
                            "fillmode": "overlay",
                            "size": 10,
                            "solidity": 0.2
                          }
                        },
                        "type": "barpolar"
                      }
                    ],
                    "carpet": [
                      {
                        "aaxis": {
                          "endlinecolor": "#2a3f5f",
                          "gridcolor": "white",
                          "linecolor": "white",
                          "minorgridcolor": "white",
                          "startlinecolor": "#2a3f5f"
                        },
                        "baxis": {
                          "endlinecolor": "#2a3f5f",
                          "gridcolor": "white",
                          "linecolor": "white",
                          "minorgridcolor": "white",
                          "startlinecolor": "#2a3f5f"
                        },
                        "type": "carpet"
                      }
                    ],
                    "choropleth": [
                      {
                        "colorbar": {
                          "outlinewidth": 0,
                          "ticks": ""
                        },
                        "type": "choropleth"
                      }
                    ],
                    "contour": [
                      {
                        "colorbar": {
                          "outlinewidth": 0,
                          "ticks": ""
                        },
                        "colorscale": [
                          [
                            0,
                            "#0d0887"
                          ],
                          [
                            0.1111111111111111,
                            "#46039f"
                          ],
                          [
                            0.2222222222222222,
                            "#7201a8"
                          ],
                          [
                            0.3333333333333333,
                            "#9c179e"
                          ],
                          [
                            0.4444444444444444,
                            "#bd3786"
                          ],
                          [
                            0.5555555555555556,
                            "#d8576b"
                          ],
                          [
                            0.6666666666666666,
                            "#ed7953"
                          ],
                          [
                            0.7777777777777778,
                            "#fb9f3a"
                          ],
                          [
                            0.8888888888888888,
                            "#fdca26"
                          ],
                          [
                            1,
                            "#f0f921"
                          ]
                        ],
                        "type": "contour"
                      }
                    ],
                    "contourcarpet": [
                      {
                        "colorbar": {
                          "outlinewidth": 0,
                          "ticks": ""
                        },
                        "type": "contourcarpet"
                      }
                    ],
                    "heatmap": [
                      {
                        "colorbar": {
                          "outlinewidth": 0,
                          "ticks": ""
                        },
                        "colorscale": [
                          [
                            0,
                            "#0d0887"
                          ],
                          [
                            0.1111111111111111,
                            "#46039f"
                          ],
                          [
                            0.2222222222222222,
                            "#7201a8"
                          ],
                          [
                            0.3333333333333333,
                            "#9c179e"
                          ],
                          [
                            0.4444444444444444,
                            "#bd3786"
                          ],
                          [
                            0.5555555555555556,
                            "#d8576b"
                          ],
                          [
                            0.6666666666666666,
                            "#ed7953"
                          ],
                          [
                            0.7777777777777778,
                            "#fb9f3a"
                          ],
                          [
                            0.8888888888888888,
                            "#fdca26"
                          ],
                          [
                            1,
                            "#f0f921"
                          ]
                        ],
                        "type": "heatmap"
                      }
                    ],
                    "heatmapgl": [
                      {
                        "colorbar": {
                          "outlinewidth": 0,
                          "ticks": ""
                        },
                        "colorscale": [
                          [
                            0,
                            "#0d0887"
                          ],
                          [
                            0.1111111111111111,
                            "#46039f"
                          ],
                          [
                            0.2222222222222222,
                            "#7201a8"
                          ],
                          [
                            0.3333333333333333,
                            "#9c179e"
                          ],
                          [
                            0.4444444444444444,
                            "#bd3786"
                          ],
                          [
                            0.5555555555555556,
                            "#d8576b"
                          ],
                          [
                            0.6666666666666666,
                            "#ed7953"
                          ],
                          [
                            0.7777777777777778,
                            "#fb9f3a"
                          ],
                          [
                            0.8888888888888888,
                            "#fdca26"
                          ],
                          [
                            1,
                            "#f0f921"
                          ]
                        ],
                        "type": "heatmapgl"
                      }
                    ],
                    "histogram": [
                      {
                        "marker": {
                          "pattern": {
                            "fillmode": "overlay",
                            "size": 10,
                            "solidity": 0.2
                          }
                        },
                        "type": "histogram"
                      }
                    ],
                    "histogram2d": [
                      {
                        "colorbar": {
                          "outlinewidth": 0,
                          "ticks": ""
                        },
                        "colorscale": [
                          [
                            0,
                            "#0d0887"
                          ],
                          [
                            0.1111111111111111,
                            "#46039f"
                          ],
                          [
                            0.2222222222222222,
                            "#7201a8"
                          ],
                          [
                            0.3333333333333333,
                            "#9c179e"
                          ],
                          [
                            0.4444444444444444,
                            "#bd3786"
                          ],
                          [
                            0.5555555555555556,
                            "#d8576b"
                          ],
                          [
                            0.6666666666666666,
                            "#ed7953"
                          ],
                          [
                            0.7777777777777778,
                            "#fb9f3a"
                          ],
                          [
                            0.8888888888888888,
                            "#fdca26"
                          ],
                          [
                            1,
                            "#f0f921"
                          ]
                        ],
                        "type": "histogram2d"
                      }
                    ],
                    "histogram2dcontour": [
                      {
                        "colorbar": {
                          "outlinewidth": 0,
                          "ticks": ""
                        },
                        "colorscale": [
                          [
                            0,
                            "#0d0887"
                          ],
                          [
                            0.1111111111111111,
                            "#46039f"
                          ],
                          [
                            0.2222222222222222,
                            "#7201a8"
                          ],
                          [
                            0.3333333333333333,
                            "#9c179e"
                          ],
                          [
                            0.4444444444444444,
                            "#bd3786"
                          ],
                          [
                            0.5555555555555556,
                            "#d8576b"
                          ],
                          [
                            0.6666666666666666,
                            "#ed7953"
                          ],
                          [
                            0.7777777777777778,
                            "#fb9f3a"
                          ],
                          [
                            0.8888888888888888,
                            "#fdca26"
                          ],
                          [
                            1,
                            "#f0f921"
                          ]
                        ],
                        "type": "histogram2dcontour"
                      }
                    ],
                    "mesh3d": [
                      {
                        "colorbar": {
                          "outlinewidth": 0,
                          "ticks": ""
                        },
                        "type": "mesh3d"
                      }
                    ],
                    "parcoords": [
                      {
                        "line": {
                          "colorbar": {
                            "outlinewidth": 0,
                            "ticks": ""
                          }
                        },
                        "type": "parcoords"
                      }
                    ],
                    "pie": [
                      {
                        "automargin": true,
                        "type": "pie"
                      }
                    ],
                    "scatter": [
                      {
                        "fillpattern": {
                          "fillmode": "overlay",
                          "size": 10,
                          "solidity": 0.2
                        },
                        "type": "scatter"
                      }
                    ],
                    "scatter3d": [
                      {
                        "line": {
                          "colorbar": {
                            "outlinewidth": 0,
                            "ticks": ""
                          }
                        },
                        "marker": {
                          "colorbar": {
                            "outlinewidth": 0,
                            "ticks": ""
                          }
                        },
                        "type": "scatter3d"
                      }
                    ],
                    "scattercarpet": [
                      {
                        "marker": {
                          "colorbar": {
                            "outlinewidth": 0,
                            "ticks": ""
                          }
                        },
                        "type": "scattercarpet"
                      }
                    ],
                    "scattergeo": [
                      {
                        "marker": {
                          "colorbar": {
                            "outlinewidth": 0,
                            "ticks": ""
                          }
                        },
                        "type": "scattergeo"
                      }
                    ],
                    "scattergl": [
                      {
                        "marker": {
                          "colorbar": {
                            "outlinewidth": 0,
                            "ticks": ""
                          }
                        },
                        "type": "scattergl"
                      }
                    ],
                    "scattermapbox": [
                      {
                        "marker": {
                          "colorbar": {
                            "outlinewidth": 0,
                            "ticks": ""
                          }
                        },
                        "type": "scattermapbox"
                      }
                    ],
                    "scatterpolar": [
                      {
                        "marker": {
                          "colorbar": {
                            "outlinewidth": 0,
                            "ticks": ""
                          }
                        },
                        "type": "scatterpolar"
                      }
                    ],
                    "scatterpolargl": [
                      {
                        "marker": {
                          "colorbar": {
                            "outlinewidth": 0,
                            "ticks": ""
                          }
                        },
                        "type": "scatterpolargl"
                      }
                    ],
                    "scatterternary": [
                      {
                        "marker": {
                          "colorbar": {
                            "outlinewidth": 0,
                            "ticks": ""
                          }
                        },
                        "type": "scatterternary"
                      }
                    ],
                    "surface": [
                      {
                        "colorbar": {
                          "outlinewidth": 0,
                          "ticks": ""
                        },
                        "colorscale": [
                          [
                            0,
                            "#0d0887"
                          ],
                          [
                            0.1111111111111111,
                            "#46039f"
                          ],
                          [
                            0.2222222222222222,
                            "#7201a8"
                          ],
                          [
                            0.3333333333333333,
                            "#9c179e"
                          ],
                          [
                            0.4444444444444444,
                            "#bd3786"
                          ],
                          [
                            0.5555555555555556,
                            "#d8576b"
                          ],
                          [
                            0.6666666666666666,
                            "#ed7953"
                          ],
                          [
                            0.7777777777777778,
                            "#fb9f3a"
                          ],
                          [
                            0.8888888888888888,
                            "#fdca26"
                          ],
                          [
                            1,
                            "#f0f921"
                          ]
                        ],
                        "type": "surface"
                      }
                    ],
                    "table": [
                      {
                        "cells": {
                          "fill": {
                            "color": "#EBF0F8"
                          },
                          "line": {
                            "color": "white"
                          }
                        },
                        "header": {
                          "fill": {
                            "color": "#C8D4E3"
                          },
                          "line": {
                            "color": "white"
                          }
                        },
                        "type": "table"
                      }
                    ]
                  },
                  "layout": {
                    "annotationdefaults": {
                      "arrowcolor": "#2a3f5f",
                      "arrowhead": 0,
                      "arrowwidth": 1
                    },
                    "autotypenumbers": "strict",
                    "coloraxis": {
                      "colorbar": {
                        "outlinewidth": 0,
                        "ticks": ""
                      }
                    },
                    "colorscale": {
                      "diverging": [
                        [
                          0,
                          "#8e0152"
                        ],
                        [
                          0.1,
                          "#c51b7d"
                        ],
                        [
                          0.2,
                          "#de77ae"
                        ],
                        [
                          0.3,
                          "#f1b6da"
                        ],
                        [
                          0.4,
                          "#fde0ef"
                        ],
                        [
                          0.5,
                          "#f7f7f7"
                        ],
                        [
                          0.6,
                          "#e6f5d0"
                        ],
                        [
                          0.7,
                          "#b8e186"
                        ],
                        [
                          0.8,
                          "#7fbc41"
                        ],
                        [
                          0.9,
                          "#4d9221"
                        ],
                        [
                          1,
                          "#276419"
                        ]
                      ],
                      "sequential": [
                        [
                          0,
                          "#0d0887"
                        ],
                        [
                          0.1111111111111111,
                          "#46039f"
                        ],
                        [
                          0.2222222222222222,
                          "#7201a8"
                        ],
                        [
                          0.3333333333333333,
                          "#9c179e"
                        ],
                        [
                          0.4444444444444444,
                          "#bd3786"
                        ],
                        [
                          0.5555555555555556,
                          "#d8576b"
                        ],
                        [
                          0.6666666666666666,
                          "#ed7953"
                        ],
                        [
                          0.7777777777777778,
                          "#fb9f3a"
                        ],
                        [
                          0.8888888888888888,
                          "#fdca26"
                        ],
                        [
                          1,
                          "#f0f921"
                        ]
                      ],
                      "sequentialminus": [
                        [
                          0,
                          "#0d0887"
                        ],
                        [
                          0.1111111111111111,
                          "#46039f"
                        ],
                        [
                          0.2222222222222222,
                          "#7201a8"
                        ],
                        [
                          0.3333333333333333,
                          "#9c179e"
                        ],
                        [
                          0.4444444444444444,
                          "#bd3786"
                        ],
                        [
                          0.5555555555555556,
                          "#d8576b"
                        ],
                        [
                          0.6666666666666666,
                          "#ed7953"
                        ],
                        [
                          0.7777777777777778,
                          "#fb9f3a"
                        ],
                        [
                          0.8888888888888888,
                          "#fdca26"
                        ],
                        [
                          1,
                          "#f0f921"
                        ]
                      ]
                    },
                    "colorway": [
                      "#636efa",
                      "#EF553B",
                      "#00cc96",
                      "#ab63fa",
                      "#FFA15A",
                      "#19d3f3",
                      "#FF6692",
                      "#B6E880",
                      "#FF97FF",
                      "#FECB52"
                    ],
                    "font": {
                      "color": "#2a3f5f"
                    },
                    "geo": {
                      "bgcolor": "white",
                      "lakecolor": "white",
                      "landcolor": "#E5ECF6",
                      "showlakes": true,
                      "showland": true,
                      "subunitcolor": "white"
                    },
                    "hoverlabel": {
                      "align": "left"
                    },
                    "hovermode": "closest",
                    "mapbox": {
                      "style": "light"
                    },
                    "paper_bgcolor": "white",
                    "plot_bgcolor": "#E5ECF6",
                    "polar": {
                      "angularaxis": {
                        "gridcolor": "white",
                        "linecolor": "white",
                        "ticks": ""
                      },
                      "bgcolor": "#E5ECF6",
                      "radialaxis": {
                        "gridcolor": "white",
                        "linecolor": "white",
                        "ticks": ""
                      }
                    },
                    "scene": {
                      "xaxis": {
                        "backgroundcolor": "#E5ECF6",
                        "gridcolor": "white",
                        "gridwidth": 2,
                        "linecolor": "white",
                        "showbackground": true,
                        "ticks": "",
                        "zerolinecolor": "white"
                      },
                      "yaxis": {
                        "backgroundcolor": "#E5ECF6",
                        "gridcolor": "white",
                        "gridwidth": 2,
                        "linecolor": "white",
                        "showbackground": true,
                        "ticks": "",
                        "zerolinecolor": "white"
                      },
                      "zaxis": {
                        "backgroundcolor": "#E5ECF6",
                        "gridcolor": "white",
                        "gridwidth": 2,
                        "linecolor": "white",
                        "showbackground": true,
                        "ticks": "",
                        "zerolinecolor": "white"
                      }
                    },
                    "shapedefaults": {
                      "line": {
                        "color": "#2a3f5f"
                      }
                    },
                    "ternary": {
                      "aaxis": {
                        "gridcolor": "white",
                        "linecolor": "white",
                        "ticks": ""
                      },
                      "baxis": {
                        "gridcolor": "white",
                        "linecolor": "white",
                        "ticks": ""
                      },
                      "bgcolor": "#E5ECF6",
                      "caxis": {
                        "gridcolor": "white",
                        "linecolor": "white",
                        "ticks": ""
                      }
                    },
                    "title": {
                      "x": 0.05
                    },
                    "xaxis": {
                      "automargin": true,
                      "gridcolor": "white",
                      "linecolor": "white",
                      "ticks": "",
                      "title": {
                        "standoff": 15
                      },
                      "zerolinecolor": "white",
                      "zerolinewidth": 2
                    },
                    "yaxis": {
                      "automargin": true,
                      "gridcolor": "white",
                      "linecolor": "white",
                      "ticks": "",
                      "title": {
                        "standoff": 15
                      },
                      "zerolinecolor": "white",
                      "zerolinewidth": 2
                    }
                  }
                },
                "updatemenus": [
                  {
                    "buttons": [
                      {
                        "args": [
                          "colorscale",
                          "Viridis"
                        ],
                        "label": "Viridis",
                        "method": "restyle"
                      },
                      {
                        "args": [
                          "colorscale",
                          "Cividis"
                        ],
                        "label": "Cividis",
                        "method": "restyle"
                      },
                      {
                        "args": [
                          "colorscale",
                          "Blues"
                        ],
                        "label": "Blues",
                        "method": "restyle"
                      },
                      {
                        "args": [
                          "colorscale",
                          "Greens"
                        ],
                        "label": "Greens",
                        "method": "restyle"
                      }
                    ],
                    "direction": "down",
                    "pad": {
                      "r": 10,
                      "t": 10
                    },
                    "showactive": true,
                    "x": 0.1,
                    "xanchor": "left",
                    "y": 1.08,
                    "yanchor": "top"
                  },
                  {
                    "buttons": [
                      {
                        "args": [
                          "reversescale",
                          false
                        ],
                        "label": "False",
                        "method": "restyle"
                      },
                      {
                        "args": [
                          "reversescale",
                          true
                        ],
                        "label": "True",
                        "method": "restyle"
                      }
                    ],
                    "direction": "down",
                    "pad": {
                      "r": 10,
                      "t": 10
                    },
                    "showactive": true,
                    "x": 0.37,
                    "xanchor": "left",
                    "y": 1.08,
                    "yanchor": "top"
                  },
                  {
                    "buttons": [
                      {
                        "args": [
                          {
                            "contours.showlines": false,
                            "type": "contour"
                          }
                        ],
                        "label": "Hide lines",
                        "method": "restyle"
                      },
                      {
                        "args": [
                          {
                            "contours.showlines": true,
                            "type": "contour"
                          }
                        ],
                        "label": "Show lines",
                        "method": "restyle"
                      }
                    ],
                    "direction": "down",
                    "pad": {
                      "r": 10,
                      "t": 10
                    },
                    "showactive": true,
                    "x": 0.58,
                    "xanchor": "left",
                    "y": 1.08,
                    "yanchor": "top"
                  }
                ],
                "width": 800,
                "xaxis": {
                  "anchor": "y",
                  "domain": [
                    0,
                    1
                  ]
                },
                "yaxis": {
                  "anchor": "x",
                  "domain": [
                    0,
                    1
                  ]
                }
              }
            },
            "text/html": [
              "<div>                            <div id=\"e1268fce-1b0e-4b76-b331-b0c3a2ae8bec\" class=\"plotly-graph-div\" style=\"height:900px; width:800px;\"></div>            <script type=\"text/javascript\">                require([\"plotly\"], function(Plotly) {                    window.PLOTLYENV=window.PLOTLYENV || {};                                    if (document.getElementById(\"e1268fce-1b0e-4b76-b331-b0c3a2ae8bec\")) {                    Plotly.newPlot(                        \"e1268fce-1b0e-4b76-b331-b0c3a2ae8bec\",                        [{\"coloraxis\":\"coloraxis\",\"colorscale\":[[0.0,\"#440154\"],[0.1111111111111111,\"#482878\"],[0.2222222222222222,\"#3e4989\"],[0.3333333333333333,\"#31688e\"],[0.4444444444444444,\"#26828e\"],[0.5555555555555556,\"#1f9e89\"],[0.6666666666666666,\"#35b779\"],[0.7777777777777778,\"#6ece58\"],[0.8888888888888888,\"#b5de2b\"],[1.0,\"#fde725\"]],\"z\":[[0.3799999952316284,0.4300000071525574,0.3499999940395355,0.03999999910593033],[0.6399999856948853,0.6700000166893005,0.6200000047683716,0.2800000011920929],[0.5199999809265137,0.6100000143051147,0.4699999988079071,0.1899999976158142],[0.6800000071525574,0.8799999952316284,0.6899999976158142,0.14000000059604645],[0.9100000262260437,0.8199999928474426,0.9300000071525574,0.3499999940395355],[0.75,0.6299999952316284,0.75,0.25],[0.4300000071525574,0.4000000059604645,0.4000000059604645,0.17000000178813934],[0.6000000238418579,0.6499999761581421,0.6499999761581421,0.33000001311302185],[0.17000000178813934,0.15000000596046448,0.12999999523162842,0.20999999344348907],[0.6899999976158142,0.75,0.7599999904632568,0.3499999940395355],[0.6399999856948853,0.6800000071525574,0.7400000095367432,0.3700000047683716],[0.5,0.5799999833106995,0.5400000214576721,0.20999999344348907],[0.550000011920929,0.6800000071525574,0.5299999713897705,0.12999999523162842],[0.6800000071525574,0.7200000286102295,0.7699999809265137,0.3199999928474426],[0.6499999761581421,0.6600000262260437,0.699999988079071,0.3400000035762787],[0.5400000214576721,0.5,0.5299999713897705,0.3199999928474426],[0.3499999940395355,0.28999999165534973,0.3199999928474426,0.2199999988079071],[0.4000000059604645,0.36000001430511475,0.38999998569488525,0.2800000011920929],[0.6000000238418579,0.6000000238418579,0.6200000047683716,0.3100000023841858],[0.5699999928474426,0.5699999928474426,0.6100000143051147,0.3199999928474426],[0.6299999952316284,0.6600000262260437,0.6700000166893005,0.33000001311302185],[0.6399999856948853,0.6399999856948853,0.6700000166893005,0.30000001192092896],[0.5799999833106995,0.7099999785423279,0.6700000166893005,0.4099999964237213],[0.5799999833106995,0.6299999952316284,0.6600000262260437,0.3700000047683716],[0.5899999737739563,0.6499999761581421,0.6800000071525574,0.4000000059604645],[0.5400000214576721,0.5600000023841858,0.6000000238418579,0.30000001192092896],[0.47999998927116394,0.5,0.5400000214576721,0.30000001192092896],[0.6299999952316284,0.7200000286102295,0.699999988079071,0.33000001311302185],[0.5400000214576721,0.5699999928474426,0.5600000023841858,0.38999998569488525],[0.46000000834465027,0.4699999988079071,0.5199999809265137,0.25999999046325684],[0.5600000023841858,0.6299999952316284,0.6399999856948853,0.3799999952316284],[0.8299999833106995,0.9300000071525574,0.7900000214576721,0.23999999463558197],[0.4699999988079071,0.47999998927116394,0.4000000059604645,0.3199999928474426],[-0.009999999776482582,0.029999999329447746,-0.019999999552965164,0.14000000059604645],[0.25999999046325684,0.2800000011920929,0.23999999463558197,0.10000000149011612],[0.5799999833106995,0.6499999761581421,0.5899999737739563,0.36000001430511475],[0.550000011920929,0.6200000047683716,0.5699999928474426,0.38999998569488525],[0.5799999833106995,0.5699999928474426,0.6299999952316284,0.36000001430511475],[0.5299999713897705,0.5299999713897705,0.5799999833106995,0.3700000047683716],[0.6100000143051147,0.6100000143051147,0.6299999952316284,0.3700000047683716],[0.5400000214576721,0.550000011920929,0.5799999833106995,0.3700000047683716],[0.6200000047683716,0.5799999833106995,0.6800000071525574,0.3799999952316284],[0.5899999737739563,0.5600000023841858,0.6499999761581421,0.38999998569488525],[0.5600000023841858,0.5600000023841858,0.5899999737739563,0.25999999046325684],[0.5400000214576721,0.550000011920929,0.5799999833106995,0.3100000023841858],[0.6000000238418579,0.5899999737739563,0.6100000143051147,0.28999999165534973],[0.5400000214576721,0.550000011920929,0.5600000023841858,0.3100000023841858],[0.6000000238418579,0.5299999713897705,0.6000000238418579,0.38999998569488525],[0.5699999928474426,0.5400000214576721,0.6000000238418579,0.38999998569488525],[0.5,0.5,0.5299999713897705,0.2199999988079071],[0.4699999988079071,0.49000000953674316,0.5,0.25],[0.5,0.4699999988079071,0.5199999809265137,0.27000001072883606],[0.47999998927116394,0.4699999988079071,0.5099999904632568,0.28999999165534973],[0.3799999952316284,0.36000001430511475,0.4699999988079071,0.41999998688697815],[0.7799999713897705,0.8999999761581421,0.7699999809265137,0.25],[0.49000000953674316,0.5400000214576721,0.5400000214576721,0.20000000298023224],[0.6000000238418579,0.800000011920929,0.6600000262260437,0.2800000011920929],[0.7799999713897705,0.75,0.8299999833106995,0.3799999952316284],[0.5699999928474426,0.6299999952316284,0.6000000238418579,0.30000001192092896],[0.6000000238418579,0.6399999856948853,0.6399999856948853,0.3400000035762787],[0.46000000834465027,0.49000000953674316,0.49000000953674316,0.2800000011920929],[0.5299999713897705,0.5299999713897705,0.550000011920929,0.3199999928474426],[0.6200000047683716,0.6600000262260437,0.6600000262260437,0.3199999928474426],[0.25,0.20000000298023224,0.2199999988079071,0.20999999344348907],[0.6899999976158142,0.75,0.7599999904632568,0.3100000023841858],[0.5799999833106995,0.6299999952316284,0.6700000166893005,0.3499999940395355],[0.6100000143051147,0.6499999761581421,0.7099999785423279,0.3100000023841858],[0.6399999856948853,0.6600000262260437,0.6899999976158142,0.3700000047683716],[0.25,0.20000000298023224,0.2199999988079071,0.20999999344348907],[0.5600000023841858,0.5600000023841858,0.5699999928474426,0.2800000011920929],[0.550000011920929,0.5699999928474426,0.5799999833106995,0.30000001192092896],[0.25,0.20000000298023224,0.2199999988079071,0.20999999344348907],[0.5899999737739563,0.6100000143051147,0.6299999952316284,0.3100000023841858],[0.5699999928474426,0.5699999928474426,0.5899999737739563,0.28999999165534973],[0.5400000214576721,0.7099999785423279,0.5699999928474426,0.30000001192092896],[0.7099999785423279,0.6800000071525574,0.7699999809265137,0.38999998569488525],[0.6200000047683716,0.6100000143051147,0.6700000166893005,0.4000000059604645],[0.5199999809265137,0.5400000214576721,0.5600000023841858,0.4000000059604645],[0.550000011920929,0.5600000023841858,0.6100000143051147,0.4300000071525574],[0.5600000023841858,0.5899999737739563,0.5699999928474426,0.3199999928474426],[0.4699999988079071,0.49000000953674316,0.5299999713897705,0.4099999964237213],[0.47999998927116394,0.4399999976158142,0.5299999713897705,0.3499999940395355],[0.5,0.5,0.5600000023841858,0.4000000059604645],[0.6000000238418579,0.75,0.6399999856948853,0.2800000011920929],[0.7900000214576721,0.9599999785423279,0.8399999737739563,0.23999999463558197],[0.9100000262260437,0.8299999833106995,0.9599999785423279,0.33000001311302185],[0.5600000023841858,0.5899999737739563,0.6299999952316284,0.38999998569488525],[0.4099999964237213,0.4300000071525574,0.36000001430511475,0.2800000011920929],[0.550000011920929,0.7599999904632568,0.5899999737739563,0.17000000178813934],[0.5099999904632568,0.5299999713897705,0.49000000953674316,0.30000001192092896],[0.47999998927116394,0.6000000238418579,0.44999998807907104,0.25],[0.9100000262260437,0.8600000143051147,0.9900000095367432,0.33000001311302185]],\"type\":\"heatmap\",\"xaxis\":\"x\",\"yaxis\":\"y\"}],                        {\"template\":{\"data\":{\"histogram2dcontour\":[{\"type\":\"histogram2dcontour\",\"colorbar\":{\"outlinewidth\":0,\"ticks\":\"\"},\"colorscale\":[[0.0,\"#0d0887\"],[0.1111111111111111,\"#46039f\"],[0.2222222222222222,\"#7201a8\"],[0.3333333333333333,\"#9c179e\"],[0.4444444444444444,\"#bd3786\"],[0.5555555555555556,\"#d8576b\"],[0.6666666666666666,\"#ed7953\"],[0.7777777777777778,\"#fb9f3a\"],[0.8888888888888888,\"#fdca26\"],[1.0,\"#f0f921\"]]}],\"choropleth\":[{\"type\":\"choropleth\",\"colorbar\":{\"outlinewidth\":0,\"ticks\":\"\"}}],\"histogram2d\":[{\"type\":\"histogram2d\",\"colorbar\":{\"outlinewidth\":0,\"ticks\":\"\"},\"colorscale\":[[0.0,\"#0d0887\"],[0.1111111111111111,\"#46039f\"],[0.2222222222222222,\"#7201a8\"],[0.3333333333333333,\"#9c179e\"],[0.4444444444444444,\"#bd3786\"],[0.5555555555555556,\"#d8576b\"],[0.6666666666666666,\"#ed7953\"],[0.7777777777777778,\"#fb9f3a\"],[0.8888888888888888,\"#fdca26\"],[1.0,\"#f0f921\"]]}],\"heatmap\":[{\"type\":\"heatmap\",\"colorbar\":{\"outlinewidth\":0,\"ticks\":\"\"},\"colorscale\":[[0.0,\"#0d0887\"],[0.1111111111111111,\"#46039f\"],[0.2222222222222222,\"#7201a8\"],[0.3333333333333333,\"#9c179e\"],[0.4444444444444444,\"#bd3786\"],[0.5555555555555556,\"#d8576b\"],[0.6666666666666666,\"#ed7953\"],[0.7777777777777778,\"#fb9f3a\"],[0.8888888888888888,\"#fdca26\"],[1.0,\"#f0f921\"]]}],\"heatmapgl\":[{\"type\":\"heatmapgl\",\"colorbar\":{\"outlinewidth\":0,\"ticks\":\"\"},\"colorscale\":[[0.0,\"#0d0887\"],[0.1111111111111111,\"#46039f\"],[0.2222222222222222,\"#7201a8\"],[0.3333333333333333,\"#9c179e\"],[0.4444444444444444,\"#bd3786\"],[0.5555555555555556,\"#d8576b\"],[0.6666666666666666,\"#ed7953\"],[0.7777777777777778,\"#fb9f3a\"],[0.8888888888888888,\"#fdca26\"],[1.0,\"#f0f921\"]]}],\"contourcarpet\":[{\"type\":\"contourcarpet\",\"colorbar\":{\"outlinewidth\":0,\"ticks\":\"\"}}],\"contour\":[{\"type\":\"contour\",\"colorbar\":{\"outlinewidth\":0,\"ticks\":\"\"},\"colorscale\":[[0.0,\"#0d0887\"],[0.1111111111111111,\"#46039f\"],[0.2222222222222222,\"#7201a8\"],[0.3333333333333333,\"#9c179e\"],[0.4444444444444444,\"#bd3786\"],[0.5555555555555556,\"#d8576b\"],[0.6666666666666666,\"#ed7953\"],[0.7777777777777778,\"#fb9f3a\"],[0.8888888888888888,\"#fdca26\"],[1.0,\"#f0f921\"]]}],\"surface\":[{\"type\":\"surface\",\"colorbar\":{\"outlinewidth\":0,\"ticks\":\"\"},\"colorscale\":[[0.0,\"#0d0887\"],[0.1111111111111111,\"#46039f\"],[0.2222222222222222,\"#7201a8\"],[0.3333333333333333,\"#9c179e\"],[0.4444444444444444,\"#bd3786\"],[0.5555555555555556,\"#d8576b\"],[0.6666666666666666,\"#ed7953\"],[0.7777777777777778,\"#fb9f3a\"],[0.8888888888888888,\"#fdca26\"],[1.0,\"#f0f921\"]]}],\"mesh3d\":[{\"type\":\"mesh3d\",\"colorbar\":{\"outlinewidth\":0,\"ticks\":\"\"}}],\"scatter\":[{\"fillpattern\":{\"fillmode\":\"overlay\",\"size\":10,\"solidity\":0.2},\"type\":\"scatter\"}],\"parcoords\":[{\"type\":\"parcoords\",\"line\":{\"colorbar\":{\"outlinewidth\":0,\"ticks\":\"\"}}}],\"scatterpolargl\":[{\"type\":\"scatterpolargl\",\"marker\":{\"colorbar\":{\"outlinewidth\":0,\"ticks\":\"\"}}}],\"bar\":[{\"error_x\":{\"color\":\"#2a3f5f\"},\"error_y\":{\"color\":\"#2a3f5f\"},\"marker\":{\"line\":{\"color\":\"#E5ECF6\",\"width\":0.5},\"pattern\":{\"fillmode\":\"overlay\",\"size\":10,\"solidity\":0.2}},\"type\":\"bar\"}],\"scattergeo\":[{\"type\":\"scattergeo\",\"marker\":{\"colorbar\":{\"outlinewidth\":0,\"ticks\":\"\"}}}],\"scatterpolar\":[{\"type\":\"scatterpolar\",\"marker\":{\"colorbar\":{\"outlinewidth\":0,\"ticks\":\"\"}}}],\"histogram\":[{\"marker\":{\"pattern\":{\"fillmode\":\"overlay\",\"size\":10,\"solidity\":0.2}},\"type\":\"histogram\"}],\"scattergl\":[{\"type\":\"scattergl\",\"marker\":{\"colorbar\":{\"outlinewidth\":0,\"ticks\":\"\"}}}],\"scatter3d\":[{\"type\":\"scatter3d\",\"line\":{\"colorbar\":{\"outlinewidth\":0,\"ticks\":\"\"}},\"marker\":{\"colorbar\":{\"outlinewidth\":0,\"ticks\":\"\"}}}],\"scattermapbox\":[{\"type\":\"scattermapbox\",\"marker\":{\"colorbar\":{\"outlinewidth\":0,\"ticks\":\"\"}}}],\"scatterternary\":[{\"type\":\"scatterternary\",\"marker\":{\"colorbar\":{\"outlinewidth\":0,\"ticks\":\"\"}}}],\"scattercarpet\":[{\"type\":\"scattercarpet\",\"marker\":{\"colorbar\":{\"outlinewidth\":0,\"ticks\":\"\"}}}],\"carpet\":[{\"aaxis\":{\"endlinecolor\":\"#2a3f5f\",\"gridcolor\":\"white\",\"linecolor\":\"white\",\"minorgridcolor\":\"white\",\"startlinecolor\":\"#2a3f5f\"},\"baxis\":{\"endlinecolor\":\"#2a3f5f\",\"gridcolor\":\"white\",\"linecolor\":\"white\",\"minorgridcolor\":\"white\",\"startlinecolor\":\"#2a3f5f\"},\"type\":\"carpet\"}],\"table\":[{\"cells\":{\"fill\":{\"color\":\"#EBF0F8\"},\"line\":{\"color\":\"white\"}},\"header\":{\"fill\":{\"color\":\"#C8D4E3\"},\"line\":{\"color\":\"white\"}},\"type\":\"table\"}],\"barpolar\":[{\"marker\":{\"line\":{\"color\":\"#E5ECF6\",\"width\":0.5},\"pattern\":{\"fillmode\":\"overlay\",\"size\":10,\"solidity\":0.2}},\"type\":\"barpolar\"}],\"pie\":[{\"automargin\":true,\"type\":\"pie\"}]},\"layout\":{\"autotypenumbers\":\"strict\",\"colorway\":[\"#636efa\",\"#EF553B\",\"#00cc96\",\"#ab63fa\",\"#FFA15A\",\"#19d3f3\",\"#FF6692\",\"#B6E880\",\"#FF97FF\",\"#FECB52\"],\"font\":{\"color\":\"#2a3f5f\"},\"hovermode\":\"closest\",\"hoverlabel\":{\"align\":\"left\"},\"paper_bgcolor\":\"white\",\"plot_bgcolor\":\"#E5ECF6\",\"polar\":{\"bgcolor\":\"#E5ECF6\",\"angularaxis\":{\"gridcolor\":\"white\",\"linecolor\":\"white\",\"ticks\":\"\"},\"radialaxis\":{\"gridcolor\":\"white\",\"linecolor\":\"white\",\"ticks\":\"\"}},\"ternary\":{\"bgcolor\":\"#E5ECF6\",\"aaxis\":{\"gridcolor\":\"white\",\"linecolor\":\"white\",\"ticks\":\"\"},\"baxis\":{\"gridcolor\":\"white\",\"linecolor\":\"white\",\"ticks\":\"\"},\"caxis\":{\"gridcolor\":\"white\",\"linecolor\":\"white\",\"ticks\":\"\"}},\"coloraxis\":{\"colorbar\":{\"outlinewidth\":0,\"ticks\":\"\"}},\"colorscale\":{\"sequential\":[[0.0,\"#0d0887\"],[0.1111111111111111,\"#46039f\"],[0.2222222222222222,\"#7201a8\"],[0.3333333333333333,\"#9c179e\"],[0.4444444444444444,\"#bd3786\"],[0.5555555555555556,\"#d8576b\"],[0.6666666666666666,\"#ed7953\"],[0.7777777777777778,\"#fb9f3a\"],[0.8888888888888888,\"#fdca26\"],[1.0,\"#f0f921\"]],\"sequentialminus\":[[0.0,\"#0d0887\"],[0.1111111111111111,\"#46039f\"],[0.2222222222222222,\"#7201a8\"],[0.3333333333333333,\"#9c179e\"],[0.4444444444444444,\"#bd3786\"],[0.5555555555555556,\"#d8576b\"],[0.6666666666666666,\"#ed7953\"],[0.7777777777777778,\"#fb9f3a\"],[0.8888888888888888,\"#fdca26\"],[1.0,\"#f0f921\"]],\"diverging\":[[0,\"#8e0152\"],[0.1,\"#c51b7d\"],[0.2,\"#de77ae\"],[0.3,\"#f1b6da\"],[0.4,\"#fde0ef\"],[0.5,\"#f7f7f7\"],[0.6,\"#e6f5d0\"],[0.7,\"#b8e186\"],[0.8,\"#7fbc41\"],[0.9,\"#4d9221\"],[1,\"#276419\"]]},\"xaxis\":{\"gridcolor\":\"white\",\"linecolor\":\"white\",\"ticks\":\"\",\"title\":{\"standoff\":15},\"zerolinecolor\":\"white\",\"automargin\":true,\"zerolinewidth\":2},\"yaxis\":{\"gridcolor\":\"white\",\"linecolor\":\"white\",\"ticks\":\"\",\"title\":{\"standoff\":15},\"zerolinecolor\":\"white\",\"automargin\":true,\"zerolinewidth\":2},\"scene\":{\"xaxis\":{\"backgroundcolor\":\"#E5ECF6\",\"gridcolor\":\"white\",\"linecolor\":\"white\",\"showbackground\":true,\"ticks\":\"\",\"zerolinecolor\":\"white\",\"gridwidth\":2},\"yaxis\":{\"backgroundcolor\":\"#E5ECF6\",\"gridcolor\":\"white\",\"linecolor\":\"white\",\"showbackground\":true,\"ticks\":\"\",\"zerolinecolor\":\"white\",\"gridwidth\":2},\"zaxis\":{\"backgroundcolor\":\"#E5ECF6\",\"gridcolor\":\"white\",\"linecolor\":\"white\",\"showbackground\":true,\"ticks\":\"\",\"zerolinecolor\":\"white\",\"gridwidth\":2}},\"shapedefaults\":{\"line\":{\"color\":\"#2a3f5f\"}},\"annotationdefaults\":{\"arrowcolor\":\"#2a3f5f\",\"arrowhead\":0,\"arrowwidth\":1},\"geo\":{\"bgcolor\":\"white\",\"landcolor\":\"#E5ECF6\",\"subunitcolor\":\"white\",\"showland\":true,\"showlakes\":true,\"lakecolor\":\"white\"},\"title\":{\"x\":0.05},\"mapbox\":{\"style\":\"light\"}}},\"xaxis\":{\"anchor\":\"y\",\"domain\":[0.0,1.0]},\"yaxis\":{\"anchor\":\"x\",\"domain\":[0.0,1.0]},\"margin\":{\"t\":100,\"b\":0,\"l\":0,\"r\":0},\"width\":800,\"height\":900,\"autosize\":false,\"scene\":{\"aspectratio\":{\"x\":1,\"y\":1,\"z\":0.7},\"aspectmode\":\"manual\"},\"updatemenus\":[{\"buttons\":[{\"args\":[\"colorscale\",\"Viridis\"],\"label\":\"Viridis\",\"method\":\"restyle\"},{\"args\":[\"colorscale\",\"Cividis\"],\"label\":\"Cividis\",\"method\":\"restyle\"},{\"args\":[\"colorscale\",\"Blues\"],\"label\":\"Blues\",\"method\":\"restyle\"},{\"args\":[\"colorscale\",\"Greens\"],\"label\":\"Greens\",\"method\":\"restyle\"}],\"direction\":\"down\",\"pad\":{\"r\":10,\"t\":10},\"showactive\":true,\"x\":0.1,\"xanchor\":\"left\",\"y\":1.08,\"yanchor\":\"top\"},{\"buttons\":[{\"args\":[\"reversescale\",false],\"label\":\"False\",\"method\":\"restyle\"},{\"args\":[\"reversescale\",true],\"label\":\"True\",\"method\":\"restyle\"}],\"direction\":\"down\",\"pad\":{\"r\":10,\"t\":10},\"showactive\":true,\"x\":0.37,\"xanchor\":\"left\",\"y\":1.08,\"yanchor\":\"top\"},{\"buttons\":[{\"args\":[{\"contours.showlines\":false,\"type\":\"contour\"}],\"label\":\"Hide lines\",\"method\":\"restyle\"},{\"args\":[{\"contours.showlines\":true,\"type\":\"contour\"}],\"label\":\"Show lines\",\"method\":\"restyle\"}],\"direction\":\"down\",\"pad\":{\"r\":10,\"t\":10},\"showactive\":true,\"x\":0.58,\"xanchor\":\"left\",\"y\":1.08,\"yanchor\":\"top\"}],\"annotations\":[{\"align\":\"left\",\"showarrow\":false,\"text\":\"colorscale\",\"x\":0,\"xref\":\"paper\",\"y\":1.06,\"yref\":\"paper\"},{\"showarrow\":false,\"text\":\"Reverse\\u003cbr\\u003eColorscale\",\"x\":0.25,\"xref\":\"paper\",\"y\":1.07,\"yref\":\"paper\"},{\"showarrow\":false,\"text\":\"Lines\",\"x\":0.54,\"xref\":\"paper\",\"y\":1.06,\"yref\":\"paper\"}],\"showlegend\":false,\"sliders\":[{\"active\":10,\"currentvalue\":{\"prefix\":\"Frequency: \"},\"pad\":{\"t\":50}}]},                        {\"responsive\": true}                    ).then(function(){\n",
              "                            \n",
              "var gd = document.getElementById('e1268fce-1b0e-4b76-b331-b0c3a2ae8bec');\n",
              "var x = new MutationObserver(function (mutations, observer) {{\n",
              "        var display = window.getComputedStyle(gd).display;\n",
              "        if (!display || display === 'none') {{\n",
              "            console.log([gd, 'removed!']);\n",
              "            Plotly.purge(gd);\n",
              "            observer.disconnect();\n",
              "        }}\n",
              "}});\n",
              "\n",
              "// Listen for the removal of the full notebook cells\n",
              "var notebookContainer = gd.closest('#notebook-container');\n",
              "if (notebookContainer) {{\n",
              "    x.observe(notebookContainer, {childList: true});\n",
              "}}\n",
              "\n",
              "// Listen for the clearing of the current output cell\n",
              "var outputEl = gd.closest('.output');\n",
              "if (outputEl) {{\n",
              "    x.observe(outputEl, {childList: true});\n",
              "}}\n",
              "\n",
              "                        })                };                });            </script>        </div>"
            ]
          },
          "metadata": {},
          "output_type": "display_data"
        }
      ],
      "source": [
        "from plotly.subplots import make_subplots\n",
        "import plotly.graph_objects as go\n",
        "# load dataset\n",
        "\n",
        "# Create figure\n",
        "fig = go.Figure()\n",
        "\n",
        "# Add surface trace\n",
        "#fig.add_trace(go.Heatmap(z=df_p.values.tolist(), colorscale=\"Viridis\"))\n",
        "\n",
        "#create graph side by side\n",
        "fig = make_subplots(rows=1, cols=1, shared_yaxes=False)\n",
        "\n",
        "fig.add_trace(\n",
        "    go.Heatmap(z=df_map.values.tolist(), colorscale=\"Viridis\", coloraxis=\"coloraxis\"),\n",
        "    row=1, col=1\n",
        ")\n",
        "\n",
        "\n",
        "# Update plot sizing\n",
        "fig.update_layout(\n",
        "    width=800,\n",
        "    height=900,\n",
        "    autosize=False,\n",
        "    margin=dict(t=100, b=0, l=0, r=0),\n",
        ")\n",
        "\n",
        "# Update 3D scene options\n",
        "fig.update_scenes(\n",
        "    aspectratio=dict(x=1, y=1, z=0.7),\n",
        "    aspectmode=\"manual\"\n",
        ")\n",
        "\n",
        "# Add dropdowns\n",
        "button_layer_1_height = 1.08\n",
        "steps = []\n",
        "# add a slider\n",
        "sliders = [dict(\n",
        "    active=10,\n",
        "    currentvalue={\"prefix\": \"Frequency: \"},\n",
        "    pad={\"t\": 50},\n",
        "    steps=steps\n",
        ")]\n",
        "\n",
        "fig.update_layout(\n",
        "    updatemenus=[\n",
        "        dict(\n",
        "            buttons=list([\n",
        "                dict(\n",
        "                    args=[\"colorscale\", \"Viridis\"],\n",
        "                    label=\"Viridis\",\n",
        "                    method=\"restyle\"\n",
        "                ),\n",
        "                dict(\n",
        "                    args=[\"colorscale\", \"Cividis\"],\n",
        "                    label=\"Cividis\",\n",
        "                    method=\"restyle\"\n",
        "                ),\n",
        "                dict(\n",
        "                    args=[\"colorscale\", \"Blues\"],\n",
        "                    label=\"Blues\",\n",
        "                    method=\"restyle\"\n",
        "                ),\n",
        "                dict(\n",
        "                    args=[\"colorscale\", \"Greens\"],\n",
        "                    label=\"Greens\",\n",
        "                    method=\"restyle\"\n",
        "                ),\n",
        "            ]),\n",
        "            direction=\"down\",\n",
        "            pad={\"r\": 10, \"t\": 10},\n",
        "            showactive=True,\n",
        "            x=0.1,\n",
        "            xanchor=\"left\",\n",
        "            y=button_layer_1_height,\n",
        "            yanchor=\"top\"\n",
        "        ),\n",
        "        dict(\n",
        "            buttons=list([\n",
        "                dict(\n",
        "                    args=[\"reversescale\", False],\n",
        "                    label=\"False\",\n",
        "                    method=\"restyle\"\n",
        "                ),\n",
        "                dict(\n",
        "                    args=[\"reversescale\", True],\n",
        "                    label=\"True\",\n",
        "                    method=\"restyle\"\n",
        "                )\n",
        "            ]),\n",
        "            direction=\"down\",\n",
        "            pad={\"r\": 10, \"t\": 10},\n",
        "            showactive=True,\n",
        "            x=0.37,\n",
        "            xanchor=\"left\",\n",
        "            y=button_layer_1_height,\n",
        "            yanchor=\"top\"\n",
        "        ),\n",
        "        dict(\n",
        "            buttons=list([\n",
        "                dict(\n",
        "                    args=[{\"contours.showlines\": False, \"type\": \"contour\"}],\n",
        "                    label=\"Hide lines\",\n",
        "                    method=\"restyle\"\n",
        "                ),\n",
        "                dict(\n",
        "                    args=[{\"contours.showlines\": True, \"type\": \"contour\"}],\n",
        "                    label=\"Show lines\",\n",
        "                    method=\"restyle\"\n",
        "                ),\n",
        "            ]),\n",
        "            direction=\"down\",\n",
        "            pad={\"r\": 10, \"t\": 10},\n",
        "            showactive=True,\n",
        "            x=0.58,\n",
        "            xanchor=\"left\",\n",
        "            y=button_layer_1_height,\n",
        "            yanchor=\"top\"\n",
        "        ),\n",
        "    ]\n",
        ")\n",
        "\n",
        "fig.update_layout(\n",
        "    annotations=[\n",
        "        dict(text=\"colorscale\", x=0, xref=\"paper\", y=1.06, yref=\"paper\",\n",
        "                             align=\"left\", showarrow=False),\n",
        "        dict(text=\"Reverse<br>Colorscale\", x=0.25, xref=\"paper\", y=1.07,\n",
        "                             yref=\"paper\", showarrow=False),\n",
        "        dict(text=\"Lines\", x=0.54, xref=\"paper\", y=1.06, yref=\"paper\",\n",
        "                             showarrow=False)\n",
        "    ], showlegend=False)\n",
        "\n",
        "fig.update_layout(\n",
        "    sliders=sliders\n",
        ")\n",
        "\n",
        "fig.show()"
      ]
    }
  ],
  "metadata": {
    "colab": {
      "authorship_tag": "ABX9TyNRp93mtbdPkVKHxv/AmHKW",
      "include_colab_link": true,
      "provenance": []
    },
    "kernelspec": {
      "display_name": "Python 3",
      "name": "python3"
    },
    "language_info": {
      "codemirror_mode": {
        "name": "ipython",
        "version": 3
      },
      "file_extension": ".py",
      "mimetype": "text/x-python",
      "name": "python",
      "nbconvert_exporter": "python",
      "pygments_lexer": "ipython3",
      "version": "3.10.8"
    }
  },
  "nbformat": 4,
  "nbformat_minor": 0
}
