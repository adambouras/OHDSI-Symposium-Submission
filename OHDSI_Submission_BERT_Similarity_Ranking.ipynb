{
  "cells": [
    {
      "cell_type": "markdown",
      "metadata": {
        "colab_type": "text",
        "id": "view-in-github"
      },
      "source": [
        "<a href=\"https://colab.research.google.com/github/adambouras/OHDSI-Symposium-Submission/blob/main/OHDSI_Submission_BERT_Similarity_Ranking.ipynb\" target=\"_parent\"><img src=\"https://colab.research.google.com/assets/colab-badge.svg\" alt=\"Open In Colab\"/></a>"
      ]
    },
    {
      "cell_type": "markdown",
      "metadata": {},
      "source": [
        "The aim of this project is to assess the similarities and differences that exits between assessment tools and questions for food insecurity that were identified by the Gravity Project (GP). These questions are divided into two groups; one group that has been used as <a href=\"https://www.hl7.org/fhir/\" target=\"_blank\">FHIR resources</a> and mapped to OMOP CDM **(Group A)**. The other group of questions are identified by the GP but **NOT** mapped to OMOP CDM nor identified as FHIR resources **(Group B)**. This project will help identify the level of difference and substitutability that may exit between Group A and Group B."
      ]
    },
    {
      "cell_type": "code",
      "execution_count": 1,
      "metadata": {
        "id": "iRlxNN8F_2g3"
      },
      "outputs": [],
      "source": [
        "%%capture\n",
        "%pip install -r requirement.txt"
      ]
    },
    {
      "cell_type": "code",
      "execution_count": 1,
      "metadata": {
        "id": "s-idEmPqTTM_"
      },
      "outputs": [],
      "source": [
        "%%capture\n",
        "\n",
        "import pandas as pd\n",
        "import os\n",
        "import types\n",
        "import numpy as np\n",
        "import re\n",
        "from bertopic import *\n",
        "from pyxlsb import open_workbook\n",
        "import seaborn as sns\n",
        "from sentence_transformers import SentenceTransformer, util\n",
        "import plotly.express as px\n",
        "import plotly.graph_objects as go\n",
        "import pip\n",
        "from pyxlsb import open_workbook\n",
        "import pandas as pd\n",
        "import os\n",
        "import types\n",
        "import numpy as np\n",
        "import re\n",
        "from bertopic import BERTopic\n"
      ]
    },
    {
      "cell_type": "code",
      "execution_count": 2,
      "metadata": {},
      "outputs": [],
      "source": [
        "%%capture\n",
        "import session_info\n",
        "session_info.show()"
      ]
    },
    {
      "cell_type": "code",
      "execution_count": 5,
      "metadata": {},
      "outputs": [],
      "source": [
        "# Dataframe styling\n",
        "cell_hover = {  # for row hover use <tr> instead of <td>\n",
        "    'selector': 'td:hover',\n",
        "    'props': 'background-color: #ffffb3'\n",
        "    }\n",
        "index_names = {\n",
        "    'selector': '.index_name',\n",
        "    'props': 'font-style: italic; color: darkgrey; font-weight:normal;'\n",
        "}\n",
        "headers = {\n",
        "    'selector': 'th:not(.index_name)',\n",
        "    'props': 'background-color: #b30000; color: white; text-align: center'\n",
        "}\n",
        "cell_align = {\n",
        "        'selector': 'td',\n",
        "        'props': 'text-align: left'\n",
        "              }"
      ]
    },
    {
      "cell_type": "markdown",
      "metadata": {
        "id": "Kg4Yf_HzFSOd"
      },
      "source": [
        "For this project, I used the [Hugging Face](https://huggingface.co/sentence-transformers/all-MiniLM-L6-v2) open source BERT Model to construct and build the algorithm. The model provides sentence similarity by mapping sentences and paragraphs to a 384 dimensional dense vector space and that can be used for tasks like clustering or sementic search. The training data set contains a total number of sentence pairs above 1 billion sentences. \n",
        "![Algorithm used to identify the questions similarities](./img/OHDSI-BERT%20Ranking.jpg)"
      ]
    },
    {
      "cell_type": "markdown",
      "metadata": {},
      "source": [
        "We started our project by reading the excel file from the github repo. the orginal [excel file](https://confluence.hl7.org/download/attachments/91994432/05142021%20Food%20Insecurity%20MASTER.xlsx?api=v2) was dwonloaded from [GP website](https://confluence.hl7.org/display/GRAV/Food+Insecurity). We conduct manual mapping of the assessment tool questions to [OMOP CDM using Athena](https://athena.ohdsi.org/search-terms/start). We created additional columns to report whether the questions [LOINC Codes](https://loinc.org/get-started/what-loinc-is/) was mapped or not. The final [excel file](08.31.2023%20Food%20Insecurity%20Screening%20SDOH%20Gravity%20Project.xlsx) is included in the github repostory of this project."
      ]
    },
    {
      "cell_type": "code",
      "execution_count": 6,
      "metadata": {
        "id": "FRZB4qRyZ7Rl"
      },
      "outputs": [],
      "source": [
        "xls = pd.ExcelFile(\"https://github.com/adambouras/OHDSI-Symposium-Submission/raw/main/08.31.2023%20Food%20Insecurity%20Screening%20SDOH%20Gravity%20Project.xlsx\")"
      ]
    },
    {
      "cell_type": "code",
      "execution_count": 153,
      "metadata": {
        "colab": {
          "base_uri": "https://localhost:8080/"
        },
        "id": "UCVG1b3pgP34",
        "outputId": "c43fba53-d029-456e-d626-a3260b44f040"
      },
      "outputs": [],
      "source": [
        "%%capture\n",
        "xls.sheet_names"
      ]
    },
    {
      "cell_type": "code",
      "execution_count": 8,
      "metadata": {
        "id": "MsHhUaqIaOII"
      },
      "outputs": [],
      "source": [
        "#create dictionary for later retrieval\n",
        "d_s = {'sheet':[], 'df': []}\n",
        "for i , c in enumerate(xls.sheet_names, 1):\n",
        "    globals()['df'+ str(i)] = pd.read_excel(xls, c)\n",
        "    d_s['sheet'].append(c+str(i))\n",
        "    d_s['df'].append('df'+str(i))"
      ]
    },
    {
      "cell_type": "markdown",
      "metadata": {},
      "source": [
        "<h2>Create analysis of topics embedding</h2>\n",
        "<p>Before we start creating topics embeddings, we will first conduct some text analysis by standardizing the text and remove redundant text as showing in the cell below.</p>\n",
        "<h3>Description of Food Program</h3>\n",
        "<p>GP identified 23 programs and they are displayed in below.</p>"
      ]
    },
    {
      "cell_type": "code",
      "execution_count": 10,
      "metadata": {},
      "outputs": [
        {
          "data": {
            "text/html": [
              "<style type=\"text/css\">\n",
              "#T_09e21 td {\n",
              "  text-align: left;\n",
              "}\n",
              "#T_09e21 td:hover {\n",
              "  background-color: #ffffb3;\n",
              "}\n",
              "#T_09e21 .index_name {\n",
              "  font-style: italic;\n",
              "  color: darkgrey;\n",
              "  font-weight: normal;\n",
              "}\n",
              "#T_09e21 th:not(.index_name) {\n",
              "  background-color: #b30000;\n",
              "  color: white;\n",
              "  text-align: center;\n",
              "}\n",
              "</style>\n",
              "<table id=\"T_09e21\">\n",
              "  <thead>\n",
              "    <tr>\n",
              "      <th class=\"blank level0\" >&nbsp;</th>\n",
              "      <th id=\"T_09e21_level0_col0\" class=\"col_heading level0 col0\" >Program</th>\n",
              "      <th id=\"T_09e21_level0_col1\" class=\"col_heading level0 col1\" >Definition</th>\n",
              "      <th id=\"T_09e21_level0_col2\" class=\"col_heading level0 col2\" >Includes, but is not limited to </th>\n",
              "    </tr>\n",
              "  </thead>\n",
              "  <tbody>\n",
              "    <tr>\n",
              "      <th id=\"T_09e21_level0_row0\" class=\"row_heading level0 row0\" >0</th>\n",
              "      <td id=\"T_09e21_row0_col0\" class=\"data row0 col0\" >Benefit Enrollement Assistance Program</td>\n",
              "      <td id=\"T_09e21_row0_col1\" class=\"data row0 col1\" >A program that coordinates cross sector benefit eligibility, assessment and application</td>\n",
              "      <td id=\"T_09e21_row0_col2\" class=\"data row0 col2\" >nan</td>\n",
              "    </tr>\n",
              "    <tr>\n",
              "      <th id=\"T_09e21_level0_row1\" class=\"row_heading level0 row1\" >1</th>\n",
              "      <td id=\"T_09e21_row1_col0\" class=\"data row1 col0\" >Child and adult care food program (CFCAP)</td>\n",
              "      <td id=\"T_09e21_row1_col1\" class=\"data row1 col1\" >A government program that provides CACFP reimbursements for nutritious meals and snacks to eligible children and adults who are enrolled for care at participating child care centers, day care homes, and adult day care centers. The program also provides reimbursements for meals served to children and youth participating in afterschool care programs, children residing in emergency shelters, and older adults or living with a disability and enrolled in day care facilities. https://www.fns.usda.gov/cacfp/child-and-adult-care-food-program</td>\n",
              "      <td id=\"T_09e21_row1_col2\" class=\"data row1 col2\" >nan</td>\n",
              "    </tr>\n",
              "    <tr>\n",
              "      <th id=\"T_09e21_level0_row2\" class=\"row_heading level0 row2\" >2</th>\n",
              "      <td id=\"T_09e21_row2_col0\" class=\"data row2 col0\" >Community Action Agency</td>\n",
              "      <td id=\"T_09e21_row2_col1\" class=\"data row2 col1\" >Non-profit private and public organizations established under the Economic Opportunity Act of 1964 with the aim of helping people achieve self-sufficiency. https://www.hud.gov/states/california/homeless/commaction</td>\n",
              "      <td id=\"T_09e21_row2_col2\" class=\"data row2 col2\" >nan</td>\n",
              "    </tr>\n",
              "    <tr>\n",
              "      <th id=\"T_09e21_level0_row3\" class=\"row_heading level0 row3\" >3</th>\n",
              "      <td id=\"T_09e21_row3_col0\" class=\"data row3 col0\" >Community meal program</td>\n",
              "      <td id=\"T_09e21_row3_col1\" class=\"data row3 col1\" >Meals for a target group.</td>\n",
              "      <td id=\"T_09e21_row3_col2\" class=\"data row3 col2\" >Congregate meals</td>\n",
              "    </tr>\n",
              "    <tr>\n",
              "      <th id=\"T_09e21_level0_row4\" class=\"row_heading level0 row4\" >4</th>\n",
              "      <td id=\"T_09e21_row4_col0\" class=\"data row4 col0\" >Community Resource Assistance</td>\n",
              "      <td id=\"T_09e21_row4_col1\" class=\"data row4 col1\" >Help connecting individuals with available community resources to address identified social needs</td>\n",
              "      <td id=\"T_09e21_row4_col2\" class=\"data row4 col2\" >nan</td>\n",
              "    </tr>\n",
              "    <tr>\n",
              "      <th id=\"T_09e21_level0_row5\" class=\"row_heading level0 row5\" >5</th>\n",
              "      <td id=\"T_09e21_row5_col0\" class=\"data row5 col0\" >Food and nutrition incentive program</td>\n",
              "      <td id=\"T_09e21_row5_col1\" class=\"data row5 col1\" >Financial incentives or matching programs to promote consumption of healthful foods including produce via community supported agriculture and other initiatives.</td>\n",
              "      <td id=\"T_09e21_row5_col2\" class=\"data row5 col2\" >Gus Schumacher Nutrition Incentive program\n",
              "Senior farmers market</td>\n",
              "    </tr>\n",
              "    <tr>\n",
              "      <th id=\"T_09e21_level0_row6\" class=\"row_heading level0 row6\" >6</th>\n",
              "      <td id=\"T_09e21_row6_col0\" class=\"data row6 col0\" >Food Distribution Program on Indian Reservation (FDPIR)</td>\n",
              "      <td id=\"T_09e21_row6_col1\" class=\"data row6 col1\" >Provides USDA Foods to income-eligible households living on Indian reservations and to Native American households residing in designated areas near reservations or in Oklahoma. USDA distributes both food and administrative funds to participating Indian Tribal Organizations and state agencies to operate FDPIR.</td>\n",
              "      <td id=\"T_09e21_row6_col2\" class=\"data row6 col2\" >nan</td>\n",
              "    </tr>\n",
              "    <tr>\n",
              "      <th id=\"T_09e21_level0_row7\" class=\"row_heading level0 row7\" >7</th>\n",
              "      <td id=\"T_09e21_row7_col0\" class=\"data row7 col0\" >Food pantry program</td>\n",
              "      <td id=\"T_09e21_row7_col1\" class=\"data row7 col1\" >A community based supportive food and nutrition program offering food to individuals for consumption. https://www.feedingamerica.org/our-work/food-bank-network, https://www.fns.usda.gov/fdpir/food-distribution-program-indian-reservations</td>\n",
              "      <td id=\"T_09e21_row7_col2\" class=\"data row7 col2\" >FDIPR (Food Distribution Program on Indian Reservation)\n",
              "School based pantry</td>\n",
              "    </tr>\n",
              "    <tr>\n",
              "      <th id=\"T_09e21_level0_row8\" class=\"row_heading level0 row8\" >8</th>\n",
              "      <td id=\"T_09e21_row8_col0\" class=\"data row8 col0\" >Food prescription program</td>\n",
              "      <td id=\"T_09e21_row8_col1\" class=\"data row8 col1\" >Prescription from a health care provider to access foods recommended, which also includes vegetables, fruits, and prescriptions for other foods.</td>\n",
              "      <td id=\"T_09e21_row8_col2\" class=\"data row8 col2\" >Food Prescription\n",
              "Produce Prescription\n",
              "Veggie Prescription</td>\n",
              "    </tr>\n",
              "    <tr>\n",
              "      <th id=\"T_09e21_level0_row9\" class=\"row_heading level0 row9\" >9</th>\n",
              "      <td id=\"T_09e21_row9_col0\" class=\"data row9 col0\" >Food provision program</td>\n",
              "      <td id=\"T_09e21_row9_col1\" class=\"data row9 col1\" >Food offered when a support need is identified. Examples include groceries as part of an education opportunity (e.g., cooking class), commodity food program, food rescue or gleaning program (e.g., produce brought to a clinic), or weekend food backpack program.</td>\n",
              "      <td id=\"T_09e21_row9_col2\" class=\"data row9 col2\" >nan</td>\n",
              "    </tr>\n",
              "    <tr>\n",
              "      <th id=\"T_09e21_level0_row10\" class=\"row_heading level0 row10\" >10</th>\n",
              "      <td id=\"T_09e21_row10_col0\" class=\"data row10 col0\" >Garden programs</td>\n",
              "      <td id=\"T_09e21_row10_col1\" class=\"data row10 col1\" >Actions to plant gardens to produce foods for consumption.</td>\n",
              "      <td id=\"T_09e21_row10_col2\" class=\"data row10 col2\" >nan</td>\n",
              "    </tr>\n",
              "    <tr>\n",
              "      <th id=\"T_09e21_level0_row11\" class=\"row_heading level0 row11\" >11</th>\n",
              "      <td id=\"T_09e21_row11_col0\" class=\"data row11 col0\" >Home delivered meal program</td>\n",
              "      <td id=\"T_09e21_row11_col1\" class=\"data row11 col1\" >Meals delivered to a client's place of residence supported or subsidized by a charitable, social, or government agency.</td>\n",
              "      <td id=\"T_09e21_row11_col2\" class=\"data row11 col2\" >Meals on wheels</td>\n",
              "    </tr>\n",
              "    <tr>\n",
              "      <th id=\"T_09e21_level0_row12\" class=\"row_heading level0 row12\" >12</th>\n",
              "      <td id=\"T_09e21_row12_col0\" class=\"data row12 col0\" >Meals on wheels program</td>\n",
              "      <td id=\"T_09e21_row12_col1\" class=\"data row12 col1\" >A specific home delivered meal program for eligible older adults and household members with demonstrated social and/or economic need.</td>\n",
              "      <td id=\"T_09e21_row12_col2\" class=\"data row12 col2\" >nan</td>\n",
              "    </tr>\n",
              "    <tr>\n",
              "      <th id=\"T_09e21_level0_row13\" class=\"row_heading level0 row13\" >13</th>\n",
              "      <td id=\"T_09e21_row13_col0\" class=\"data row13 col0\" >Medically tailored meal program</td>\n",
              "      <td id=\"T_09e21_row13_col1\" class=\"data row13 col1\" >Meals delivered to individuals, living with assessed illness, tailored to the medical needs of the recipient by a Registered Dietitian Nutritionist (RDN) http://www.fimcoalition.org/our-model</td>\n",
              "      <td id=\"T_09e21_row13_col2\" class=\"data row13 col2\" >nan</td>\n",
              "    </tr>\n",
              "    <tr>\n",
              "      <th id=\"T_09e21_level0_row14\" class=\"row_heading level0 row14\" >14</th>\n",
              "      <td id=\"T_09e21_row14_col0\" class=\"data row14 col0\" >Nutrition and food support programs</td>\n",
              "      <td id=\"T_09e21_row14_col1\" class=\"data row14 col1\" >Support programs that provide food and/or nutrition resources.</td>\n",
              "      <td id=\"T_09e21_row14_col2\" class=\"data row14 col2\" >nan</td>\n",
              "    </tr>\n",
              "    <tr>\n",
              "      <th id=\"T_09e21_level0_row15\" class=\"row_heading level0 row15\" >15</th>\n",
              "      <td id=\"T_09e21_row15_col0\" class=\"data row15 col0\" >School meal and snack program</td>\n",
              "      <td id=\"T_09e21_row15_col1\" class=\"data row15 col1\" >Meals and snacks that meet specific nutrition standards and are available to school-aged children throughout the year. (https://www.fns.usda.gov/school-meals/faqs)</td>\n",
              "      <td id=\"T_09e21_row15_col2\" class=\"data row15 col2\" >nan</td>\n",
              "    </tr>\n",
              "    <tr>\n",
              "      <th id=\"T_09e21_level0_row16\" class=\"row_heading level0 row16\" >16</th>\n",
              "      <td id=\"T_09e21_row16_col0\" class=\"data row16 col0\" >Senior congregate meal program</td>\n",
              "      <td id=\"T_09e21_row16_col1\" class=\"data row16 col1\" >Meals offered in community settings for eligible older adults, and along with eligible supportive individuals.</td>\n",
              "      <td id=\"T_09e21_row16_col2\" class=\"data row16 col2\" >nan</td>\n",
              "    </tr>\n",
              "    <tr>\n",
              "      <th id=\"T_09e21_level0_row17\" class=\"row_heading level0 row17\" >17</th>\n",
              "      <td id=\"T_09e21_row17_col0\" class=\"data row17 col0\" >Senior farmers market program</td>\n",
              "      <td id=\"T_09e21_row17_col1\" class=\"data row17 col1\" >Financial incentives or matching programs to promote consumption of produce by older adults. https://www.fns.usda.gov/sfmnp/senior-farmers-market-nutrition-program</td>\n",
              "      <td id=\"T_09e21_row17_col2\" class=\"data row17 col2\" >nan</td>\n",
              "    </tr>\n",
              "    <tr>\n",
              "      <th id=\"T_09e21_level0_row18\" class=\"row_heading level0 row18\" >18</th>\n",
              "      <td id=\"T_09e21_row18_col0\" class=\"data row18 col0\" >SNAP education</td>\n",
              "      <td id=\"T_09e21_row18_col1\" class=\"data row18 col1\" >Nutrition curricula, a facet of the SNAP program.</td>\n",
              "      <td id=\"T_09e21_row18_col2\" class=\"data row18 col2\" >nan</td>\n",
              "    </tr>\n",
              "    <tr>\n",
              "      <th id=\"T_09e21_level0_row19\" class=\"row_heading level0 row19\" >19</th>\n",
              "      <td id=\"T_09e21_row19_col0\" class=\"data row19 col0\" >Special supplemental nutrition program for women, infants, and children (WIC) program</td>\n",
              "      <td id=\"T_09e21_row19_col1\" class=\"data row19 col1\" >Supplemental foods, health care referrals, and nutrition education for low-income pregnant, breastfeeding, and non-breastfeeding postpartum women, and to infants and children up to age five who are found to be at nutritional risk. (https://www.fns.usda.gov/wic)</td>\n",
              "      <td id=\"T_09e21_row19_col2\" class=\"data row19 col2\" >WIC farmers market program</td>\n",
              "    </tr>\n",
              "    <tr>\n",
              "      <th id=\"T_09e21_level0_row20\" class=\"row_heading level0 row20\" >20</th>\n",
              "      <td id=\"T_09e21_row20_col0\" class=\"data row20 col0\" >Summer meal and snack program</td>\n",
              "      <td id=\"T_09e21_row20_col1\" class=\"data row20 col1\" >A program that reimburses program operators who serve free healthy meals and snacks to children and teens in low-income areas. (https://www.fns.usda.gov/sfsp/summer-food-service-program)</td>\n",
              "      <td id=\"T_09e21_row20_col2\" class=\"data row20 col2\" >nan</td>\n",
              "    </tr>\n",
              "    <tr>\n",
              "      <th id=\"T_09e21_level0_row21\" class=\"row_heading level0 row21\" >21</th>\n",
              "      <td id=\"T_09e21_row21_col0\" class=\"data row21 col0\" >Supplemental nutrition assistance program (SNAP)</td>\n",
              "      <td id=\"T_09e21_row21_col1\" class=\"data row21 col1\" >A government based nutrition benefit program to supplement the food budget of qualified families for purchasing food. The US program is currently call the Supplemental Nutrition Assistance Program (SNAP).(https://www.fns.usda.gov/snap/supplemental-nutrition-assistance-program)</td>\n",
              "      <td id=\"T_09e21_row21_col2\" class=\"data row21 col2\" >nan</td>\n",
              "    </tr>\n",
              "    <tr>\n",
              "      <th id=\"T_09e21_level0_row22\" class=\"row_heading level0 row22\" >22</th>\n",
              "      <td id=\"T_09e21_row22_col0\" class=\"data row22 col0\" >WIC farmer's market program</td>\n",
              "      <td id=\"T_09e21_row22_col1\" class=\"data row22 col1\" >Coupons for participants of the WIC program to purchase food at farmers markets. https://www.fns.usda.gov/fmnp/wic-farmers-market-nutrition-program</td>\n",
              "      <td id=\"T_09e21_row22_col2\" class=\"data row22 col2\" >nan</td>\n",
              "    </tr>\n",
              "  </tbody>\n",
              "</table>\n"
            ],
            "text/plain": [
              "<pandas.io.formats.style.Styler at 0x2a1e16310>"
            ]
          },
          "execution_count": 10,
          "metadata": {},
          "output_type": "execute_result"
        }
      ],
      "source": [
        "\n",
        "df1.style.set_table_styles([ cell_align, cell_hover, index_names, headers])\n"
      ]
    },
    {
      "cell_type": "markdown",
      "metadata": {
        "id": "5JhPSHgkmwxF"
      },
      "source": [
        "<h3>Distribution of number of question by screen tools</h3>\n",
        "<p>The GP identified 24 screen tools and some of the tools are nested tools from other tools for the simplicity of this analysis, we will not consolidate these nested tools into a single tool. By doing so, we will help the community to identify the best approaches to make this tools standarized and consolidated for easy retrieval and use.</p>"
      ]
    },
    {
      "cell_type": "code",
      "execution_count": 11,
      "metadata": {},
      "outputs": [],
      "source": [
        "# screen_tool_summary = df3.groupby('Relevant_Screening_Tool')['LOINC_Panel_Code'].nunique()\n",
        "df_scr_tool_sum = df3.groupby(by=['Relevant_Screening_Tool', 'Mapped_to_Athena'], dropna=False, as_index=False).agg({'LOINC_Panel_Code': pd.Series.nunique}).sort_values('LOINC_Panel_Code')"
      ]
    },
    {
      "cell_type": "code",
      "execution_count": 12,
      "metadata": {},
      "outputs": [
        {
          "data": {
            "text/html": [
              "<style type=\"text/css\">\n",
              "#T_b0116 td {\n",
              "  text-align: left;\n",
              "}\n",
              "#T_b0116 td:hover {\n",
              "  background-color: #ffffb3;\n",
              "}\n",
              "#T_b0116 .index_name {\n",
              "  font-style: italic;\n",
              "  color: darkgrey;\n",
              "  font-weight: normal;\n",
              "}\n",
              "#T_b0116 th:not(.index_name) {\n",
              "  background-color: #b30000;\n",
              "  color: white;\n",
              "  text-align: center;\n",
              "}\n",
              "</style>\n",
              "<table id=\"T_b0116\">\n",
              "  <thead>\n",
              "    <tr>\n",
              "      <th class=\"blank level0\" >&nbsp;</th>\n",
              "      <th id=\"T_b0116_level0_col0\" class=\"col_heading level0 col0\" >Screening Tool</th>\n",
              "      <th id=\"T_b0116_level0_col1\" class=\"col_heading level0 col1\" >Mapped to Athena</th>\n",
              "      <th id=\"T_b0116_level0_col2\" class=\"col_heading level0 col2\" >LOINC Code</th>\n",
              "    </tr>\n",
              "  </thead>\n",
              "  <tbody>\n",
              "    <tr>\n",
              "      <th id=\"T_b0116_level0_row0\" class=\"row_heading level0 row0\" >1</th>\n",
              "      <td id=\"T_b0116_row0_col0\" class=\"data row0 col0\" >AHC</td>\n",
              "      <td id=\"T_b0116_row0_col1\" class=\"data row0 col1\" >Yes</td>\n",
              "      <td id=\"T_b0116_row0_col2\" class=\"data row0 col2\" >2</td>\n",
              "    </tr>\n",
              "    <tr>\n",
              "      <th id=\"T_b0116_level0_row1\" class=\"row_heading level0 row1\" >15</th>\n",
              "      <td id=\"T_b0116_row1_col0\" class=\"data row1 col0\" >PRAPARE</td>\n",
              "      <td id=\"T_b0116_row1_col1\" class=\"data row1 col1\" >Yes</td>\n",
              "      <td id=\"T_b0116_row1_col2\" class=\"data row1 col2\" >1</td>\n",
              "    </tr>\n",
              "    <tr>\n",
              "      <th id=\"T_b0116_level0_row2\" class=\"row_heading level0 row2\" >9</th>\n",
              "      <td id=\"T_b0116_row2_col0\" class=\"data row2 col0\" >Hunger Vital Sign </td>\n",
              "      <td id=\"T_b0116_row2_col1\" class=\"data row2 col1\" >Yes</td>\n",
              "      <td id=\"T_b0116_row2_col2\" class=\"data row2 col2\" >1</td>\n",
              "    </tr>\n",
              "    <tr>\n",
              "      <th id=\"T_b0116_level0_row3\" class=\"row_heading level0 row3\" >8</th>\n",
              "      <td id=\"T_b0116_row3_col0\" class=\"data row3 col0\" >Household Food Security Survey Module (HFSSM) (NOTE: Canadian survey adapted from the US food security measurement method)</td>\n",
              "      <td id=\"T_b0116_row3_col1\" class=\"data row3 col1\" >No</td>\n",
              "      <td id=\"T_b0116_row3_col2\" class=\"data row3 col2\" >19</td>\n",
              "    </tr>\n",
              "    <tr>\n",
              "      <th id=\"T_b0116_level0_row4\" class=\"row_heading level0 row4\" >5</th>\n",
              "      <td id=\"T_b0116_row4_col0\" class=\"data row4 col0\" >HFIAS</td>\n",
              "      <td id=\"T_b0116_row4_col1\" class=\"data row4 col1\" >No</td>\n",
              "      <td id=\"T_b0116_row4_col2\" class=\"data row4 col2\" >19</td>\n",
              "    </tr>\n",
              "    <tr>\n",
              "      <th id=\"T_b0116_level0_row5\" class=\"row_heading level0 row5\" >22</th>\n",
              "      <td id=\"T_b0116_row5_col0\" class=\"data row5 col0\" >USDA Youth</td>\n",
              "      <td id=\"T_b0116_row5_col1\" class=\"data row5 col1\" >No</td>\n",
              "      <td id=\"T_b0116_row5_col2\" class=\"data row5 col2\" >9</td>\n",
              "    </tr>\n",
              "    <tr>\n",
              "      <th id=\"T_b0116_level0_row6\" class=\"row_heading level0 row6\" >4</th>\n",
              "      <td id=\"T_b0116_row6_col0\" class=\"data row6 col0\" >FIES-SM</td>\n",
              "      <td id=\"T_b0116_row6_col1\" class=\"data row6 col1\" >No</td>\n",
              "      <td id=\"T_b0116_row6_col2\" class=\"data row6 col2\" >8</td>\n",
              "    </tr>\n",
              "    <tr>\n",
              "      <th id=\"T_b0116_level0_row7\" class=\"row_heading level0 row7\" >19</th>\n",
              "      <td id=\"T_b0116_row7_col0\" class=\"data row7 col0\" >US household food security 18 item</td>\n",
              "      <td id=\"T_b0116_row7_col1\" class=\"data row7 col1\" >No</td>\n",
              "      <td id=\"T_b0116_row7_col2\" class=\"data row7 col2\" >8</td>\n",
              "    </tr>\n",
              "    <tr>\n",
              "      <th id=\"T_b0116_level0_row8\" class=\"row_heading level0 row8\" >21</th>\n",
              "      <td id=\"T_b0116_row8_col0\" class=\"data row8 col0\" >US household food security ten item\n",
              "US household food security 18 item</td>\n",
              "      <td id=\"T_b0116_row8_col1\" class=\"data row8 col1\" >No</td>\n",
              "      <td id=\"T_b0116_row8_col2\" class=\"data row8 col2\" >5</td>\n",
              "    </tr>\n",
              "    <tr>\n",
              "      <th id=\"T_b0116_level0_row9\" class=\"row_heading level0 row9\" >20</th>\n",
              "      <td id=\"T_b0116_row9_col0\" class=\"data row9 col0\" >US household food security six item\n",
              "US household food security ten item\n",
              "US household food security 18 item</td>\n",
              "      <td id=\"T_b0116_row9_col1\" class=\"data row9 col1\" >No</td>\n",
              "      <td id=\"T_b0116_row9_col2\" class=\"data row9 col2\" >4</td>\n",
              "    </tr>\n",
              "    <tr>\n",
              "      <th id=\"T_b0116_level0_row10\" class=\"row_heading level0 row10\" >23</th>\n",
              "      <td id=\"T_b0116_row10_col0\" class=\"data row10 col0\" >We Care</td>\n",
              "      <td id=\"T_b0116_row10_col1\" class=\"data row10 col1\" >No</td>\n",
              "      <td id=\"T_b0116_row10_col2\" class=\"data row10 col2\" >4</td>\n",
              "    </tr>\n",
              "    <tr>\n",
              "      <th id=\"T_b0116_level0_row11\" class=\"row_heading level0 row11\" >10</th>\n",
              "      <td id=\"T_b0116_row11_col0\" class=\"data row11 col0\" >IHELP</td>\n",
              "      <td id=\"T_b0116_row11_col1\" class=\"data row11 col1\" >No</td>\n",
              "      <td id=\"T_b0116_row11_col2\" class=\"data row11 col2\" >3</td>\n",
              "    </tr>\n",
              "    <tr>\n",
              "      <th id=\"T_b0116_level0_row12\" class=\"row_heading level0 row12\" >0</th>\n",
              "      <td id=\"T_b0116_row12_col0\" class=\"data row12 col0\" >AAFP Social Needs Screening Tool</td>\n",
              "      <td id=\"T_b0116_row12_col1\" class=\"data row12 col1\" >No</td>\n",
              "      <td id=\"T_b0116_row12_col2\" class=\"data row12 col2\" >2</td>\n",
              "    </tr>\n",
              "    <tr>\n",
              "      <th id=\"T_b0116_level0_row13\" class=\"row_heading level0 row13\" >16</th>\n",
              "      <td id=\"T_b0116_row13_col0\" class=\"data row13 col0\" >SEEK</td>\n",
              "      <td id=\"T_b0116_row13_col1\" class=\"data row13 col1\" >No</td>\n",
              "      <td id=\"T_b0116_row13_col2\" class=\"data row13 col2\" >2</td>\n",
              "    </tr>\n",
              "    <tr>\n",
              "      <th id=\"T_b0116_level0_row14\" class=\"row_heading level0 row14\" >14</th>\n",
              "      <td id=\"T_b0116_row14_col0\" class=\"data row14 col0\" >NC SDOH</td>\n",
              "      <td id=\"T_b0116_row14_col1\" class=\"data row14 col1\" >No</td>\n",
              "      <td id=\"T_b0116_row14_col2\" class=\"data row14 col2\" >2</td>\n",
              "    </tr>\n",
              "    <tr>\n",
              "      <th id=\"T_b0116_level0_row15\" class=\"row_heading level0 row15\" >13</th>\n",
              "      <td id=\"T_b0116_row15_col0\" class=\"data row15 col0\" >Medicare THA</td>\n",
              "      <td id=\"T_b0116_row15_col1\" class=\"data row15 col1\" >No</td>\n",
              "      <td id=\"T_b0116_row15_col2\" class=\"data row15 col2\" >2</td>\n",
              "    </tr>\n",
              "    <tr>\n",
              "      <th id=\"T_b0116_level0_row16\" class=\"row_heading level0 row16\" >11</th>\n",
              "      <td id=\"T_b0116_row16_col0\" class=\"data row16 col0\" >Kaiser YCLS</td>\n",
              "      <td id=\"T_b0116_row16_col1\" class=\"data row16 col1\" >No</td>\n",
              "      <td id=\"T_b0116_row16_col2\" class=\"data row16 col2\" >2</td>\n",
              "    </tr>\n",
              "    <tr>\n",
              "      <th id=\"T_b0116_level0_row17\" class=\"row_heading level0 row17\" >2</th>\n",
              "      <td id=\"T_b0116_row17_col0\" class=\"data row17 col0\" >CHCW Internally developed SDoH Tool</td>\n",
              "      <td id=\"T_b0116_row17_col1\" class=\"data row17 col1\" >No</td>\n",
              "      <td id=\"T_b0116_row17_col2\" class=\"data row17 col2\" >2</td>\n",
              "    </tr>\n",
              "    <tr>\n",
              "      <th id=\"T_b0116_level0_row18\" class=\"row_heading level0 row18\" >18</th>\n",
              "      <td id=\"T_b0116_row18_col0\" class=\"data row18 col0\" >Total Health Quick Check (CHC Sno)</td>\n",
              "      <td id=\"T_b0116_row18_col1\" class=\"data row18 col1\" >No</td>\n",
              "      <td id=\"T_b0116_row18_col2\" class=\"data row18 col2\" >1</td>\n",
              "    </tr>\n",
              "    <tr>\n",
              "      <th id=\"T_b0116_level0_row19\" class=\"row_heading level0 row19\" >17</th>\n",
              "      <td id=\"T_b0116_row19_col0\" class=\"data row19 col0\" >SWYC</td>\n",
              "      <td id=\"T_b0116_row19_col1\" class=\"data row19 col1\" >No</td>\n",
              "      <td id=\"T_b0116_row19_col2\" class=\"data row19 col2\" >1</td>\n",
              "    </tr>\n",
              "    <tr>\n",
              "      <th id=\"T_b0116_level0_row20\" class=\"row_heading level0 row20\" >3</th>\n",
              "      <td id=\"T_b0116_row20_col0\" class=\"data row20 col0\" >CommunityConnect Social Needs Screening Tool</td>\n",
              "      <td id=\"T_b0116_row20_col1\" class=\"data row20 col1\" >No</td>\n",
              "      <td id=\"T_b0116_row20_col2\" class=\"data row20 col2\" >1</td>\n",
              "    </tr>\n",
              "    <tr>\n",
              "      <th id=\"T_b0116_level0_row21\" class=\"row_heading level0 row21\" >6</th>\n",
              "      <td id=\"T_b0116_row21_col0\" class=\"data row21 col0\" >Health Information National Trends Survey</td>\n",
              "      <td id=\"T_b0116_row21_col1\" class=\"data row21 col1\" >No</td>\n",
              "      <td id=\"T_b0116_row21_col2\" class=\"data row21 col2\" >1</td>\n",
              "    </tr>\n",
              "    <tr>\n",
              "      <th id=\"T_b0116_level0_row22\" class=\"row_heading level0 row22\" >7</th>\n",
              "      <td id=\"T_b0116_row22_col0\" class=\"data row22 col0\" >Health Leads</td>\n",
              "      <td id=\"T_b0116_row22_col1\" class=\"data row22 col1\" >No</td>\n",
              "      <td id=\"T_b0116_row22_col2\" class=\"data row22 col2\" >1</td>\n",
              "    </tr>\n",
              "    <tr>\n",
              "      <th id=\"T_b0116_level0_row23\" class=\"row_heading level0 row23\" >12</th>\n",
              "      <td id=\"T_b0116_row23_col0\" class=\"data row23 col0\" >Kleinman</td>\n",
              "      <td id=\"T_b0116_row23_col1\" class=\"data row23 col1\" >No</td>\n",
              "      <td id=\"T_b0116_row23_col2\" class=\"data row23 col2\" >1</td>\n",
              "    </tr>\n",
              "  </tbody>\n",
              "</table>\n"
            ],
            "text/plain": [
              "<pandas.io.formats.style.Styler at 0x2926b2050>"
            ]
          },
          "execution_count": 12,
          "metadata": {},
          "output_type": "execute_result"
        }
      ],
      "source": [
        "df_scr_tool_sum['Mapped_to_Athena'] = df_scr_tool_sum['Mapped_to_Athena'].fillna('No')\n",
        "df_scr_tool_sum.sort_values(by=['Mapped_to_Athena', 'LOINC_Panel_Code'], ascending=False, inplace=True)\n",
        "df_scr_tool_sum.rename(columns={'Relevant_Screening_Tool':'Screening Tool','LOINC_Panel_Code':'LOINC Code', 'Mapped_to_Athena':'Mapped to Athena'}, inplace=False).style.set_table_styles([ cell_align, cell_hover, index_names, headers])"
      ]
    },
    {
      "cell_type": "markdown",
      "metadata": {},
      "source": [
        "<p>The graph below provides the number of questions by screen tool grouped into those questions that we were able to map to **Athena**.</p>"
      ]
    },
    {
      "cell_type": "code",
      "execution_count": 13,
      "metadata": {},
      "outputs": [
        {
          "data": {
            "image/png": "[encoded data removed]",
            "text/plain": [
              "<Figure size 640x480 with 1 Axes>"
            ]
          },
          "metadata": {},
          "output_type": "display_data"
        }
      ],
      "source": [
        "import matplotlib.pyplot as plt\n",
        "\n",
        "sns.barplot(df_scr_tool_sum, x= 'LOINC_Panel_Code', y= 'Relevant_Screening_Tool', orient=\"y\", hue='Mapped_to_Athena')\n",
        "#modify individual font size of elements\n",
        "plt.legend(title='Question mapped to Athena ', fontsize=8)\n",
        "plt.xlabel('Count', fontsize=16);\n",
        "plt.ylabel('Screen tool name', fontsize=4);\n",
        "plt.title('Count of number of questions by screen tool of food insecurity', fontsize=20)\n",
        "plt.tick_params(axis='both', which='major', labelsize=8)"
      ]
    },
    {
      "cell_type": "code",
      "execution_count": 14,
      "metadata": {
        "id": "1ANFaAWcWt-T"
      },
      "outputs": [],
      "source": [
        "import re\n",
        "#select questions that have mapped to athena\n",
        "sentences_yes = df3['Question_Concept'].loc[df3['Mapped_to_Athena'] == 'Yes'].unique().tolist()\n",
        "sentences_yes = [x for x in sentences_yes if str(x) != 'nan']\n",
        "#remove redundant words\n",
        "pattern_yes = r\"\\s+\\[U\\.S\\. FSS\\]\"\n",
        "sentences_yes = [re.sub(pattern_yes, '', str(x)) for x in sentences_yes]\n",
        "#select unique assessment questions:\n",
        "duplicate_question = 'Within the past 12 months we worried whether our food would run out before we got money to buy more'\n",
        "sentences_yes.remove(duplicate_question)\n",
        "#select questions that were not mapped to any vocabularly using Athena:\n",
        "sentences_no = df3['Question_Concept'].loc[df3['Mapped_to_Athena'] != 'Yes'].unique().tolist()\n",
        "#clean string from unecessary strings Q1 Q14b. etc....\n",
        "pattern = r\"Q\\d{1,2}\\.\\s+|Q\\d{1,2}b\\.\\s+|\\?|\\.\"\n",
        "sentences_no = [re.sub(pattern, '', str(x)) for x in sentences_no]\n",
        "#Delete question mapped to Athena but not reported by the gravity team\n",
        "duplicated_question  = 'Within the past 12 months, you worried that your food would run out before you got money to buy more'\n",
        "sentences_no.remove(duplicated_question)\n",
        "sentences = [sentences_yes, sentences_no]"
      ]
    },
    {
      "cell_type": "code",
      "execution_count": 15,
      "metadata": {
        "id": "6wLOQE1JGpO4"
      },
      "outputs": [],
      "source": [
        "%%capture\n",
        "from sentence_transformers import SentenceTransformer, util\n",
        "model = SentenceTransformer('all-MiniLM-L6-v2')"
      ]
    },
    {
      "cell_type": "code",
      "execution_count": 27,
      "metadata": {
        "id": "18MqjNriD7qL"
      },
      "outputs": [],
      "source": [
        "%%capture\n",
        "model = SentenceTransformer('all-MiniLM-L6-v2')\n",
        "\n",
        "#Compute bi-ranked embedding for food insecurity\n",
        "\n",
        "ranked_domain ={'standard': [] ,'index_yes':[], 'index_no':[], 'label_yes': [], 'label_no':[], 'ranked_value':[]}\n",
        "for h,s in enumerate(sentences):\n",
        "  if h ==0: #select questions that have been mapped to Athena  for embedding\n",
        "    embedding_1= model.encode(s, convert_to_tensor=True)\n",
        "    for i, sentence in enumerate(sentences_no):\n",
        "      embedding_2 = model.encode(sentence, convert_to_tensor=True)\n",
        "      #Compute cosine-similarities\n",
        "      cosine_scores = util.cos_sim(embedding_1, embedding_2)\n",
        "      #Output the pairs with their score\n",
        "      for j, sentence_yes in enumerate(sentences_yes):\n",
        "        ranked_domain['standard'].append(h)\n",
        "        ranked_domain['index_yes'].append(str(j))\n",
        "        ranked_domain['index_no'].append(str(i))\n",
        "        ranked_domain['label_yes'].append(sentence_yes)\n",
        "        ranked_domain['label_no'].append(sentence)\n",
        "        na = np.round(cosine_scores.numpy(),2)\n",
        "        ranked_domain['ranked_value'].append(round(na[j][0],2))"
      ]
    },
    {
      "cell_type": "code",
      "execution_count": 33,
      "metadata": {
        "id": "sdk2jKNtsy7N"
      },
      "outputs": [],
      "source": [
        "df =pd.DataFrame.from_dict(ranked_domain)"
      ]
    },
    {
      "cell_type": "code",
      "execution_count": 34,
      "metadata": {},
      "outputs": [
        {
          "data": {
            "text/html": [
              "<div>\n",
              "<style scoped>\n",
              "    .dataframe tbody tr th:only-of-type {\n",
              "        vertical-align: middle;\n",
              "    }\n",
              "\n",
              "    .dataframe tbody tr th {\n",
              "        vertical-align: top;\n",
              "    }\n",
              "\n",
              "    .dataframe thead th {\n",
              "        text-align: right;\n",
              "    }\n",
              "</style>\n",
              "<table border=\"1\" class=\"dataframe\">\n",
              "  <thead>\n",
              "    <tr style=\"text-align: right;\">\n",
              "      <th></th>\n",
              "      <th>standard</th>\n",
              "      <th>index_yes</th>\n",
              "      <th>index_no</th>\n",
              "      <th>label_yes</th>\n",
              "      <th>label_no</th>\n",
              "      <th>ranked_value</th>\n",
              "    </tr>\n",
              "  </thead>\n",
              "  <tbody>\n",
              "    <tr>\n",
              "      <th>0</th>\n",
              "      <td>0</td>\n",
              "      <td>0</td>\n",
              "      <td>0</td>\n",
              "      <td>Within the past 12 months the food we bought j...</td>\n",
              "      <td>Do you eat fewer than 2 meals a day</td>\n",
              "      <td>0.38</td>\n",
              "    </tr>\n",
              "    <tr>\n",
              "      <th>1</th>\n",
              "      <td>0</td>\n",
              "      <td>1</td>\n",
              "      <td>0</td>\n",
              "      <td>Within the past 12 months, you worried that yo...</td>\n",
              "      <td>Do you eat fewer than 2 meals a day</td>\n",
              "      <td>0.43</td>\n",
              "    </tr>\n",
              "    <tr>\n",
              "      <th>2</th>\n",
              "      <td>0</td>\n",
              "      <td>2</td>\n",
              "      <td>0</td>\n",
              "      <td>Within the past 12 months, the food you bought...</td>\n",
              "      <td>Do you eat fewer than 2 meals a day</td>\n",
              "      <td>0.35</td>\n",
              "    </tr>\n",
              "    <tr>\n",
              "      <th>3</th>\n",
              "      <td>0</td>\n",
              "      <td>3</td>\n",
              "      <td>0</td>\n",
              "      <td>In the past year, have you or any family membe...</td>\n",
              "      <td>Do you eat fewer than 2 meals a day</td>\n",
              "      <td>0.04</td>\n",
              "    </tr>\n",
              "    <tr>\n",
              "      <th>4</th>\n",
              "      <td>0</td>\n",
              "      <td>0</td>\n",
              "      <td>1</td>\n",
              "      <td>Within the past 12 months the food we bought j...</td>\n",
              "      <td>Do you always have enough money to buy the foo...</td>\n",
              "      <td>0.64</td>\n",
              "    </tr>\n",
              "  </tbody>\n",
              "</table>\n",
              "</div>"
            ],
            "text/plain": [
              "   standard index_yes index_no  \\\n",
              "0         0         0        0   \n",
              "1         0         1        0   \n",
              "2         0         2        0   \n",
              "3         0         3        0   \n",
              "4         0         0        1   \n",
              "\n",
              "                                           label_yes  \\\n",
              "0  Within the past 12 months the food we bought j...   \n",
              "1  Within the past 12 months, you worried that yo...   \n",
              "2  Within the past 12 months, the food you bought...   \n",
              "3  In the past year, have you or any family membe...   \n",
              "4  Within the past 12 months the food we bought j...   \n",
              "\n",
              "                                            label_no  ranked_value  \n",
              "0                Do you eat fewer than 2 meals a day          0.38  \n",
              "1                Do you eat fewer than 2 meals a day          0.43  \n",
              "2                Do you eat fewer than 2 meals a day          0.35  \n",
              "3                Do you eat fewer than 2 meals a day          0.04  \n",
              "4  Do you always have enough money to buy the foo...          0.64  "
            ]
          },
          "execution_count": 34,
          "metadata": {},
          "output_type": "execute_result"
        }
      ],
      "source": [
        "df.head()\n"
      ]
    },
    {
      "cell_type": "markdown",
      "metadata": {},
      "source": [
        "<h2>Text Similarity Score</h2>\n",
        "<p>The interactive appplication below provide the capbility to select the text similarity score and thus broading or narrow the semantic similarity between the questions mapped to the OMOP CDM and those that were not mapped.</p>"
      ]
    },
    {
      "cell_type": "code",
      "execution_count": 152,
      "metadata": {},
      "outputs": [
        {
          "data": {
            "application/javascript": "(function(root) {\n  function now() {\n    return new Date();\n  }\n\n  var force = true;\n  var py_version = '3.2.2'.replace('rc', '-rc.').replace('.dev', '-dev.');\n  var is_dev = py_version.indexOf(\"+\") !== -1 || py_version.indexOf(\"-\") !== -1;\n  var reloading = false;\n  var Bokeh = root.Bokeh;\n  var bokeh_loaded = Bokeh != null && (Bokeh.version === py_version || (Bokeh.versions !== undefined && Bokeh.versions.has(py_version)));\n\n  if (typeof (root._bokeh_timeout) === \"undefined\" || force) {\n    root._bokeh_timeout = Date.now() + 5000;\n    root._bokeh_failed_load = false;\n  }\n\n  function run_callbacks() {\n    try {\n      root._bokeh_onload_callbacks.forEach(function(callback) {\n        if (callback != null)\n          callback();\n      });\n    } finally {\n      delete root._bokeh_onload_callbacks;\n    }\n    console.debug(\"Bokeh: all callbacks have finished\");\n  }\n\n  function load_libs(css_urls, js_urls, js_modules, js_exports, callback) {\n    if (css_urls == null) css_urls = [];\n    if (js_urls == null) js_urls = [];\n    if (js_modules == null) js_modules = [];\n    if (js_exports == null) js_exports = {};\n\n    root._bokeh_onload_callbacks.push(callback);\n\n    if (root._bokeh_is_loading > 0) {\n      console.debug(\"Bokeh: BokehJS is being loaded, scheduling callback at\", now());\n      return null;\n    }\n    if (js_urls.length === 0 && js_modules.length === 0 && Object.keys(js_exports).length === 0) {\n      run_callbacks();\n      return null;\n    }\n    if (!reloading) {\n      console.debug(\"Bokeh: BokehJS not loaded, scheduling load and callback at\", now());\n    }\n\n    function on_load() {\n      root._bokeh_is_loading--;\n      if (root._bokeh_is_loading === 0) {\n        console.debug(\"Bokeh: all BokehJS libraries/stylesheets loaded\");\n        run_callbacks()\n      }\n    }\n    window._bokeh_on_load = on_load\n\n    function on_error() {\n      console.error(\"failed to load \" + url);\n    }\n\n    var skip = [];\n    if (window.requirejs) {\n      window.requirejs.config({'packages': {}, 'paths': {'jspanel': 'https://cdn.jsdelivr.net/npm/jspanel4@4.12.0/dist/jspanel', 'jspanel-modal': 'https://cdn.jsdelivr.net/npm/jspanel4@4.12.0/dist/extensions/modal/jspanel.modal', 'jspanel-tooltip': 'https://cdn.jsdelivr.net/npm/jspanel4@4.12.0/dist/extensions/tooltip/jspanel.tooltip', 'jspanel-hint': 'https://cdn.jsdelivr.net/npm/jspanel4@4.12.0/dist/extensions/hint/jspanel.hint', 'jspanel-layout': 'https://cdn.jsdelivr.net/npm/jspanel4@4.12.0/dist/extensions/layout/jspanel.layout', 'jspanel-contextmenu': 'https://cdn.jsdelivr.net/npm/jspanel4@4.12.0/dist/extensions/contextmenu/jspanel.contextmenu', 'jspanel-dock': 'https://cdn.jsdelivr.net/npm/jspanel4@4.12.0/dist/extensions/dock/jspanel.dock', 'gridstack': 'https://cdn.jsdelivr.net/npm/gridstack@7.2.3/dist/gridstack-all', 'notyf': 'https://cdn.jsdelivr.net/npm/notyf@3/notyf.min'}, 'shim': {'jspanel': {'exports': 'jsPanel'}, 'gridstack': {'exports': 'GridStack'}}});\n      require([\"jspanel\"], function(jsPanel) {\n\twindow.jsPanel = jsPanel\n\ton_load()\n      })\n      require([\"jspanel-modal\"], function() {\n\ton_load()\n      })\n      require([\"jspanel-tooltip\"], function() {\n\ton_load()\n      })\n      require([\"jspanel-hint\"], function() {\n\ton_load()\n      })\n      require([\"jspanel-layout\"], function() {\n\ton_load()\n      })\n      require([\"jspanel-contextmenu\"], function() {\n\ton_load()\n      })\n      require([\"jspanel-dock\"], function() {\n\ton_load()\n      })\n      require([\"gridstack\"], function(GridStack) {\n\twindow.GridStack = GridStack\n\ton_load()\n      })\n      require([\"notyf\"], function() {\n\ton_load()\n      })\n      root._bokeh_is_loading = css_urls.length + 9;\n    } else {\n      root._bokeh_is_loading = css_urls.length + js_urls.length + js_modules.length + Object.keys(js_exports).length;\n    }\n\n    var existing_stylesheets = []\n    var links = document.getElementsByTagName('link')\n    for (var i = 0; i < links.length; i++) {\n      var link = links[i]\n      if (link.href != null) {\n\texisting_stylesheets.push(link.href)\n      }\n    }\n    for (var i = 0; i < css_urls.length; i++) {\n      var url = css_urls[i];\n      if (existing_stylesheets.indexOf(url) !== -1) {\n\ton_load()\n\tcontinue;\n      }\n      const element = document.createElement(\"link\");\n      element.onload = on_load;\n      element.onerror = on_error;\n      element.rel = \"stylesheet\";\n      element.type = \"text/css\";\n      element.href = url;\n      console.debug(\"Bokeh: injecting link tag for BokehJS stylesheet: \", url);\n      document.body.appendChild(element);\n    }    if (((window['jsPanel'] !== undefined) && (!(window['jsPanel'] instanceof HTMLElement))) || window.requirejs) {\n      var urls = ['https://cdn.holoviz.org/panel/1.2.3/dist/bundled/floatpanel/jspanel4@4.12.0/dist/jspanel.js', 'https://cdn.holoviz.org/panel/1.2.3/dist/bundled/floatpanel/jspanel4@4.12.0/dist/extensions/modal/jspanel.modal.js', 'https://cdn.holoviz.org/panel/1.2.3/dist/bundled/floatpanel/jspanel4@4.12.0/dist/extensions/tooltip/jspanel.tooltip.js', 'https://cdn.holoviz.org/panel/1.2.3/dist/bundled/floatpanel/jspanel4@4.12.0/dist/extensions/hint/jspanel.hint.js', 'https://cdn.holoviz.org/panel/1.2.3/dist/bundled/floatpanel/jspanel4@4.12.0/dist/extensions/layout/jspanel.layout.js', 'https://cdn.holoviz.org/panel/1.2.3/dist/bundled/floatpanel/jspanel4@4.12.0/dist/extensions/contextmenu/jspanel.contextmenu.js', 'https://cdn.holoviz.org/panel/1.2.3/dist/bundled/floatpanel/jspanel4@4.12.0/dist/extensions/dock/jspanel.dock.js'];\n      for (var i = 0; i < urls.length; i++) {\n        skip.push(urls[i])\n      }\n    }    if (((window['GridStack'] !== undefined) && (!(window['GridStack'] instanceof HTMLElement))) || window.requirejs) {\n      var urls = ['https://cdn.holoviz.org/panel/1.2.3/dist/bundled/gridstack/gridstack@7.2.3/dist/gridstack-all.js'];\n      for (var i = 0; i < urls.length; i++) {\n        skip.push(urls[i])\n      }\n    }    if (((window['Notyf'] !== undefined) && (!(window['Notyf'] instanceof HTMLElement))) || window.requirejs) {\n      var urls = ['https://cdn.holoviz.org/panel/1.2.3/dist/bundled/notificationarea/notyf@3/notyf.min.js'];\n      for (var i = 0; i < urls.length; i++) {\n        skip.push(urls[i])\n      }\n    }    var existing_scripts = []\n    var scripts = document.getElementsByTagName('script')\n    for (var i = 0; i < scripts.length; i++) {\n      var script = scripts[i]\n      if (script.src != null) {\n\texisting_scripts.push(script.src)\n      }\n    }\n    for (var i = 0; i < js_urls.length; i++) {\n      var url = js_urls[i];\n      if (skip.indexOf(url) !== -1 || existing_scripts.indexOf(url) !== -1) {\n\tif (!window.requirejs) {\n\t  on_load();\n\t}\n\tcontinue;\n      }\n      var element = document.createElement('script');\n      element.onload = on_load;\n      element.onerror = on_error;\n      element.async = false;\n      element.src = url;\n      console.debug(\"Bokeh: injecting script tag for BokehJS library: \", url);\n      document.head.appendChild(element);\n    }\n    for (var i = 0; i < js_modules.length; i++) {\n      var url = js_modules[i];\n      if (skip.indexOf(url) !== -1 || existing_scripts.indexOf(url) !== -1) {\n\tif (!window.requirejs) {\n\t  on_load();\n\t}\n\tcontinue;\n      }\n      var element = document.createElement('script');\n      element.onload = on_load;\n      element.onerror = on_error;\n      element.async = false;\n      element.src = url;\n      element.type = \"module\";\n      console.debug(\"Bokeh: injecting script tag for BokehJS library: \", url);\n      document.head.appendChild(element);\n    }\n    for (const name in js_exports) {\n      var url = js_exports[name];\n      if (skip.indexOf(url) >= 0 || root[name] != null) {\n\tif (!window.requirejs) {\n\t  on_load();\n\t}\n\tcontinue;\n      }\n      var element = document.createElement('script');\n      element.onerror = on_error;\n      element.async = false;\n      element.type = \"module\";\n      console.debug(\"Bokeh: injecting script tag for BokehJS library: \", url);\n      element.textContent = `\n      import ${name} from \"${url}\"\n      window.${name} = ${name}\n      window._bokeh_on_load()\n      `\n      document.head.appendChild(element);\n    }\n    if (!js_urls.length && !js_modules.length) {\n      on_load()\n    }\n  };\n\n  function inject_raw_css(css) {\n    const element = document.createElement(\"style\");\n    element.appendChild(document.createTextNode(css));\n    document.body.appendChild(element);\n  }\n\n  var js_urls = [\"https://cdn.bokeh.org/bokeh/release/bokeh-3.2.2.min.js\", \"https://cdn.bokeh.org/bokeh/release/bokeh-gl-3.2.2.min.js\", \"https://cdn.bokeh.org/bokeh/release/bokeh-widgets-3.2.2.min.js\", \"https://cdn.bokeh.org/bokeh/release/bokeh-tables-3.2.2.min.js\", \"https://cdn.holoviz.org/panel/1.2.3/dist/panel.min.js\"];\n  var js_modules = [];\n  var js_exports = {};\n  var css_urls = [];\n  var inline_js = [    function(Bokeh) {\n      Bokeh.set_log_level(\"info\");\n    },\nfunction(Bokeh) {} // ensure no trailing comma for IE\n  ];\n\n  function run_inline_js() {\n    if ((root.Bokeh !== undefined) || (force === true)) {\n      for (var i = 0; i < inline_js.length; i++) {\n        inline_js[i].call(root, root.Bokeh);\n      }\n      // Cache old bokeh versions\n      if (Bokeh != undefined && !reloading) {\n\tvar NewBokeh = root.Bokeh;\n\tif (Bokeh.versions === undefined) {\n\t  Bokeh.versions = new Map();\n\t}\n\tif (NewBokeh.version !== Bokeh.version) {\n\t  Bokeh.versions.set(NewBokeh.version, NewBokeh)\n\t}\n\troot.Bokeh = Bokeh;\n      }} else if (Date.now() < root._bokeh_timeout) {\n      setTimeout(run_inline_js, 100);\n    } else if (!root._bokeh_failed_load) {\n      console.log(\"Bokeh: BokehJS failed to load within specified timeout.\");\n      root._bokeh_failed_load = true;\n    }\n    root._bokeh_is_initializing = false\n  }\n\n  function load_or_wait() {\n    // Implement a backoff loop that tries to ensure we do not load multiple\n    // versions of Bokeh and its dependencies at the same time.\n    // In recent versions we use the root._bokeh_is_initializing flag\n    // to determine whether there is an ongoing attempt to initialize\n    // bokeh, however for backward compatibility we also try to ensure\n    // that we do not start loading a newer (Panel>=1.0 and Bokeh>3) version\n    // before older versions are fully initialized.\n    if (root._bokeh_is_initializing && Date.now() > root._bokeh_timeout) {\n      root._bokeh_is_initializing = false;\n      root._bokeh_onload_callbacks = undefined;\n      console.log(\"Bokeh: BokehJS was loaded multiple times but one version failed to initialize.\");\n      load_or_wait();\n    } else if (root._bokeh_is_initializing || (typeof root._bokeh_is_initializing === \"undefined\" && root._bokeh_onload_callbacks !== undefined)) {\n      setTimeout(load_or_wait, 100);\n    } else {\n      Bokeh = root.Bokeh;\n      bokeh_loaded = Bokeh != null && (Bokeh.version === py_version || (Bokeh.versions !== undefined && Bokeh.versions.has(py_version)));\n      root._bokeh_is_initializing = true\n      root._bokeh_onload_callbacks = []\n      if (!reloading && (!bokeh_loaded || is_dev)) {\n\troot.Bokeh = undefined;\n      }\n      load_libs(css_urls, js_urls, js_modules, js_exports, function() {\n\tconsole.debug(\"Bokeh: BokehJS plotting callback run at\", now());\n\trun_inline_js();\n      });\n    }\n  }\n  // Give older versions of the autoload script a head-start to ensure\n  // they initialize before we start loading newer version.\n  setTimeout(load_or_wait, 100)\n}(window));",
            "application/vnd.holoviews_load.v0+json": ""
          },
          "metadata": {},
          "output_type": "display_data"
        },
        {
          "data": {
            "application/javascript": "\nif ((window.PyViz === undefined) || (window.PyViz instanceof HTMLElement)) {\n  window.PyViz = {comms: {}, comm_status:{}, kernels:{}, receivers: {}, plot_index: []}\n}\n\n\n    function JupyterCommManager() {\n    }\n\n    JupyterCommManager.prototype.register_target = function(plot_id, comm_id, msg_handler) {\n      if (window.comm_manager || ((window.Jupyter !== undefined) && (Jupyter.notebook.kernel != null))) {\n        var comm_manager = window.comm_manager || Jupyter.notebook.kernel.comm_manager;\n        comm_manager.register_target(comm_id, function(comm) {\n          comm.on_msg(msg_handler);\n        });\n      } else if ((plot_id in window.PyViz.kernels) && (window.PyViz.kernels[plot_id])) {\n        window.PyViz.kernels[plot_id].registerCommTarget(comm_id, function(comm) {\n          comm.onMsg = msg_handler;\n        });\n      } else if (typeof google != 'undefined' && google.colab.kernel != null) {\n        google.colab.kernel.comms.registerTarget(comm_id, (comm) => {\n          var messages = comm.messages[Symbol.asyncIterator]();\n          function processIteratorResult(result) {\n            var message = result.value;\n            console.log(message)\n            var content = {data: message.data, comm_id};\n            var buffers = []\n            for (var buffer of message.buffers || []) {\n              buffers.push(new DataView(buffer))\n            }\n            var metadata = message.metadata || {};\n            var msg = {content, buffers, metadata}\n            msg_handler(msg);\n            return messages.next().then(processIteratorResult);\n          }\n          return messages.next().then(processIteratorResult);\n        })\n      }\n    }\n\n    JupyterCommManager.prototype.get_client_comm = function(plot_id, comm_id, msg_handler) {\n      if (comm_id in window.PyViz.comms) {\n        return window.PyViz.comms[comm_id];\n      } else if (window.comm_manager || ((window.Jupyter !== undefined) && (Jupyter.notebook.kernel != null))) {\n        var comm_manager = window.comm_manager || Jupyter.notebook.kernel.comm_manager;\n        var comm = comm_manager.new_comm(comm_id, {}, {}, {}, comm_id);\n        if (msg_handler) {\n          comm.on_msg(msg_handler);\n        }\n      } else if ((plot_id in window.PyViz.kernels) && (window.PyViz.kernels[plot_id])) {\n        var comm = window.PyViz.kernels[plot_id].connectToComm(comm_id);\n        comm.open();\n        if (msg_handler) {\n          comm.onMsg = msg_handler;\n        }\n      } else if (typeof google != 'undefined' && google.colab.kernel != null) {\n        var comm_promise = google.colab.kernel.comms.open(comm_id)\n        comm_promise.then((comm) => {\n          window.PyViz.comms[comm_id] = comm;\n          if (msg_handler) {\n            var messages = comm.messages[Symbol.asyncIterator]();\n            function processIteratorResult(result) {\n              var message = result.value;\n              var content = {data: message.data};\n              var metadata = message.metadata || {comm_id};\n              var msg = {content, metadata}\n              msg_handler(msg);\n              return messages.next().then(processIteratorResult);\n            }\n            return messages.next().then(processIteratorResult);\n          }\n        }) \n        var sendClosure = (data, metadata, buffers, disposeOnDone) => {\n          return comm_promise.then((comm) => {\n            comm.send(data, metadata, buffers, disposeOnDone);\n          });\n        };\n        var comm = {\n          send: sendClosure\n        };\n      }\n      window.PyViz.comms[comm_id] = comm;\n      return comm;\n    }\n    window.PyViz.comm_manager = new JupyterCommManager();\n    \n\n\nvar JS_MIME_TYPE = 'application/javascript';\nvar HTML_MIME_TYPE = 'text/html';\nvar EXEC_MIME_TYPE = 'application/vnd.holoviews_exec.v0+json';\nvar CLASS_NAME = 'output';\n\n/**\n * Render data to the DOM node\n */\nfunction render(props, node) {\n  var div = document.createElement(\"div\");\n  var script = document.createElement(\"script\");\n  node.appendChild(div);\n  node.appendChild(script);\n}\n\n/**\n * Handle when a new output is added\n */\nfunction handle_add_output(event, handle) {\n  var output_area = handle.output_area;\n  var output = handle.output;\n  if ((output.data == undefined) || (!output.data.hasOwnProperty(EXEC_MIME_TYPE))) {\n    return\n  }\n  var id = output.metadata[EXEC_MIME_TYPE][\"id\"];\n  var toinsert = output_area.element.find(\".\" + CLASS_NAME.split(' ')[0]);\n  if (id !== undefined) {\n    var nchildren = toinsert.length;\n    var html_node = toinsert[nchildren-1].children[0];\n    html_node.innerHTML = output.data[HTML_MIME_TYPE];\n    var scripts = [];\n    var nodelist = html_node.querySelectorAll(\"script\");\n    for (var i in nodelist) {\n      if (nodelist.hasOwnProperty(i)) {\n        scripts.push(nodelist[i])\n      }\n    }\n\n    scripts.forEach( function (oldScript) {\n      var newScript = document.createElement(\"script\");\n      var attrs = [];\n      var nodemap = oldScript.attributes;\n      for (var j in nodemap) {\n        if (nodemap.hasOwnProperty(j)) {\n          attrs.push(nodemap[j])\n        }\n      }\n      attrs.forEach(function(attr) { newScript.setAttribute(attr.name, attr.value) });\n      newScript.appendChild(document.createTextNode(oldScript.innerHTML));\n      oldScript.parentNode.replaceChild(newScript, oldScript);\n    });\n    if (JS_MIME_TYPE in output.data) {\n      toinsert[nchildren-1].children[1].textContent = output.data[JS_MIME_TYPE];\n    }\n    output_area._hv_plot_id = id;\n    if ((window.Bokeh !== undefined) && (id in Bokeh.index)) {\n      window.PyViz.plot_index[id] = Bokeh.index[id];\n    } else {\n      window.PyViz.plot_index[id] = null;\n    }\n  } else if (output.metadata[EXEC_MIME_TYPE][\"server_id\"] !== undefined) {\n    var bk_div = document.createElement(\"div\");\n    bk_div.innerHTML = output.data[HTML_MIME_TYPE];\n    var script_attrs = bk_div.children[0].attributes;\n    for (var i = 0; i < script_attrs.length; i++) {\n      toinsert[toinsert.length - 1].childNodes[1].setAttribute(script_attrs[i].name, script_attrs[i].value);\n    }\n    // store reference to server id on output_area\n    output_area._bokeh_server_id = output.metadata[EXEC_MIME_TYPE][\"server_id\"];\n  }\n}\n\n/**\n * Handle when an output is cleared or removed\n */\nfunction handle_clear_output(event, handle) {\n  var id = handle.cell.output_area._hv_plot_id;\n  var server_id = handle.cell.output_area._bokeh_server_id;\n  if (((id === undefined) || !(id in PyViz.plot_index)) && (server_id !== undefined)) { return; }\n  var comm = window.PyViz.comm_manager.get_client_comm(\"hv-extension-comm\", \"hv-extension-comm\", function () {});\n  if (server_id !== null) {\n    comm.send({event_type: 'server_delete', 'id': server_id});\n    return;\n  } else if (comm !== null) {\n    comm.send({event_type: 'delete', 'id': id});\n  }\n  delete PyViz.plot_index[id];\n  if ((window.Bokeh !== undefined) & (id in window.Bokeh.index)) {\n    var doc = window.Bokeh.index[id].model.document\n    doc.clear();\n    const i = window.Bokeh.documents.indexOf(doc);\n    if (i > -1) {\n      window.Bokeh.documents.splice(i, 1);\n    }\n  }\n}\n\n/**\n * Handle kernel restart event\n */\nfunction handle_kernel_cleanup(event, handle) {\n  delete PyViz.comms[\"hv-extension-comm\"];\n  window.PyViz.plot_index = {}\n}\n\n/**\n * Handle update_display_data messages\n */\nfunction handle_update_output(event, handle) {\n  handle_clear_output(event, {cell: {output_area: handle.output_area}})\n  handle_add_output(event, handle)\n}\n\nfunction register_renderer(events, OutputArea) {\n  function append_mime(data, metadata, element) {\n    // create a DOM node to render to\n    var toinsert = this.create_output_subarea(\n    metadata,\n    CLASS_NAME,\n    EXEC_MIME_TYPE\n    );\n    this.keyboard_manager.register_events(toinsert);\n    // Render to node\n    var props = {data: data, metadata: metadata[EXEC_MIME_TYPE]};\n    render(props, toinsert[0]);\n    element.append(toinsert);\n    return toinsert\n  }\n\n  events.on('output_added.OutputArea', handle_add_output);\n  events.on('output_updated.OutputArea', handle_update_output);\n  events.on('clear_output.CodeCell', handle_clear_output);\n  events.on('delete.Cell', handle_clear_output);\n  events.on('kernel_ready.Kernel', handle_kernel_cleanup);\n\n  OutputArea.prototype.register_mime_type(EXEC_MIME_TYPE, append_mime, {\n    safe: true,\n    index: 0\n  });\n}\n\nif (window.Jupyter !== undefined) {\n  try {\n    var events = require('base/js/events');\n    var OutputArea = require('notebook/js/outputarea').OutputArea;\n    if (OutputArea.prototype.mime_types().indexOf(EXEC_MIME_TYPE) == -1) {\n      register_renderer(events, OutputArea);\n    }\n  } catch(err) {\n  }\n}\n",
            "application/vnd.holoviews_load.v0+json": ""
          },
          "metadata": {},
          "output_type": "display_data"
        },
        {
          "data": {
            "text/html": [
              "<style>*[data-root-id],\n",
              "*[data-root-id] > * {\n",
              "  box-sizing: border-box;\n",
              "  font-family: var(--jp-ui-font-family);\n",
              "  font-size: var(--jp-ui-font-size1);\n",
              "  color: var(--vscode-editor-foreground, var(--jp-ui-font-color1));\n",
              "}\n",
              "\n",
              "/* Override VSCode background color */\n",
              ".cell-output-ipywidget-background:has(\n",
              "    > .cell-output-ipywidget-background > .lm-Widget > *[data-root-id]\n",
              "  ),\n",
              ".cell-output-ipywidget-background:has(> .lm-Widget > *[data-root-id]) {\n",
              "  background-color: transparent !important;\n",
              "}\n",
              "</style>"
            ]
          },
          "metadata": {},
          "output_type": "display_data"
        },
        {
          "data": {
            "application/vnd.holoviews_exec.v0+json": "",
            "text/html": [
              "<div id='47d24319-9fbb-40b4-86a0-d894c54489fa'>\n",
              "  <div id=\"a5f9b7df-d143-4f5b-b4ce-4c8d2e46bf4a\" data-root-id=\"47d24319-9fbb-40b4-86a0-d894c54489fa\" style=\"display: contents;\"></div>\n",
              "</div>\n",
              "<script type=\"application/javascript\">(function(root) {\n",
              "  var docs_json = {\"56231730-eba9-409c-ab91-d8629babc2d5\":{\"version\":\"3.2.2\",\"title\":\"Bokeh Application\",\"roots\":[{\"type\":\"object\",\"name\":\"panel.models.browser.BrowserInfo\",\"id\":\"47d24319-9fbb-40b4-86a0-d894c54489fa\"},{\"type\":\"object\",\"name\":\"panel.models.comm_manager.CommManager\",\"id\":\"16c7e4eb-2d6f-42b8-9bed-6004be21dce3\",\"attributes\":{\"plot_id\":\"47d24319-9fbb-40b4-86a0-d894c54489fa\",\"comm_id\":\"ac2d109d29fe452e812013a5b80fd8ad\",\"client_comm_id\":\"07c29f9006594f2f94da21b104326b2e\"}}],\"defs\":[{\"type\":\"model\",\"name\":\"ReactiveHTML1\"},{\"type\":\"model\",\"name\":\"FlexBox1\",\"properties\":[{\"name\":\"align_content\",\"kind\":\"Any\",\"default\":\"flex-start\"},{\"name\":\"align_items\",\"kind\":\"Any\",\"default\":\"flex-start\"},{\"name\":\"flex_direction\",\"kind\":\"Any\",\"default\":\"row\"},{\"name\":\"flex_wrap\",\"kind\":\"Any\",\"default\":\"wrap\"},{\"name\":\"justify_content\",\"kind\":\"Any\",\"default\":\"flex-start\"}]},{\"type\":\"model\",\"name\":\"FloatPanel1\",\"properties\":[{\"name\":\"config\",\"kind\":\"Any\",\"default\":{\"type\":\"map\"}},{\"name\":\"contained\",\"kind\":\"Any\",\"default\":true},{\"name\":\"position\",\"kind\":\"Any\",\"default\":\"right-top\"},{\"name\":\"offsetx\",\"kind\":\"Any\",\"default\":null},{\"name\":\"offsety\",\"kind\":\"Any\",\"default\":null},{\"name\":\"theme\",\"kind\":\"Any\",\"default\":\"primary\"},{\"name\":\"status\",\"kind\":\"Any\",\"default\":\"normalized\"}]},{\"type\":\"model\",\"name\":\"GridStack1\",\"properties\":[{\"name\":\"mode\",\"kind\":\"Any\",\"default\":\"warn\"},{\"name\":\"ncols\",\"kind\":\"Any\",\"default\":null},{\"name\":\"nrows\",\"kind\":\"Any\",\"default\":null},{\"name\":\"allow_resize\",\"kind\":\"Any\",\"default\":true},{\"name\":\"allow_drag\",\"kind\":\"Any\",\"default\":true},{\"name\":\"state\",\"kind\":\"Any\",\"default\":[]}]},{\"type\":\"model\",\"name\":\"drag1\",\"properties\":[{\"name\":\"slider_width\",\"kind\":\"Any\",\"default\":5},{\"name\":\"slider_color\",\"kind\":\"Any\",\"default\":\"black\"},{\"name\":\"value\",\"kind\":\"Any\",\"default\":50}]},{\"type\":\"model\",\"name\":\"click1\",\"properties\":[{\"name\":\"terminal_output\",\"kind\":\"Any\",\"default\":\"\"},{\"name\":\"debug_name\",\"kind\":\"Any\",\"default\":\"\"},{\"name\":\"clears\",\"kind\":\"Any\",\"default\":0}]},{\"type\":\"model\",\"name\":\"FastWrapper1\",\"properties\":[{\"name\":\"object\",\"kind\":\"Any\",\"default\":null},{\"name\":\"style\",\"kind\":\"Any\",\"default\":null}]},{\"type\":\"model\",\"name\":\"NotificationAreaBase1\",\"properties\":[{\"name\":\"js_events\",\"kind\":\"Any\",\"default\":{\"type\":\"map\"}},{\"name\":\"position\",\"kind\":\"Any\",\"default\":\"bottom-right\"},{\"name\":\"_clear\",\"kind\":\"Any\",\"default\":0}]},{\"type\":\"model\",\"name\":\"NotificationArea1\",\"properties\":[{\"name\":\"js_events\",\"kind\":\"Any\",\"default\":{\"type\":\"map\"}},{\"name\":\"notifications\",\"kind\":\"Any\",\"default\":[]},{\"name\":\"position\",\"kind\":\"Any\",\"default\":\"bottom-right\"},{\"name\":\"_clear\",\"kind\":\"Any\",\"default\":0},{\"name\":\"types\",\"kind\":\"Any\",\"default\":[{\"type\":\"map\",\"entries\":[[\"type\",\"warning\"],[\"background\",\"#ffc107\"],[\"icon\",{\"type\":\"map\",\"entries\":[[\"className\",\"fas fa-exclamation-triangle\"],[\"tagName\",\"i\"],[\"color\",\"white\"]]}]]},{\"type\":\"map\",\"entries\":[[\"type\",\"info\"],[\"background\",\"#007bff\"],[\"icon\",{\"type\":\"map\",\"entries\":[[\"className\",\"fas fa-info-circle\"],[\"tagName\",\"i\"],[\"color\",\"white\"]]}]]}]}]},{\"type\":\"model\",\"name\":\"Notification\",\"properties\":[{\"name\":\"background\",\"kind\":\"Any\",\"default\":null},{\"name\":\"duration\",\"kind\":\"Any\",\"default\":3000},{\"name\":\"icon\",\"kind\":\"Any\",\"default\":null},{\"name\":\"message\",\"kind\":\"Any\",\"default\":\"\"},{\"name\":\"notification_type\",\"kind\":\"Any\",\"default\":null},{\"name\":\"_destroyed\",\"kind\":\"Any\",\"default\":false}]},{\"type\":\"model\",\"name\":\"TemplateActions1\",\"properties\":[{\"name\":\"open_modal\",\"kind\":\"Any\",\"default\":0},{\"name\":\"close_modal\",\"kind\":\"Any\",\"default\":0}]},{\"type\":\"model\",\"name\":\"BootstrapTemplateActions1\",\"properties\":[{\"name\":\"open_modal\",\"kind\":\"Any\",\"default\":0},{\"name\":\"close_modal\",\"kind\":\"Any\",\"default\":0}]},{\"type\":\"model\",\"name\":\"MaterialTemplateActions1\",\"properties\":[{\"name\":\"open_modal\",\"kind\":\"Any\",\"default\":0},{\"name\":\"close_modal\",\"kind\":\"Any\",\"default\":0}]}]}};\n",
              "  var render_items = [{\"docid\":\"56231730-eba9-409c-ab91-d8629babc2d5\",\"roots\":{\"47d24319-9fbb-40b4-86a0-d894c54489fa\":\"a5f9b7df-d143-4f5b-b4ce-4c8d2e46bf4a\"},\"root_ids\":[\"47d24319-9fbb-40b4-86a0-d894c54489fa\"]}];\n",
              "  var docs = Object.values(docs_json)\n",
              "  if (!docs) {\n",
              "    return\n",
              "  }\n",
              "  const py_version = docs[0].version.replace('rc', '-rc.').replace('.dev', '-dev.')\n",
              "  const is_dev = py_version.indexOf(\"+\") !== -1 || py_version.indexOf(\"-\") !== -1\n",
              "  function embed_document(root) {\n",
              "    var Bokeh = get_bokeh(root)\n",
              "    Bokeh.embed.embed_items_notebook(docs_json, render_items);\n",
              "    for (const render_item of render_items) {\n",
              "      for (const root_id of render_item.root_ids) {\n",
              "\tconst id_el = document.getElementById(root_id)\n",
              "\tif (id_el.children.length && (id_el.children[0].className === 'bk-root')) {\n",
              "\t  const root_el = id_el.children[0]\n",
              "\t  root_el.id = root_el.id + '-rendered'\n",
              "\t}\n",
              "      }\n",
              "    }\n",
              "  }\n",
              "  function get_bokeh(root) {\n",
              "    if (root.Bokeh === undefined) {\n",
              "      return null\n",
              "    } else if (root.Bokeh.version !== py_version && !is_dev) {\n",
              "      if (root.Bokeh.versions === undefined || !root.Bokeh.versions.has(py_version)) {\n",
              "\treturn null\n",
              "      }\n",
              "      return root.Bokeh.versions.get(py_version);\n",
              "    } else if (root.Bokeh.version === py_version) {\n",
              "      return root.Bokeh\n",
              "    }\n",
              "    return null\n",
              "  }\n",
              "  function is_loaded(root) {\n",
              "    var Bokeh = get_bokeh(root)\n",
              "    return (Bokeh != null && Bokeh.Panel !== undefined)\n",
              "  }\n",
              "  if (is_loaded(root)) {\n",
              "    embed_document(root);\n",
              "  } else {\n",
              "    var attempts = 0;\n",
              "    var timer = setInterval(function(root) {\n",
              "      if (is_loaded(root)) {\n",
              "        clearInterval(timer);\n",
              "        embed_document(root);\n",
              "      } else if (document.readyState == \"complete\") {\n",
              "        attempts++;\n",
              "        if (attempts > 200) {\n",
              "          clearInterval(timer);\n",
              "\t  var Bokeh = get_bokeh(root)\n",
              "\t  if (Bokeh == null || Bokeh.Panel == null) {\n",
              "            console.warn(\"Panel: ERROR: Unable to run Panel code because Bokeh or Panel library is missing\");\n",
              "\t  } else {\n",
              "\t    console.warn(\"Panel: WARNING: Attempting to render but not all required libraries could be resolved.\")\n",
              "\t    embed_document(root)\n",
              "\t  }\n",
              "        }\n",
              "      }\n",
              "    }, 25, root)\n",
              "  }\n",
              "})(window);</script>"
            ]
          },
          "metadata": {
            "application/vnd.holoviews_exec.v0+json": {
              "id": "47d24319-9fbb-40b4-86a0-d894c54489fa"
            }
          },
          "output_type": "display_data"
        },
        {
          "data": {
            "application/vnd.jupyter.widget-view+json": {
              "model_id": "3770af4bc0f243b5935eebda15bde789",
              "version_major": 2,
              "version_minor": 0
            },
            "text/plain": [
              "VBox(children=(FloatRangeSlider(value=(0.2, 0.6), continuous_update=False, description='Similarity score:', ma…"
            ]
          },
          "metadata": {},
          "output_type": "display_data"
        },
        {
          "data": {
            "application/vnd.jupyter.widget-view+json": {
              "model_id": "41a377c86aa24b0091c6dc9ae1d783fd",
              "version_major": 2,
              "version_minor": 0
            },
            "text/plain": [
              "HTML(value='<style> .widget-text { width: auto; } </style>')"
            ]
          },
          "metadata": {},
          "output_type": "display_data"
        }
      ],
      "source": [
        "import ipywidgets as widgets\n",
        "from ipywidgets import interact, interact_manual, HTML\n",
        "import plotly.graph_objects as go\n",
        "import panel as pn\n",
        "pn.extension()\n",
        "\n",
        "\n",
        "# interact(slow_function,i=FloatSlider(min=1e5, max=1e7, step=1e5, continuous_update=False));\n",
        "# @interact(x=(-1, 1, .01))\n",
        "\n",
        "#get the min and max values of the df data:\n",
        "\n",
        "baseline = widgets.FloatRangeSlider(\n",
        "    value=[0.2, 0.6],\n",
        "    min=-1.0,\n",
        "    max=1.0,\n",
        "    step=0.1,\n",
        "    description='Similarity score:',\n",
        "    disabled=False,\n",
        "    continuous_update=False,\n",
        "    orientation='horizontal',\n",
        "    readout=True,\n",
        "    readout_format='.1f',\n",
        "    style = {\"description_width\": \"initial\"}\n",
        ")\n",
        "\n",
        "text = df['index_no'].astype(str).unique().tolist()\n",
        "\n",
        "widgets.HBox([baseline])\n",
        "\n",
        "#create an initial plot object:\n",
        "df_map = df.pivot(index= 'index_no', columns='index_yes',  values='ranked_value')\n",
        "trace1 = go.Heatmap(z=df_map.values,\n",
        "                   x=df['index_yes'].astype(str).unique().tolist(),\n",
        "                   y=df['index_no'].astype(str).unique().tolist(),\n",
        "                   hoverongaps = False)\n",
        "#get the column names:\n",
        "l = df.columns.tolist()\n",
        "trace2 = go.Table(\n",
        "    header=dict(values=list(l),\n",
        "                fill_color='paleturquoise',\n",
        "                align='left'),\n",
        "    cells=dict(values=[df[col] for col in l],\n",
        "               fill_color='lavender',\n",
        "               align='left'))\n",
        "fig1 = go.Figure(data=[trace1])\n",
        "\n",
        "fig2 =go.Figure(data=[trace2])\n",
        "for f in [fig1,fig2]:\n",
        "    f.update_layout(\n",
        "        width = 1000,\n",
        "        height = 1500,\n",
        "        yaxis=dict(ticktext = text, tickmode=\"array\", type=\"category\"),\n",
        "        margin=dict(l=5, r=5, t=5, b=5))\n",
        "\n",
        "f1 = go.FigureWidget(fig1)\n",
        "f2 = go.FigureWidget(fig2)\n",
        "\n",
        "def validate():\n",
        "    if baseline.value in df['ranked_value'].unique():\n",
        "        return True\n",
        "    else:\n",
        "        return False\n",
        "\n",
        "def response(change):\n",
        "    try:\n",
        "        if min(baseline.value) >=0:\n",
        "            df_n = df.loc[(min(baseline.value) <= df['ranked_value']) & (df['ranked_value'] <= max(baseline.value))].sort_values(by='ranked_value', ascending=False)\n",
        "        elif min(baseline.value)<0:\n",
        "           df_n = df.loc[(min(baseline.value) <= df['ranked_value']) & (df['ranked_value'] <= max(baseline.value))].sort_values(by='ranked_value', ascending=True) \n",
        "        x1 = df_n.pivot(index= 'index_no', columns='index_yes',  values='ranked_value')\n",
        "\n",
        "        df_n_dict = dict.fromkeys(df_n.columns, '')\n",
        "\n",
        "        with f1.batch_update():\n",
        "            f1.data[0].z = x1\n",
        "        with f2.batch_update():\n",
        "            f2.data[0].header.values = list(df_n_dict) \n",
        "            f2.data[0].cells.values = [df_n[col] for col in df_n_dict]\n",
        "    except:\n",
        "        print('error')\n",
        "\n",
        "\n",
        "baseline.observe(response, names=\"value\")\n",
        "visual_container = widgets.VBox([f1,f2])\n",
        "display(widgets.VBox([baseline, visual_container]))\n",
        "display(HTML('<style> .widget-text { width: auto; } </style>'))"
      ]
    }
  ],
  "metadata": {
    "colab": {
      "authorship_tag": "ABX9TyNRp93mtbdPkVKHxv/AmHKW",
      "include_colab_link": true,
      "provenance": []
    },
    "kernelspec": {
      "display_name": "Python 3",
      "name": "python3"
    },
    "language_info": {
      "codemirror_mode": {
        "name": "ipython",
        "version": 3
      },
      "file_extension": ".py",
      "mimetype": "text/x-python",
      "name": "python",
      "nbconvert_exporter": "python",
      "pygments_lexer": "ipython3",
      "version": "3.11.5"
    }
  },
  "nbformat": 4,
  "nbformat_minor": 0
}
